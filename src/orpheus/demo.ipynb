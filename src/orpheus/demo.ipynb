{
 "cells": [
  {
   "cell_type": "markdown",
   "id": "364459c9",
   "metadata": {},
   "source": [
    "# Functions demo for OrpheusDT"
   ]
  },
  {
   "cell_type": "code",
   "execution_count": 2,
   "id": "bbabfe8b",
   "metadata": {},
   "outputs": [],
   "source": [
    "import pandas as pd\n",
    "from orpheus import OrpheusDT\n",
    "from sklearn.tree import DecisionTreeClassifier"
   ]
  },
  {
   "cell_type": "markdown",
   "id": "129603c9",
   "metadata": {},
   "source": [
    "## Data preprocessing"
   ]
  },
  {
   "cell_type": "code",
   "execution_count": 3,
   "id": "7e263477",
   "metadata": {},
   "outputs": [
    {
     "data": {
      "text/html": [
       "<div>\n",
       "<style scoped>\n",
       "    .dataframe tbody tr th:only-of-type {\n",
       "        vertical-align: middle;\n",
       "    }\n",
       "\n",
       "    .dataframe tbody tr th {\n",
       "        vertical-align: top;\n",
       "    }\n",
       "\n",
       "    .dataframe thead th {\n",
       "        text-align: right;\n",
       "    }\n",
       "</style>\n",
       "<table border=\"1\" class=\"dataframe\">\n",
       "  <thead>\n",
       "    <tr style=\"text-align: right;\">\n",
       "      <th></th>\n",
       "      <th>ID</th>\n",
       "      <th>Name</th>\n",
       "      <th>Age</th>\n",
       "      <th>Occupation</th>\n",
       "      <th>Gender</th>\n",
       "      <th>Same_ofiice_home_location</th>\n",
       "      <th>kids</th>\n",
       "      <th>RM_save_money</th>\n",
       "      <th>RM_quality_time</th>\n",
       "      <th>RM_better_sleep</th>\n",
       "      <th>calmer_stressed</th>\n",
       "      <th>RM_professional_growth</th>\n",
       "      <th>RM_lazy</th>\n",
       "      <th>RM_productive</th>\n",
       "      <th>digital_connect_sufficient</th>\n",
       "      <th>RM_better_work_life_balance</th>\n",
       "      <th>RM_improved_skillset</th>\n",
       "      <th>RM_job_opportunities</th>\n",
       "      <th>Target</th>\n",
       "    </tr>\n",
       "  </thead>\n",
       "  <tbody>\n",
       "    <tr>\n",
       "      <th>0</th>\n",
       "      <td>1</td>\n",
       "      <td>Bhavana</td>\n",
       "      <td>45</td>\n",
       "      <td>Tutor</td>\n",
       "      <td>Female</td>\n",
       "      <td>Yes</td>\n",
       "      <td>Yes</td>\n",
       "      <td>Yes</td>\n",
       "      <td>Yes</td>\n",
       "      <td>Yes</td>\n",
       "      <td>CALMER</td>\n",
       "      <td>5</td>\n",
       "      <td>1</td>\n",
       "      <td>5</td>\n",
       "      <td>Yes</td>\n",
       "      <td>5</td>\n",
       "      <td>5</td>\n",
       "      <td>Yes</td>\n",
       "      <td>1</td>\n",
       "    </tr>\n",
       "    <tr>\n",
       "      <th>1</th>\n",
       "      <td>2</td>\n",
       "      <td>Harry</td>\n",
       "      <td>24</td>\n",
       "      <td>Tutor</td>\n",
       "      <td>Male</td>\n",
       "      <td>No</td>\n",
       "      <td>No</td>\n",
       "      <td>No</td>\n",
       "      <td>No</td>\n",
       "      <td>No</td>\n",
       "      <td>CALMER</td>\n",
       "      <td>2</td>\n",
       "      <td>2</td>\n",
       "      <td>2</td>\n",
       "      <td>No</td>\n",
       "      <td>3</td>\n",
       "      <td>3</td>\n",
       "      <td>No</td>\n",
       "      <td>1</td>\n",
       "    </tr>\n",
       "    <tr>\n",
       "      <th>2</th>\n",
       "      <td>3</td>\n",
       "      <td>Banditaa</td>\n",
       "      <td>53</td>\n",
       "      <td>HR</td>\n",
       "      <td>Female</td>\n",
       "      <td>Yes</td>\n",
       "      <td>Yes</td>\n",
       "      <td>Yes</td>\n",
       "      <td>Yes</td>\n",
       "      <td>Yes</td>\n",
       "      <td>CALMER</td>\n",
       "      <td>3</td>\n",
       "      <td>3</td>\n",
       "      <td>4</td>\n",
       "      <td>No</td>\n",
       "      <td>5</td>\n",
       "      <td>3</td>\n",
       "      <td>No</td>\n",
       "      <td>1</td>\n",
       "    </tr>\n",
       "    <tr>\n",
       "      <th>3</th>\n",
       "      <td>4</td>\n",
       "      <td>Neetha</td>\n",
       "      <td>26</td>\n",
       "      <td>Engineer</td>\n",
       "      <td>Female</td>\n",
       "      <td>Yes</td>\n",
       "      <td>No</td>\n",
       "      <td>Yes</td>\n",
       "      <td>Yes</td>\n",
       "      <td>No</td>\n",
       "      <td>STRESSED</td>\n",
       "      <td>3</td>\n",
       "      <td>4</td>\n",
       "      <td>4</td>\n",
       "      <td>No</td>\n",
       "      <td>4</td>\n",
       "      <td>5</td>\n",
       "      <td>Yes</td>\n",
       "      <td>0</td>\n",
       "    </tr>\n",
       "    <tr>\n",
       "      <th>4</th>\n",
       "      <td>5</td>\n",
       "      <td>Ram</td>\n",
       "      <td>26</td>\n",
       "      <td>Recruiter</td>\n",
       "      <td>Male</td>\n",
       "      <td>Yes</td>\n",
       "      <td>No</td>\n",
       "      <td>No</td>\n",
       "      <td>Yes</td>\n",
       "      <td>No</td>\n",
       "      <td>STRESSED</td>\n",
       "      <td>3</td>\n",
       "      <td>3</td>\n",
       "      <td>5</td>\n",
       "      <td>Yes</td>\n",
       "      <td>4</td>\n",
       "      <td>2</td>\n",
       "      <td>Yes</td>\n",
       "      <td>1</td>\n",
       "    </tr>\n",
       "  </tbody>\n",
       "</table>\n",
       "</div>"
      ],
      "text/plain": [
       "   ID      Name  Age Occupation  Gender Same_ofiice_home_location kids  \\\n",
       "0   1   Bhavana   45      Tutor  Female                       Yes  Yes   \n",
       "1   2     Harry   24      Tutor    Male                        No   No   \n",
       "2   3  Banditaa   53         HR  Female                       Yes  Yes   \n",
       "3   4    Neetha   26   Engineer  Female                       Yes   No   \n",
       "4   5       Ram   26  Recruiter    Male                       Yes   No   \n",
       "\n",
       "  RM_save_money RM_quality_time RM_better_sleep calmer_stressed  \\\n",
       "0           Yes             Yes             Yes          CALMER   \n",
       "1            No              No              No          CALMER   \n",
       "2           Yes             Yes             Yes          CALMER   \n",
       "3           Yes             Yes              No        STRESSED   \n",
       "4            No             Yes              No        STRESSED   \n",
       "\n",
       "   RM_professional_growth  RM_lazy  RM_productive digital_connect_sufficient  \\\n",
       "0                       5        1              5                        Yes   \n",
       "1                       2        2              2                         No   \n",
       "2                       3        3              4                         No   \n",
       "3                       3        4              4                         No   \n",
       "4                       3        3              5                        Yes   \n",
       "\n",
       "   RM_better_work_life_balance  RM_improved_skillset RM_job_opportunities  \\\n",
       "0                            5                     5                  Yes   \n",
       "1                            3                     3                   No   \n",
       "2                            5                     3                   No   \n",
       "3                            4                     5                  Yes   \n",
       "4                            4                     2                  Yes   \n",
       "\n",
       "   Target  \n",
       "0       1  \n",
       "1       1  \n",
       "2       1  \n",
       "3       0  \n",
       "4       1  "
      ]
     },
     "execution_count": 3,
     "metadata": {},
     "output_type": "execute_result"
    }
   ],
   "source": [
    "csv_name = './data/WFH_WFO_dataset.csv'\n",
    "df = pd.read_csv(csv_name)\n",
    "df.head()"
   ]
  },
  {
   "cell_type": "code",
   "execution_count": 4,
   "id": "f8ca2cc4",
   "metadata": {},
   "outputs": [],
   "source": [
    "target = 'Target'\n",
    "features_exclude = ['ID', 'Name']\n",
    "features_yesno = [\n",
    "    'Same_ofiice_home_location', \n",
    "    'kids',\n",
    "    'RM_save_money',\n",
    "    'RM_quality_time',\n",
    "    'RM_better_sleep',\n",
    "    'digital_connect_sufficient',\n",
    "    'RM_job_opportunities'\n",
    "]"
   ]
  },
  {
   "cell_type": "code",
   "execution_count": 5,
   "id": "ef80feec",
   "metadata": {},
   "outputs": [],
   "source": [
    "df_train = pd.get_dummies(df[[i for i in df.columns if i not in features_exclude]].copy())"
   ]
  },
  {
   "cell_type": "code",
   "execution_count": 6,
   "id": "76a8ac04",
   "metadata": {},
   "outputs": [],
   "source": [
    "feature_names = [i for i in df_train.columns if i != target]\n",
    "X = df_train[feature_names]\n",
    "y = df_train[target]"
   ]
  },
  {
   "cell_type": "markdown",
   "id": "050824bd",
   "metadata": {},
   "source": [
    "## Set up different versions of data"
   ]
  },
  {
   "cell_type": "code",
   "execution_count": 7,
   "id": "37374adc",
   "metadata": {},
   "outputs": [],
   "source": [
    "data_versions = {\n",
    "    'version1': (X.iloc[:100].copy(), y.iloc[:100].copy()),\n",
    "    'version2': (X.iloc[:120].copy(), y.iloc[:120].copy()),\n",
    "    'version3': (X.iloc[:150].copy(), y.iloc[:150].copy()),\n",
    "    'version4': (X.iloc[:180].copy(), y.iloc[:180].copy()),\n",
    "    'version5': (X.copy(), y.copy()),\n",
    "}"
   ]
  },
  {
   "cell_type": "code",
   "execution_count": 8,
   "id": "d71eac79",
   "metadata": {},
   "outputs": [],
   "source": [
    "# from IPython.display import display\n",
    "# for _, d in data_versions.items():\n",
    "#     display(d[0].isna().sum())\n"
   ]
  },
  {
   "cell_type": "markdown",
   "id": "417e8a1e",
   "metadata": {},
   "source": [
    "## Start OrpheusDT"
   ]
  },
  {
   "cell_type": "markdown",
   "id": "4e76bee5",
   "metadata": {},
   "source": [
    "## Instance OrpheusDT with your task name and your name"
   ]
  },
  {
   "cell_type": "code",
   "execution_count": 9,
   "id": "c1557c9d",
   "metadata": {},
   "outputs": [],
   "source": [
    "orpheusDT = OrpheusDT(\n",
    "    \"WFH_WFO\",\n",
    "    \"Alex\"\n",
    ")"
   ]
  },
  {
   "cell_type": "markdown",
   "id": "cd23d711",
   "metadata": {},
   "source": [
    "## There are 3 training modes\n",
    "### 1. new data + new model\n",
    "     orpheus_instance.train(data_name, X, y, model_name, model)\n",
    "\n",
    "### 2. new data + existed model\n",
    "     orpheus_instance.train(data_name, X, y, model_name)\n",
    "\n",
    "### 3. existed data + new model\n",
    "     orpheus_instance.train(data_name, model_name, model)\n"
   ]
  },
  {
   "cell_type": "markdown",
   "id": "ad4b397c",
   "metadata": {},
   "source": [
    "## 1. Training with new data + new model\n"
   ]
  },
  {
   "cell_type": "code",
   "execution_count": null,
   "id": "1d7cb10c",
   "metadata": {
    "pycharm": {
     "is_executing": true
    }
   },
   "outputs": [],
   "source": [
    "# Data preparation\n",
    "\n",
    "data_name = 'version3'\n",
    "X = data_versions[data_name][0]\n",
    "y = data_versions[data_name][1]\n",
    "# Model preparation\n",
    "model_name = \"dfc_v1\"\n",
    "model = DecisionTreeClassifier()\n",
    "\n",
    "# Train\n",
    "orpheusDT.train(data_name, X, y, model_name, model)\n"
   ]
  },
  {
   "cell_type": "markdown",
   "id": "47afaec2",
   "metadata": {},
   "source": [
    "## 2. Training with new data + existed model"
   ]
  },
  {
   "cell_type": "code",
   "execution_count": null,
   "id": "c5ce26cc",
   "metadata": {},
   "outputs": [],
   "source": [
    "# Data preparation\n",
    "data_name = 'version5'\n",
    "X = data_versions[data_name][0]\n",
    "y = data_versions[data_name][1]\n",
    "# Model preparation\n",
    "model_name = \"dfc_v1\"\n",
    "model = DecisionTreeClassifier()\n",
    "\n",
    "# Train\n",
    "orpheusDT.train(data_name, X, y, model_name)"
   ]
  },
  {
   "cell_type": "markdown",
   "id": "5fabf522",
   "metadata": {},
   "source": [
    "## 3. Training with existed data + new model\n"
   ]
  },
  {
   "cell_type": "code",
   "execution_count": null,
   "id": "2848ce63",
   "metadata": {},
   "outputs": [],
   "source": [
    "# Data preparation\n",
    "data_name = 'version1'\n",
    "\n",
    "# Model preparation\n",
    "model_name = \"dfc_v2\"\n",
    "model = DecisionTreeClassifier()\n",
    "\n",
    "# Train\n",
    "orpheusDT.train(data_name, model_name, model)"
   ]
  },
  {
   "cell_type": "markdown",
   "id": "392b97dc",
   "metadata": {},
   "source": [
    "## Show the difference of last and current training under specified data version\n",
    "orpheusDT.show_diff(data_name)\n",
    "\n"
   ]
  },
  {
   "cell_type": "code",
   "execution_count": null,
   "id": "ed5e2bad",
   "metadata": {},
   "outputs": [],
   "source": [
    "# Data preparation\n",
    "data_name = 'version1'\n",
    "\n",
    "# Model preparation\n",
    "model_name = \"dfc_v3\"\n",
    "model = DecisionTreeClassifier()\n",
    "\n",
    "# Train\n",
    "orpheusDT.train(data_name, model_name, model)\n",
    "\n",
    "# show difference\n",
    "orpheusDT.show_diff(data_name)\n"
   ]
  },
  {
   "cell_type": "markdown",
   "id": "b9962cdb",
   "metadata": {},
   "source": [
    "## Based on one existing data, view all the model that had trained on it\n",
    "## The model is ordered by evaluation score\n",
    "orpheusDT.view_all_model(data_name)\n"
   ]
  },
  {
   "cell_type": "code",
   "execution_count": null,
   "id": "e223276d",
   "metadata": {},
   "outputs": [],
   "source": [
    "data_name = 'version1'\n",
    "orpheusDT.view_all_model(data_name)\n"
   ]
  },
  {
   "cell_type": "markdown",
   "id": "8557795f",
   "metadata": {},
   "source": [
    "## View all the data that saved in database\n",
    "orpheusDT.view_all_data()\n",
    "\n"
   ]
  },
  {
   "cell_type": "code",
   "execution_count": null,
   "id": "c26fc7a6",
   "metadata": {},
   "outputs": [],
   "source": [
    "orpheusDT.view_all_data()\n"
   ]
  },
  {
   "cell_type": "markdown",
   "id": "99b3574c",
   "metadata": {},
   "source": [
    "## Delete specified data or set data_name to \"all\" to delete all data\n",
    "orpheus_instance.delete_data(deleted_data_name)\n"
   ]
  },
  {
   "cell_type": "code",
   "execution_count": null,
   "id": "5601a443",
   "metadata": {},
   "outputs": [],
   "source": [
    "deleted_data_name = 'version1'\n",
    "\n",
    "orpheusDT.view_all_data()\n",
    "orpheusDT.delete_data(deleted_data_name)\n",
    "orpheusDT.view_all_data()"
   ]
  },
  {
   "cell_type": "markdown",
   "id": "082f42b1",
   "metadata": {},
   "source": [
    "## Fixed input, show different models' prediction\n",
    "orpheusDT.view_models_with_input(simple_row, model_list)\n"
   ]
  },
  {
   "cell_type": "code",
   "execution_count": null,
   "id": "4d7fbb05",
   "metadata": {},
   "outputs": [],
   "source": [
    "X = data_versions['version2'][0]\n",
    "new_row_pandas = X.loc[0].to_frame().T\n",
    "\n",
    "orpheusDT.view_models_with_input(new_row_pandas, [\"dfc_v1\", \"dfc_v2\"])\n"
   ]
  },
  {
   "cell_type": "markdown",
   "id": "802f57e0",
   "metadata": {},
   "source": [
    "## Manually Save data to database\n",
    "orpheusDT.save_Data_to_DB(data_name, X, y)\n",
    "\n"
   ]
  },
  {
   "cell_type": "code",
   "execution_count": null,
   "id": "726b4142",
   "metadata": {},
   "outputs": [],
   "source": [
    "# Data preparation\n",
    "data_name = 'version5'\n",
    "X = data_versions[data_name][0]\n",
    "y = data_versions[data_name][1]\n",
    "\n",
    "\n",
    "orpheusDT.save_Data_to_DB(data_name, X, y)\n"
   ]
  },
  {
   "cell_type": "markdown",
   "id": "cdd22484",
   "metadata": {},
   "source": [
    "## Restore database by snapshot\n",
    "orpheusDT.restore_DB()\n",
    "\n"
   ]
  },
  {
   "cell_type": "code",
   "execution_count": null,
   "id": "4c9afe6c",
   "metadata": {},
   "outputs": [],
   "source": [
    "orpheusDT.restore_DB()\n"
   ]
  },
  {
   "cell_type": "markdown",
   "id": "164db742",
   "metadata": {},
   "source": [
    "## Reminder of possible incompatibility due to differnet sklearn version"
   ]
  },
  {
   "cell_type": "code",
   "execution_count": null,
   "id": "8d3f0004",
   "metadata": {},
   "outputs": [],
   "source": [
    "# ! pip install scikit-learn==1.0.2\n",
    "import sklearn\n",
    "sklearn.__version__"
   ]
  },
  {
   "cell_type": "code",
   "execution_count": null,
   "id": "606b463a",
   "metadata": {},
   "outputs": [],
   "source": [
    "# Data preparation\n",
    "data_name = 'version1'\n",
    "\n",
    "# Model preparation\n",
    "model_name = \"dfc_v2\"\n",
    "\n",
    "# Train\n",
    "orpheusDT.train(data_name, model_name)"
   ]
  },
  {
   "cell_type": "code",
   "execution_count": null,
   "id": "bbd9e6db",
   "metadata": {},
   "outputs": [],
   "source": [
    "## Inspect model by specifying "
   ]
  },
  {
   "cell_type": "markdown",
   "id": "ce5994a3",
   "metadata": {},
   "source": [
    "## Model audition"
   ]
  },
  {
   "cell_type": "code",
   "execution_count": 13,
   "id": "a4ce82e3",
   "metadata": {},
   "outputs": [
    {
     "name": "stdout",
     "output_type": "stream",
     "text": [
      "data_name    model_name    requires_positive_X    X_types    multioutput    allow_nan    pass_rate\n",
      "-----------  ------------  ---------------------  ---------  -------------  -----------  -----------\n",
      "version1     dfc_v1        X                      pass       pass           pass         75%\n",
      "version1     dfc_v2        pass                   pass       pass           pass         100%\n",
      "version1     dfc_v3        pass                   pass       pass           pass         100%\n",
      "version1     dfc_v4        pass                   pass       pass           pass         100%\n",
      "version2     dfc_v1        X                      pass       X              pass         50%\n",
      "version3     dfc_v1        pass                   pass       pass           pass         100%\n",
      "version4     dfc_v1        X                      pass       pass           pass         75%\n"
     ]
    }
   ],
   "source": [
    "    example_tags = {\n",
    "        \"requires_positive_X\": False,\n",
    "        \"X_types\": [\n",
    "            \"2darray\"\n",
    "        ],\n",
    "        \"multioutput\": True,\n",
    "        \"allow_nan\": False,\n",
    "    }\n",
    "\n",
    "    orpheusDT.model_audition(example_tags)\n"
   ]
  }
 ],
 "metadata": {
  "kernelspec": {
   "display_name": "Python 3 (ipykernel)",
   "language": "python",
   "name": "python3"
  },
  "language_info": {
   "codemirror_mode": {
    "name": "ipython",
    "version": 3
   },
   "file_extension": ".py",
   "mimetype": "text/x-python",
   "name": "python",
   "nbconvert_exporter": "python",
   "pygments_lexer": "ipython3",
   "version": "3.9.7"
  }
 },
 "nbformat": 4,
 "nbformat_minor": 5
}