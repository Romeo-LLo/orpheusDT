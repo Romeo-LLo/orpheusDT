{
 "cells": [
  {
   "cell_type": "markdown",
   "id": "364459c9",
   "metadata": {},
   "source": [
    "# Functions demo for OrpheusDT"
   ]
  },
  {
   "cell_type": "code",
   "execution_count": 33,
   "id": "bbabfe8b",
   "metadata": {},
   "outputs": [],
   "source": [
    "import pandas as pd\n",
    "from orpheus import OrpheusDT\n",
    "from sklearn.tree import DecisionTreeClassifier"
   ]
  },
  {
   "cell_type": "markdown",
   "id": "129603c9",
   "metadata": {},
   "source": [
    "## Data preprocessing"
   ]
  },
  {
   "cell_type": "code",
   "execution_count": 34,
   "id": "7e263477",
   "metadata": {},
   "outputs": [
    {
     "data": {
      "text/html": [
       "<div>\n",
       "<style scoped>\n",
       "    .dataframe tbody tr th:only-of-type {\n",
       "        vertical-align: middle;\n",
       "    }\n",
       "\n",
       "    .dataframe tbody tr th {\n",
       "        vertical-align: top;\n",
       "    }\n",
       "\n",
       "    .dataframe thead th {\n",
       "        text-align: right;\n",
       "    }\n",
       "</style>\n",
       "<table border=\"1\" class=\"dataframe\">\n",
       "  <thead>\n",
       "    <tr style=\"text-align: right;\">\n",
       "      <th></th>\n",
       "      <th>ID</th>\n",
       "      <th>Name</th>\n",
       "      <th>Age</th>\n",
       "      <th>Occupation</th>\n",
       "      <th>Gender</th>\n",
       "      <th>Same_ofiice_home_location</th>\n",
       "      <th>kids</th>\n",
       "      <th>RM_save_money</th>\n",
       "      <th>RM_quality_time</th>\n",
       "      <th>RM_better_sleep</th>\n",
       "      <th>calmer_stressed</th>\n",
       "      <th>RM_professional_growth</th>\n",
       "      <th>RM_lazy</th>\n",
       "      <th>RM_productive</th>\n",
       "      <th>digital_connect_sufficient</th>\n",
       "      <th>RM_better_work_life_balance</th>\n",
       "      <th>RM_improved_skillset</th>\n",
       "      <th>RM_job_opportunities</th>\n",
       "      <th>Target</th>\n",
       "    </tr>\n",
       "  </thead>\n",
       "  <tbody>\n",
       "    <tr>\n",
       "      <th>0</th>\n",
       "      <td>1</td>\n",
       "      <td>Bhavana</td>\n",
       "      <td>45</td>\n",
       "      <td>Tutor</td>\n",
       "      <td>Female</td>\n",
       "      <td>Yes</td>\n",
       "      <td>Yes</td>\n",
       "      <td>Yes</td>\n",
       "      <td>Yes</td>\n",
       "      <td>Yes</td>\n",
       "      <td>CALMER</td>\n",
       "      <td>5</td>\n",
       "      <td>1</td>\n",
       "      <td>5</td>\n",
       "      <td>Yes</td>\n",
       "      <td>5</td>\n",
       "      <td>5</td>\n",
       "      <td>Yes</td>\n",
       "      <td>1</td>\n",
       "    </tr>\n",
       "    <tr>\n",
       "      <th>1</th>\n",
       "      <td>2</td>\n",
       "      <td>Harry</td>\n",
       "      <td>24</td>\n",
       "      <td>Tutor</td>\n",
       "      <td>Male</td>\n",
       "      <td>No</td>\n",
       "      <td>No</td>\n",
       "      <td>No</td>\n",
       "      <td>No</td>\n",
       "      <td>No</td>\n",
       "      <td>CALMER</td>\n",
       "      <td>2</td>\n",
       "      <td>2</td>\n",
       "      <td>2</td>\n",
       "      <td>No</td>\n",
       "      <td>3</td>\n",
       "      <td>3</td>\n",
       "      <td>No</td>\n",
       "      <td>1</td>\n",
       "    </tr>\n",
       "    <tr>\n",
       "      <th>2</th>\n",
       "      <td>3</td>\n",
       "      <td>Banditaa</td>\n",
       "      <td>53</td>\n",
       "      <td>HR</td>\n",
       "      <td>Female</td>\n",
       "      <td>Yes</td>\n",
       "      <td>Yes</td>\n",
       "      <td>Yes</td>\n",
       "      <td>Yes</td>\n",
       "      <td>Yes</td>\n",
       "      <td>CALMER</td>\n",
       "      <td>3</td>\n",
       "      <td>3</td>\n",
       "      <td>4</td>\n",
       "      <td>No</td>\n",
       "      <td>5</td>\n",
       "      <td>3</td>\n",
       "      <td>No</td>\n",
       "      <td>1</td>\n",
       "    </tr>\n",
       "    <tr>\n",
       "      <th>3</th>\n",
       "      <td>4</td>\n",
       "      <td>Neetha</td>\n",
       "      <td>26</td>\n",
       "      <td>Engineer</td>\n",
       "      <td>Female</td>\n",
       "      <td>Yes</td>\n",
       "      <td>No</td>\n",
       "      <td>Yes</td>\n",
       "      <td>Yes</td>\n",
       "      <td>No</td>\n",
       "      <td>STRESSED</td>\n",
       "      <td>3</td>\n",
       "      <td>4</td>\n",
       "      <td>4</td>\n",
       "      <td>No</td>\n",
       "      <td>4</td>\n",
       "      <td>5</td>\n",
       "      <td>Yes</td>\n",
       "      <td>0</td>\n",
       "    </tr>\n",
       "    <tr>\n",
       "      <th>4</th>\n",
       "      <td>5</td>\n",
       "      <td>Ram</td>\n",
       "      <td>26</td>\n",
       "      <td>Recruiter</td>\n",
       "      <td>Male</td>\n",
       "      <td>Yes</td>\n",
       "      <td>No</td>\n",
       "      <td>No</td>\n",
       "      <td>Yes</td>\n",
       "      <td>No</td>\n",
       "      <td>STRESSED</td>\n",
       "      <td>3</td>\n",
       "      <td>3</td>\n",
       "      <td>5</td>\n",
       "      <td>Yes</td>\n",
       "      <td>4</td>\n",
       "      <td>2</td>\n",
       "      <td>Yes</td>\n",
       "      <td>1</td>\n",
       "    </tr>\n",
       "  </tbody>\n",
       "</table>\n",
       "</div>"
      ],
      "text/plain": [
       "   ID      Name  Age Occupation  Gender Same_ofiice_home_location kids  \\\n",
       "0   1   Bhavana   45      Tutor  Female                       Yes  Yes   \n",
       "1   2     Harry   24      Tutor    Male                        No   No   \n",
       "2   3  Banditaa   53         HR  Female                       Yes  Yes   \n",
       "3   4    Neetha   26   Engineer  Female                       Yes   No   \n",
       "4   5       Ram   26  Recruiter    Male                       Yes   No   \n",
       "\n",
       "  RM_save_money RM_quality_time RM_better_sleep calmer_stressed  \\\n",
       "0           Yes             Yes             Yes          CALMER   \n",
       "1            No              No              No          CALMER   \n",
       "2           Yes             Yes             Yes          CALMER   \n",
       "3           Yes             Yes              No        STRESSED   \n",
       "4            No             Yes              No        STRESSED   \n",
       "\n",
       "   RM_professional_growth  RM_lazy  RM_productive digital_connect_sufficient  \\\n",
       "0                       5        1              5                        Yes   \n",
       "1                       2        2              2                         No   \n",
       "2                       3        3              4                         No   \n",
       "3                       3        4              4                         No   \n",
       "4                       3        3              5                        Yes   \n",
       "\n",
       "   RM_better_work_life_balance  RM_improved_skillset RM_job_opportunities  \\\n",
       "0                            5                     5                  Yes   \n",
       "1                            3                     3                   No   \n",
       "2                            5                     3                   No   \n",
       "3                            4                     5                  Yes   \n",
       "4                            4                     2                  Yes   \n",
       "\n",
       "   Target  \n",
       "0       1  \n",
       "1       1  \n",
       "2       1  \n",
       "3       0  \n",
       "4       1  "
      ]
     },
     "execution_count": 34,
     "metadata": {},
     "output_type": "execute_result"
    }
   ],
   "source": [
    "csv_name = './data/WFH_WFO_dataset.csv'\n",
    "df = pd.read_csv(csv_name)\n",
    "df.head()"
   ]
  },
  {
   "cell_type": "code",
   "execution_count": 35,
   "id": "71a1cd08",
   "metadata": {},
   "outputs": [
    {
     "data": {
      "text/plain": [
       "ID                             0\n",
       "Name                           0\n",
       "Age                            0\n",
       "Occupation                     0\n",
       "Gender                         0\n",
       "Same_ofiice_home_location      0\n",
       "kids                           0\n",
       "RM_save_money                  0\n",
       "RM_quality_time                0\n",
       "RM_better_sleep                0\n",
       "calmer_stressed                0\n",
       "RM_professional_growth         0\n",
       "RM_lazy                        0\n",
       "RM_productive                  0\n",
       "digital_connect_sufficient     0\n",
       "RM_better_work_life_balance    0\n",
       "RM_improved_skillset           0\n",
       "RM_job_opportunities           0\n",
       "Target                         0\n",
       "dtype: int64"
      ]
     },
     "execution_count": 35,
     "metadata": {},
     "output_type": "execute_result"
    }
   ],
   "source": [
    "df.isna().sum()"
   ]
  },
  {
   "cell_type": "code",
   "execution_count": 36,
   "id": "f8ca2cc4",
   "metadata": {},
   "outputs": [],
   "source": [
    "target = 'Target'\n",
    "features_exclude = ['ID', 'Name']\n",
    "features_yesno = [\n",
    "    'Same_ofiice_home_location', \n",
    "    'kids',\n",
    "    'RM_save_money',\n",
    "    'RM_quality_time',\n",
    "    'RM_better_sleep',\n",
    "    'digital_connect_sufficient',\n",
    "    'RM_job_opportunities'\n",
    "]"
   ]
  },
  {
   "cell_type": "code",
   "execution_count": 37,
   "id": "ef80feec",
   "metadata": {},
   "outputs": [],
   "source": [
    "df_train = pd.get_dummies(df[[i for i in df.columns if i not in features_exclude]].copy())"
   ]
  },
  {
   "cell_type": "code",
   "execution_count": 38,
   "id": "76a8ac04",
   "metadata": {},
   "outputs": [],
   "source": [
    "feature_names = [i for i in df_train.columns if i != target]\n",
    "X = df_train[feature_names]\n",
    "y = df_train[target]"
   ]
  },
  {
   "cell_type": "markdown",
   "id": "050824bd",
   "metadata": {},
   "source": [
    "## Set up different versions of data"
   ]
  },
  {
   "cell_type": "code",
   "execution_count": 39,
   "id": "37374adc",
   "metadata": {},
   "outputs": [],
   "source": [
    "data_versions = {\n",
    "    'version1': (X.iloc[:100].copy(), y.iloc[:100].copy()),\n",
    "    'version2': (X.iloc[:120].copy(), y.iloc[:120].copy()),\n",
    "    'version3': (X.iloc[:150].copy(), y.iloc[:150].copy()),\n",
    "    'version4': (X.iloc[:180].copy(), y.iloc[:180].copy()),\n",
    "    'version5': (X.copy(), y.copy()),\n",
    "}"
   ]
  },
  {
   "cell_type": "code",
   "execution_count": 40,
   "id": "d71eac79",
   "metadata": {},
   "outputs": [
    {
     "data": {
      "text/plain": [
       "Age                               0\n",
       "RM_professional_growth            0\n",
       "RM_lazy                           0\n",
       "RM_productive                     0\n",
       "RM_better_work_life_balance       0\n",
       "RM_improved_skillset              0\n",
       "Occupation_Business               0\n",
       "Occupation_Engineer               0\n",
       "Occupation_HR                     0\n",
       "Occupation_Manager                0\n",
       "Occupation_Marketing              0\n",
       "Occupation_Recruiter              0\n",
       "Occupation_Tutor                  0\n",
       "Gender_Female                     0\n",
       "Gender_Male                       0\n",
       "Same_ofiice_home_location_No      0\n",
       "Same_ofiice_home_location_Yes     0\n",
       "Same_ofiice_home_location_yes     0\n",
       "kids_No                           0\n",
       "kids_Yes                          0\n",
       "RM_save_money_No                  0\n",
       "RM_save_money_Yes                 0\n",
       "RM_quality_time_No                0\n",
       "RM_quality_time_Yes               0\n",
       "RM_better_sleep_No                0\n",
       "RM_better_sleep_Yes               0\n",
       "calmer_stressed_CALMER            0\n",
       "calmer_stressed_STRESSED          0\n",
       "digital_connect_sufficient_No     0\n",
       "digital_connect_sufficient_Yes    0\n",
       "RM_job_opportunities_No           0\n",
       "RM_job_opportunities_Not sure     0\n",
       "RM_job_opportunities_Yes          0\n",
       "dtype: int64"
      ]
     },
     "metadata": {},
     "output_type": "display_data"
    },
    {
     "data": {
      "text/plain": [
       "Age                               0\n",
       "RM_professional_growth            0\n",
       "RM_lazy                           0\n",
       "RM_productive                     0\n",
       "RM_better_work_life_balance       0\n",
       "RM_improved_skillset              0\n",
       "Occupation_Business               0\n",
       "Occupation_Engineer               0\n",
       "Occupation_HR                     0\n",
       "Occupation_Manager                0\n",
       "Occupation_Marketing              0\n",
       "Occupation_Recruiter              0\n",
       "Occupation_Tutor                  0\n",
       "Gender_Female                     0\n",
       "Gender_Male                       0\n",
       "Same_ofiice_home_location_No      0\n",
       "Same_ofiice_home_location_Yes     0\n",
       "Same_ofiice_home_location_yes     0\n",
       "kids_No                           0\n",
       "kids_Yes                          0\n",
       "RM_save_money_No                  0\n",
       "RM_save_money_Yes                 0\n",
       "RM_quality_time_No                0\n",
       "RM_quality_time_Yes               0\n",
       "RM_better_sleep_No                0\n",
       "RM_better_sleep_Yes               0\n",
       "calmer_stressed_CALMER            0\n",
       "calmer_stressed_STRESSED          0\n",
       "digital_connect_sufficient_No     0\n",
       "digital_connect_sufficient_Yes    0\n",
       "RM_job_opportunities_No           0\n",
       "RM_job_opportunities_Not sure     0\n",
       "RM_job_opportunities_Yes          0\n",
       "dtype: int64"
      ]
     },
     "metadata": {},
     "output_type": "display_data"
    },
    {
     "data": {
      "text/plain": [
       "Age                               0\n",
       "RM_professional_growth            0\n",
       "RM_lazy                           0\n",
       "RM_productive                     0\n",
       "RM_better_work_life_balance       0\n",
       "RM_improved_skillset              0\n",
       "Occupation_Business               0\n",
       "Occupation_Engineer               0\n",
       "Occupation_HR                     0\n",
       "Occupation_Manager                0\n",
       "Occupation_Marketing              0\n",
       "Occupation_Recruiter              0\n",
       "Occupation_Tutor                  0\n",
       "Gender_Female                     0\n",
       "Gender_Male                       0\n",
       "Same_ofiice_home_location_No      0\n",
       "Same_ofiice_home_location_Yes     0\n",
       "Same_ofiice_home_location_yes     0\n",
       "kids_No                           0\n",
       "kids_Yes                          0\n",
       "RM_save_money_No                  0\n",
       "RM_save_money_Yes                 0\n",
       "RM_quality_time_No                0\n",
       "RM_quality_time_Yes               0\n",
       "RM_better_sleep_No                0\n",
       "RM_better_sleep_Yes               0\n",
       "calmer_stressed_CALMER            0\n",
       "calmer_stressed_STRESSED          0\n",
       "digital_connect_sufficient_No     0\n",
       "digital_connect_sufficient_Yes    0\n",
       "RM_job_opportunities_No           0\n",
       "RM_job_opportunities_Not sure     0\n",
       "RM_job_opportunities_Yes          0\n",
       "dtype: int64"
      ]
     },
     "metadata": {},
     "output_type": "display_data"
    },
    {
     "data": {
      "text/plain": [
       "Age                               0\n",
       "RM_professional_growth            0\n",
       "RM_lazy                           0\n",
       "RM_productive                     0\n",
       "RM_better_work_life_balance       0\n",
       "RM_improved_skillset              0\n",
       "Occupation_Business               0\n",
       "Occupation_Engineer               0\n",
       "Occupation_HR                     0\n",
       "Occupation_Manager                0\n",
       "Occupation_Marketing              0\n",
       "Occupation_Recruiter              0\n",
       "Occupation_Tutor                  0\n",
       "Gender_Female                     0\n",
       "Gender_Male                       0\n",
       "Same_ofiice_home_location_No      0\n",
       "Same_ofiice_home_location_Yes     0\n",
       "Same_ofiice_home_location_yes     0\n",
       "kids_No                           0\n",
       "kids_Yes                          0\n",
       "RM_save_money_No                  0\n",
       "RM_save_money_Yes                 0\n",
       "RM_quality_time_No                0\n",
       "RM_quality_time_Yes               0\n",
       "RM_better_sleep_No                0\n",
       "RM_better_sleep_Yes               0\n",
       "calmer_stressed_CALMER            0\n",
       "calmer_stressed_STRESSED          0\n",
       "digital_connect_sufficient_No     0\n",
       "digital_connect_sufficient_Yes    0\n",
       "RM_job_opportunities_No           0\n",
       "RM_job_opportunities_Not sure     0\n",
       "RM_job_opportunities_Yes          0\n",
       "dtype: int64"
      ]
     },
     "metadata": {},
     "output_type": "display_data"
    },
    {
     "data": {
      "text/plain": [
       "Age                               0\n",
       "RM_professional_growth            0\n",
       "RM_lazy                           0\n",
       "RM_productive                     0\n",
       "RM_better_work_life_balance       0\n",
       "RM_improved_skillset              0\n",
       "Occupation_Business               0\n",
       "Occupation_Engineer               0\n",
       "Occupation_HR                     0\n",
       "Occupation_Manager                0\n",
       "Occupation_Marketing              0\n",
       "Occupation_Recruiter              0\n",
       "Occupation_Tutor                  0\n",
       "Gender_Female                     0\n",
       "Gender_Male                       0\n",
       "Same_ofiice_home_location_No      0\n",
       "Same_ofiice_home_location_Yes     0\n",
       "Same_ofiice_home_location_yes     0\n",
       "kids_No                           0\n",
       "kids_Yes                          0\n",
       "RM_save_money_No                  0\n",
       "RM_save_money_Yes                 0\n",
       "RM_quality_time_No                0\n",
       "RM_quality_time_Yes               0\n",
       "RM_better_sleep_No                0\n",
       "RM_better_sleep_Yes               0\n",
       "calmer_stressed_CALMER            0\n",
       "calmer_stressed_STRESSED          0\n",
       "digital_connect_sufficient_No     0\n",
       "digital_connect_sufficient_Yes    0\n",
       "RM_job_opportunities_No           0\n",
       "RM_job_opportunities_Not sure     0\n",
       "RM_job_opportunities_Yes          0\n",
       "dtype: int64"
      ]
     },
     "metadata": {},
     "output_type": "display_data"
    }
   ],
   "source": [
    "from IPython.display import display\n",
    "for _, d in data_versions.items():\n",
    "    display(d[0].isna().sum())\n",
    "    "
   ]
  },
  {
   "cell_type": "markdown",
   "id": "2d269ef3",
   "metadata": {},
   "source": [
    "## Set up one row data for testing"
   ]
  },
  {
   "cell_type": "code",
   "execution_count": 41,
   "id": "d13a0fd9",
   "metadata": {},
   "outputs": [],
   "source": [
    "import pickle\n",
    "with open('data/new_row.pkl', 'rb') as f:\n",
    "    new_row = pickle.load(f)\n",
    "with open('data/new_row_pandas.pkl', 'rb') as f:\n",
    "    new_row_of_data = pickle.load(f)"
   ]
  },
  {
   "cell_type": "markdown",
   "id": "417e8a1e",
   "metadata": {},
   "source": [
    "## Start OrpheusDT"
   ]
  },
  {
   "cell_type": "markdown",
   "id": "4e76bee5",
   "metadata": {},
   "source": [
    "## Instance OrpheusDT with your task name and your name"
   ]
  },
  {
   "cell_type": "code",
   "execution_count": 42,
   "id": "c1557c9d",
   "metadata": {},
   "outputs": [],
   "source": [
    "orpheusDT = OrpheusDT(\n",
    "    \"WFH_WFO\",\n",
    "    \"Alex\",\n",
    ")"
   ]
  },
  {
   "cell_type": "markdown",
   "id": "cd23d711",
   "metadata": {},
   "source": [
    "## There are 3 training modes\n",
    "### 1. new data + new model\n",
    "     orpheus_instance.train(data_name, X, y, model_name, model)\n",
    "\n",
    "### 2. new data + existed model\n",
    "     orpheus_instance.train(data_name, X, y, model_name)\n",
    "\n",
    "### 3. existed data + new model\n",
    "     orpheus_instance.train(data_name, model_name, model)\n"
   ]
  },
  {
   "cell_type": "markdown",
   "id": "ad4b397c",
   "metadata": {},
   "source": [
    "## 1. Training with new data + new model\n"
   ]
  },
  {
   "cell_type": "code",
   "execution_count": 43,
   "id": "1d7cb10c",
   "metadata": {},
   "outputs": [
    {
     "name": "stderr",
     "output_type": "stream",
     "text": [
      "\u001b[32m[I 2022-06-04 19:13:50,163]\u001b[0m A new study created in memory with name: no-name-1d253eba-2306-4d00-be4a-e55821b406da\u001b[0m\n",
      "\u001b[32m[I 2022-06-04 19:13:51,593]\u001b[0m Trial 0 finished with value: 0.86 and parameters: {'criterion': 'entropy', 'splitter': 'random', 'min_samples_split': 5, 'min_samples_leaf': 10, 'max_depth': 3}. Best is trial 0 with value: 0.86.\u001b[0m\n",
      "\u001b[32m[I 2022-06-04 19:13:52,439]\u001b[0m Trial 1 finished with value: 0.93 and parameters: {'criterion': 'log_loss', 'splitter': 'best', 'min_samples_split': 7, 'min_samples_leaf': 2, 'max_depth': 5}. Best is trial 1 with value: 0.93.\u001b[0m\n",
      "\u001b[32m[I 2022-06-04 19:13:53,140]\u001b[0m Trial 2 finished with value: 0.8099999999999999 and parameters: {'criterion': 'entropy', 'splitter': 'random', 'min_samples_split': 8, 'min_samples_leaf': 9, 'max_depth': 15}. Best is trial 1 with value: 0.93.\u001b[0m\n",
      "\u001b[32m[I 2022-06-04 19:13:53,156]\u001b[0m Trial 3 finished with value: 0.8300000000000001 and parameters: {'criterion': 'gini', 'splitter': 'best', 'min_samples_split': 3, 'min_samples_leaf': 7, 'max_depth': 19}. Best is trial 1 with value: 0.93.\u001b[0m\n",
      "\u001b[32m[I 2022-06-04 19:13:53,170]\u001b[0m Trial 4 finished with value: 0.85 and parameters: {'criterion': 'gini', 'splitter': 'random', 'min_samples_split': 5, 'min_samples_leaf': 4, 'max_depth': 26}. Best is trial 1 with value: 0.93.\u001b[0m\n",
      "\u001b[32m[I 2022-06-04 19:13:53,182]\u001b[0m Trial 5 finished with value: 0.89 and parameters: {'criterion': 'log_loss', 'splitter': 'best', 'min_samples_split': 3, 'min_samples_leaf': 6, 'max_depth': 7}. Best is trial 1 with value: 0.93.\u001b[0m\n",
      "\u001b[32m[I 2022-06-04 19:13:53,195]\u001b[0m Trial 6 finished with value: 0.9099999999999999 and parameters: {'criterion': 'log_loss', 'splitter': 'best', 'min_samples_split': 2, 'min_samples_leaf': 3, 'max_depth': 16}. Best is trial 1 with value: 0.93.\u001b[0m\n",
      "\u001b[32m[I 2022-06-04 19:13:53,208]\u001b[0m Trial 7 finished with value: 0.8099999999999999 and parameters: {'criterion': 'log_loss', 'splitter': 'random', 'min_samples_split': 5, 'min_samples_leaf': 3, 'max_depth': 3}. Best is trial 1 with value: 0.93.\u001b[0m\n",
      "\u001b[32m[I 2022-06-04 19:13:53,220]\u001b[0m Trial 8 finished with value: 0.8 and parameters: {'criterion': 'gini', 'splitter': 'best', 'min_samples_split': 8, 'min_samples_leaf': 5, 'max_depth': 2}. Best is trial 1 with value: 0.93.\u001b[0m\n",
      "\u001b[32m[I 2022-06-04 19:13:53,234]\u001b[0m Trial 9 finished with value: 0.8099999999999999 and parameters: {'criterion': 'entropy', 'splitter': 'random', 'min_samples_split': 4, 'min_samples_leaf': 8, 'max_depth': 3}. Best is trial 1 with value: 0.93.\u001b[0m\n",
      "\u001b[32m[I 2022-06-04 19:13:53,251]\u001b[0m Trial 10 finished with value: 0.93 and parameters: {'criterion': 'log_loss', 'splitter': 'best', 'min_samples_split': 10, 'min_samples_leaf': 2, 'max_depth': 7}. Best is trial 1 with value: 0.93.\u001b[0m\n",
      "\u001b[32m[I 2022-06-04 19:13:53,271]\u001b[0m Trial 11 finished with value: 0.9200000000000002 and parameters: {'criterion': 'log_loss', 'splitter': 'best', 'min_samples_split': 10, 'min_samples_leaf': 2, 'max_depth': 8}. Best is trial 1 with value: 0.93.\u001b[0m\n",
      "\u001b[32m[I 2022-06-04 19:13:53,290]\u001b[0m Trial 12 finished with value: 0.9199999999999999 and parameters: {'criterion': 'log_loss', 'splitter': 'best', 'min_samples_split': 10, 'min_samples_leaf': 2, 'max_depth': 5}. Best is trial 1 with value: 0.93.\u001b[0m\n",
      "\u001b[32m[I 2022-06-04 19:13:53,307]\u001b[0m Trial 13 finished with value: 0.9099999999999999 and parameters: {'criterion': 'log_loss', 'splitter': 'best', 'min_samples_split': 8, 'min_samples_leaf': 4, 'max_depth': 10}. Best is trial 1 with value: 0.93.\u001b[0m\n",
      "\u001b[32m[I 2022-06-04 19:13:53,325]\u001b[0m Trial 14 finished with value: 0.9200000000000002 and parameters: {'criterion': 'log_loss', 'splitter': 'best', 'min_samples_split': 7, 'min_samples_leaf': 2, 'max_depth': 5}. Best is trial 1 with value: 0.93.\u001b[0m\n",
      "\u001b[32m[I 2022-06-04 19:13:53,343]\u001b[0m Trial 15 finished with value: 0.9100000000000001 and parameters: {'criterion': 'log_loss', 'splitter': 'best', 'min_samples_split': 9, 'min_samples_leaf': 5, 'max_depth': 5}. Best is trial 1 with value: 0.93.\u001b[0m\n",
      "\u001b[32m[I 2022-06-04 19:13:53,360]\u001b[0m Trial 16 finished with value: 0.9 and parameters: {'criterion': 'log_loss', 'splitter': 'best', 'min_samples_split': 7, 'min_samples_leaf': 3, 'max_depth': 11}. Best is trial 1 with value: 0.93.\u001b[0m\n",
      "\u001b[32m[I 2022-06-04 19:13:53,379]\u001b[0m Trial 17 finished with value: 0.9 and parameters: {'criterion': 'log_loss', 'splitter': 'best', 'min_samples_split': 6, 'min_samples_leaf': 4, 'max_depth': 4}. Best is trial 1 with value: 0.93.\u001b[0m\n",
      "\u001b[32m[I 2022-06-04 19:13:53,397]\u001b[0m Trial 18 finished with value: 0.8099999999999999 and parameters: {'criterion': 'entropy', 'splitter': 'best', 'min_samples_split': 9, 'min_samples_leaf': 6, 'max_depth': 2}. Best is trial 1 with value: 0.93.\u001b[0m\n",
      "\u001b[32m[I 2022-06-04 19:13:53,416]\u001b[0m Trial 19 finished with value: 0.82 and parameters: {'criterion': 'gini', 'splitter': 'best', 'min_samples_split': 9, 'min_samples_leaf': 2, 'max_depth': 11}. Best is trial 1 with value: 0.93.\u001b[0m\n",
      "\u001b[32m[I 2022-06-04 19:13:53,434]\u001b[0m Trial 20 finished with value: 0.9099999999999999 and parameters: {'criterion': 'log_loss', 'splitter': 'best', 'min_samples_split': 7, 'min_samples_leaf': 3, 'max_depth': 32}. Best is trial 1 with value: 0.93.\u001b[0m\n",
      "\u001b[32m[I 2022-06-04 19:13:53,451]\u001b[0m Trial 21 finished with value: 0.9200000000000002 and parameters: {'criterion': 'log_loss', 'splitter': 'best', 'min_samples_split': 7, 'min_samples_leaf': 2, 'max_depth': 5}. Best is trial 1 with value: 0.93.\u001b[0m\n",
      "\u001b[32m[I 2022-06-04 19:13:53,472]\u001b[0m Trial 22 finished with value: 0.9199999999999999 and parameters: {'criterion': 'log_loss', 'splitter': 'best', 'min_samples_split': 6, 'min_samples_leaf': 2, 'max_depth': 6}. Best is trial 1 with value: 0.93.\u001b[0m\n",
      "\u001b[32m[I 2022-06-04 19:13:53,489]\u001b[0m Trial 23 finished with value: 0.9099999999999999 and parameters: {'criterion': 'log_loss', 'splitter': 'best', 'min_samples_split': 10, 'min_samples_leaf': 3, 'max_depth': 8}. Best is trial 1 with value: 0.93.\u001b[0m\n",
      "\u001b[32m[I 2022-06-04 19:13:53,508]\u001b[0m Trial 24 finished with value: 0.9100000000000001 and parameters: {'criterion': 'log_loss', 'splitter': 'best', 'min_samples_split': 10, 'min_samples_leaf': 5, 'max_depth': 8}. Best is trial 1 with value: 0.93.\u001b[0m\n",
      "\u001b[32m[I 2022-06-04 19:13:53,526]\u001b[0m Trial 25 finished with value: 0.9 and parameters: {'criterion': 'log_loss', 'splitter': 'best', 'min_samples_split': 7, 'min_samples_leaf': 4, 'max_depth': 4}. Best is trial 1 with value: 0.93.\u001b[0m\n",
      "\u001b[32m[I 2022-06-04 19:13:53,547]\u001b[0m Trial 26 finished with value: 0.8400000000000001 and parameters: {'criterion': 'log_loss', 'splitter': 'random', 'min_samples_split': 8, 'min_samples_leaf': 2, 'max_depth': 4}. Best is trial 1 with value: 0.93.\u001b[0m\n",
      "\u001b[32m[I 2022-06-04 19:13:53,564]\u001b[0m Trial 27 finished with value: 0.8800000000000001 and parameters: {'criterion': 'gini', 'splitter': 'best', 'min_samples_split': 6, 'min_samples_leaf': 3, 'max_depth': 6}. Best is trial 1 with value: 0.93.\u001b[0m\n",
      "\u001b[32m[I 2022-06-04 19:13:53,583]\u001b[0m Trial 28 finished with value: 0.8700000000000001 and parameters: {'criterion': 'entropy', 'splitter': 'best', 'min_samples_split': 9, 'min_samples_leaf': 7, 'max_depth': 6}. Best is trial 1 with value: 0.93.\u001b[0m\n",
      "\u001b[32m[I 2022-06-04 19:13:53,603]\u001b[0m Trial 29 finished with value: 0.86 and parameters: {'criterion': 'log_loss', 'splitter': 'random', 'min_samples_split': 5, 'min_samples_leaf': 10, 'max_depth': 3}. Best is trial 1 with value: 0.93.\u001b[0m\n",
      "\u001b[32m[I 2022-06-04 19:13:53,624]\u001b[0m Trial 30 finished with value: 0.9 and parameters: {'criterion': 'entropy', 'splitter': 'best', 'min_samples_split': 4, 'min_samples_leaf': 4, 'max_depth': 4}. Best is trial 1 with value: 0.93.\u001b[0m\n",
      "\u001b[32m[I 2022-06-04 19:13:53,644]\u001b[0m Trial 31 finished with value: 0.9199999999999999 and parameters: {'criterion': 'log_loss', 'splitter': 'best', 'min_samples_split': 10, 'min_samples_leaf': 2, 'max_depth': 8}. Best is trial 1 with value: 0.93.\u001b[0m\n",
      "\u001b[32m[I 2022-06-04 19:13:53,664]\u001b[0m Trial 32 finished with value: 0.9200000000000002 and parameters: {'criterion': 'log_loss', 'splitter': 'best', 'min_samples_split': 7, 'min_samples_leaf': 2, 'max_depth': 5}. Best is trial 1 with value: 0.93.\u001b[0m\n"
     ]
    },
    {
     "name": "stderr",
     "output_type": "stream",
     "text": [
      "\u001b[32m[I 2022-06-04 19:13:53,682]\u001b[0m Trial 33 finished with value: 0.9099999999999999 and parameters: {'criterion': 'log_loss', 'splitter': 'best', 'min_samples_split': 7, 'min_samples_leaf': 3, 'max_depth': 10}. Best is trial 1 with value: 0.93.\u001b[0m\n",
      "\u001b[32m[I 2022-06-04 19:13:53,701]\u001b[0m Trial 34 finished with value: 0.86 and parameters: {'criterion': 'log_loss', 'splitter': 'random', 'min_samples_split': 8, 'min_samples_leaf': 2, 'max_depth': 5}. Best is trial 1 with value: 0.93.\u001b[0m\n",
      "\u001b[32m[I 2022-06-04 19:13:53,720]\u001b[0m Trial 35 finished with value: 0.9099999999999999 and parameters: {'criterion': 'log_loss', 'splitter': 'best', 'min_samples_split': 9, 'min_samples_leaf': 3, 'max_depth': 14}. Best is trial 1 with value: 0.93.\u001b[0m\n",
      "\u001b[32m[I 2022-06-04 19:13:53,740]\u001b[0m Trial 36 finished with value: 0.8200000000000001 and parameters: {'criterion': 'gini', 'splitter': 'best', 'min_samples_split': 6, 'min_samples_leaf': 2, 'max_depth': 6}. Best is trial 1 with value: 0.93.\u001b[0m\n",
      "\u001b[32m[I 2022-06-04 19:13:53,759]\u001b[0m Trial 37 finished with value: 0.89 and parameters: {'criterion': 'log_loss', 'splitter': 'best', 'min_samples_split': 4, 'min_samples_leaf': 4, 'max_depth': 7}. Best is trial 1 with value: 0.93.\u001b[0m\n",
      "\u001b[32m[I 2022-06-04 19:13:53,780]\u001b[0m Trial 38 finished with value: 0.7999999999999999 and parameters: {'criterion': 'entropy', 'splitter': 'random', 'min_samples_split': 7, 'min_samples_leaf': 8, 'max_depth': 13}. Best is trial 1 with value: 0.93.\u001b[0m\n",
      "\u001b[32m[I 2022-06-04 19:13:53,799]\u001b[0m Trial 39 finished with value: 0.9099999999999999 and parameters: {'criterion': 'log_loss', 'splitter': 'best', 'min_samples_split': 5, 'min_samples_leaf': 3, 'max_depth': 4}. Best is trial 1 with value: 0.93.\u001b[0m\n",
      "\u001b[32m[I 2022-06-04 19:13:53,819]\u001b[0m Trial 40 finished with value: 0.8700000000000001 and parameters: {'criterion': 'gini', 'splitter': 'best', 'min_samples_split': 8, 'min_samples_leaf': 5, 'max_depth': 9}. Best is trial 1 with value: 0.93.\u001b[0m\n",
      "\u001b[32m[I 2022-06-04 19:13:53,839]\u001b[0m Trial 41 finished with value: 0.9100000000000001 and parameters: {'criterion': 'log_loss', 'splitter': 'best', 'min_samples_split': 7, 'min_samples_leaf': 2, 'max_depth': 5}. Best is trial 1 with value: 0.93.\u001b[0m\n",
      "\u001b[32m[I 2022-06-04 19:13:53,858]\u001b[0m Trial 42 finished with value: 0.93 and parameters: {'criterion': 'log_loss', 'splitter': 'best', 'min_samples_split': 10, 'min_samples_leaf': 2, 'max_depth': 7}. Best is trial 1 with value: 0.93.\u001b[0m\n",
      "\u001b[32m[I 2022-06-04 19:13:53,879]\u001b[0m Trial 43 finished with value: 0.9400000000000001 and parameters: {'criterion': 'log_loss', 'splitter': 'best', 'min_samples_split': 8, 'min_samples_leaf': 2, 'max_depth': 7}. Best is trial 43 with value: 0.9400000000000001.\u001b[0m\n",
      "\u001b[32m[I 2022-06-04 19:13:53,899]\u001b[0m Trial 44 finished with value: 0.9 and parameters: {'criterion': 'log_loss', 'splitter': 'best', 'min_samples_split': 8, 'min_samples_leaf': 3, 'max_depth': 6}. Best is trial 43 with value: 0.9400000000000001.\u001b[0m\n",
      "\u001b[32m[I 2022-06-04 19:13:53,919]\u001b[0m Trial 45 finished with value: 0.93 and parameters: {'criterion': 'log_loss', 'splitter': 'best', 'min_samples_split': 9, 'min_samples_leaf': 2, 'max_depth': 18}. Best is trial 43 with value: 0.9400000000000001.\u001b[0m\n",
      "\u001b[32m[I 2022-06-04 19:13:53,938]\u001b[0m Trial 46 finished with value: 0.85 and parameters: {'criterion': 'log_loss', 'splitter': 'random', 'min_samples_split': 9, 'min_samples_leaf': 3, 'max_depth': 20}. Best is trial 43 with value: 0.9400000000000001.\u001b[0m\n",
      "\u001b[32m[I 2022-06-04 19:13:53,957]\u001b[0m Trial 47 finished with value: 0.9200000000000002 and parameters: {'criterion': 'log_loss', 'splitter': 'best', 'min_samples_split': 10, 'min_samples_leaf': 2, 'max_depth': 18}. Best is trial 43 with value: 0.9400000000000001.\u001b[0m\n",
      "\u001b[32m[I 2022-06-04 19:13:53,979]\u001b[0m Trial 48 finished with value: 0.9 and parameters: {'criterion': 'log_loss', 'splitter': 'best', 'min_samples_split': 9, 'min_samples_leaf': 3, 'max_depth': 22}. Best is trial 43 with value: 0.9400000000000001.\u001b[0m\n",
      "\u001b[32m[I 2022-06-04 19:13:54,003]\u001b[0m Trial 49 finished with value: 0.9100000000000001 and parameters: {'criterion': 'entropy', 'splitter': 'best', 'min_samples_split': 10, 'min_samples_leaf': 4, 'max_depth': 12}. Best is trial 43 with value: 0.9400000000000001.\u001b[0m\n",
      "\u001b[32m[I 2022-06-04 19:13:54,025]\u001b[0m Trial 50 finished with value: 0.93 and parameters: {'criterion': 'log_loss', 'splitter': 'best', 'min_samples_split': 9, 'min_samples_leaf': 2, 'max_depth': 7}. Best is trial 43 with value: 0.9400000000000001.\u001b[0m\n",
      "\u001b[32m[I 2022-06-04 19:13:54,046]\u001b[0m Trial 51 finished with value: 0.93 and parameters: {'criterion': 'log_loss', 'splitter': 'best', 'min_samples_split': 9, 'min_samples_leaf': 2, 'max_depth': 7}. Best is trial 43 with value: 0.9400000000000001.\u001b[0m\n",
      "\u001b[32m[I 2022-06-04 19:13:54,066]\u001b[0m Trial 52 finished with value: 0.9400000000000001 and parameters: {'criterion': 'log_loss', 'splitter': 'best', 'min_samples_split': 8, 'min_samples_leaf': 2, 'max_depth': 9}. Best is trial 43 with value: 0.9400000000000001.\u001b[0m\n",
      "\u001b[32m[I 2022-06-04 19:13:54,088]\u001b[0m Trial 53 finished with value: 0.93 and parameters: {'criterion': 'log_loss', 'splitter': 'best', 'min_samples_split': 8, 'min_samples_leaf': 2, 'max_depth': 9}. Best is trial 43 with value: 0.9400000000000001.\u001b[0m\n",
      "\u001b[32m[I 2022-06-04 19:13:54,108]\u001b[0m Trial 54 finished with value: 0.93 and parameters: {'criterion': 'log_loss', 'splitter': 'best', 'min_samples_split': 10, 'min_samples_leaf': 2, 'max_depth': 16}. Best is trial 43 with value: 0.9400000000000001.\u001b[0m\n",
      "\u001b[32m[I 2022-06-04 19:13:54,127]\u001b[0m Trial 55 finished with value: 0.9 and parameters: {'criterion': 'log_loss', 'splitter': 'best', 'min_samples_split': 10, 'min_samples_leaf': 3, 'max_depth': 9}. Best is trial 43 with value: 0.9400000000000001.\u001b[0m\n",
      "\u001b[32m[I 2022-06-04 19:13:54,147]\u001b[0m Trial 56 finished with value: 0.9099999999999999 and parameters: {'criterion': 'log_loss', 'splitter': 'best', 'min_samples_split': 8, 'min_samples_leaf': 3, 'max_depth': 9}. Best is trial 43 with value: 0.9400000000000001.\u001b[0m\n",
      "\u001b[32m[I 2022-06-04 19:13:54,169]\u001b[0m Trial 57 finished with value: 0.8200000000000001 and parameters: {'criterion': 'gini', 'splitter': 'best', 'min_samples_split': 8, 'min_samples_leaf': 2, 'max_depth': 15}. Best is trial 43 with value: 0.9400000000000001.\u001b[0m\n",
      "\u001b[32m[I 2022-06-04 19:13:54,186]\u001b[0m Trial 58 finished with value: 0.8700000000000001 and parameters: {'criterion': 'log_loss', 'splitter': 'best', 'min_samples_split': 8, 'min_samples_leaf': 7, 'max_depth': 25}. Best is trial 43 with value: 0.9400000000000001.\u001b[0m\n",
      "\u001b[32m[I 2022-06-04 19:13:54,204]\u001b[0m Trial 59 finished with value: 0.9100000000000001 and parameters: {'criterion': 'log_loss', 'splitter': 'random', 'min_samples_split': 2, 'min_samples_leaf': 2, 'max_depth': 16}. Best is trial 43 with value: 0.9400000000000001.\u001b[0m\n",
      "\u001b[32m[I 2022-06-04 19:13:54,224]\u001b[0m Trial 60 finished with value: 0.9 and parameters: {'criterion': 'log_loss', 'splitter': 'best', 'min_samples_split': 9, 'min_samples_leaf': 3, 'max_depth': 29}. Best is trial 43 with value: 0.9400000000000001.\u001b[0m\n",
      "\u001b[32m[I 2022-06-04 19:13:54,243]\u001b[0m Trial 61 finished with value: 0.9200000000000002 and parameters: {'criterion': 'log_loss', 'splitter': 'best', 'min_samples_split': 10, 'min_samples_leaf': 2, 'max_depth': 10}. Best is trial 43 with value: 0.9400000000000001.\u001b[0m\n",
      "\u001b[32m[I 2022-06-04 19:13:54,265]\u001b[0m Trial 62 finished with value: 0.93 and parameters: {'criterion': 'log_loss', 'splitter': 'best', 'min_samples_split': 9, 'min_samples_leaf': 2, 'max_depth': 19}. Best is trial 43 with value: 0.9400000000000001.\u001b[0m\n",
      "\u001b[32m[I 2022-06-04 19:13:54,285]\u001b[0m Trial 63 finished with value: 0.9400000000000001 and parameters: {'criterion': 'log_loss', 'splitter': 'best', 'min_samples_split': 9, 'min_samples_leaf': 2, 'max_depth': 18}. Best is trial 43 with value: 0.9400000000000001.\u001b[0m\n",
      "\u001b[32m[I 2022-06-04 19:13:54,306]\u001b[0m Trial 64 finished with value: 0.8300000000000001 and parameters: {'criterion': 'log_loss', 'splitter': 'best', 'min_samples_split': 9, 'min_samples_leaf': 9, 'max_depth': 7}. Best is trial 43 with value: 0.9400000000000001.\u001b[0m\n",
      "\u001b[32m[I 2022-06-04 19:13:54,325]\u001b[0m Trial 65 finished with value: 0.93 and parameters: {'criterion': 'log_loss', 'splitter': 'best', 'min_samples_split': 8, 'min_samples_leaf': 2, 'max_depth': 23}. Best is trial 43 with value: 0.9400000000000001.\u001b[0m\n"
     ]
    },
    {
     "name": "stderr",
     "output_type": "stream",
     "text": [
      "\u001b[32m[I 2022-06-04 19:13:54,343]\u001b[0m Trial 66 finished with value: 0.9 and parameters: {'criterion': 'log_loss', 'splitter': 'best', 'min_samples_split': 8, 'min_samples_leaf': 3, 'max_depth': 22}. Best is trial 43 with value: 0.9400000000000001.\u001b[0m\n",
      "\u001b[32m[I 2022-06-04 19:13:54,361]\u001b[0m Trial 67 finished with value: 0.93 and parameters: {'criterion': 'entropy', 'splitter': 'best', 'min_samples_split': 9, 'min_samples_leaf': 2, 'max_depth': 12}. Best is trial 43 with value: 0.9400000000000001.\u001b[0m\n",
      "\u001b[32m[I 2022-06-04 19:13:54,379]\u001b[0m Trial 68 finished with value: 0.9400000000000001 and parameters: {'criterion': 'entropy', 'splitter': 'best', 'min_samples_split': 9, 'min_samples_leaf': 2, 'max_depth': 12}. Best is trial 43 with value: 0.9400000000000001.\u001b[0m\n",
      "\u001b[32m[I 2022-06-04 19:13:54,397]\u001b[0m Trial 69 finished with value: 0.9099999999999999 and parameters: {'criterion': 'entropy', 'splitter': 'best', 'min_samples_split': 9, 'min_samples_leaf': 3, 'max_depth': 11}. Best is trial 43 with value: 0.9400000000000001.\u001b[0m\n",
      "\u001b[32m[I 2022-06-04 19:13:54,417]\u001b[0m Trial 70 finished with value: 0.9200000000000002 and parameters: {'criterion': 'entropy', 'splitter': 'best', 'min_samples_split': 10, 'min_samples_leaf': 2, 'max_depth': 18}. Best is trial 43 with value: 0.9400000000000001.\u001b[0m\n",
      "\u001b[32m[I 2022-06-04 19:13:54,435]\u001b[0m Trial 71 finished with value: 0.9400000000000001 and parameters: {'criterion': 'entropy', 'splitter': 'best', 'min_samples_split': 8, 'min_samples_leaf': 2, 'max_depth': 13}. Best is trial 43 with value: 0.9400000000000001.\u001b[0m\n",
      "\u001b[32m[I 2022-06-04 19:13:54,456]\u001b[0m Trial 72 finished with value: 0.9200000000000002 and parameters: {'criterion': 'entropy', 'splitter': 'best', 'min_samples_split': 9, 'min_samples_leaf': 2, 'max_depth': 8}. Best is trial 43 with value: 0.9400000000000001.\u001b[0m\n",
      "\u001b[32m[I 2022-06-04 19:13:54,478]\u001b[0m Trial 73 finished with value: 0.93 and parameters: {'criterion': 'entropy', 'splitter': 'best', 'min_samples_split': 9, 'min_samples_leaf': 2, 'max_depth': 16}. Best is trial 43 with value: 0.9400000000000001.\u001b[0m\n",
      "\u001b[32m[I 2022-06-04 19:13:54,500]\u001b[0m Trial 74 finished with value: 0.9200000000000002 and parameters: {'criterion': 'entropy', 'splitter': 'best', 'min_samples_split': 9, 'min_samples_leaf': 2, 'max_depth': 14}. Best is trial 43 with value: 0.9400000000000001.\u001b[0m\n",
      "\u001b[32m[I 2022-06-04 19:13:54,522]\u001b[0m Trial 75 finished with value: 0.9099999999999999 and parameters: {'criterion': 'entropy', 'splitter': 'best', 'min_samples_split': 8, 'min_samples_leaf': 3, 'max_depth': 12}. Best is trial 43 with value: 0.9400000000000001.\u001b[0m\n",
      "\u001b[32m[I 2022-06-04 19:13:54,539]\u001b[0m Trial 76 finished with value: 0.9199999999999999 and parameters: {'criterion': 'entropy', 'splitter': 'random', 'min_samples_split': 7, 'min_samples_leaf': 2, 'max_depth': 25}. Best is trial 43 with value: 0.9400000000000001.\u001b[0m\n",
      "\u001b[32m[I 2022-06-04 19:13:54,558]\u001b[0m Trial 77 finished with value: 0.93 and parameters: {'criterion': 'entropy', 'splitter': 'best', 'min_samples_split': 8, 'min_samples_leaf': 2, 'max_depth': 22}. Best is trial 43 with value: 0.9400000000000001.\u001b[0m\n",
      "\u001b[32m[I 2022-06-04 19:13:54,576]\u001b[0m Trial 78 finished with value: 0.9099999999999999 and parameters: {'criterion': 'entropy', 'splitter': 'best', 'min_samples_split': 9, 'min_samples_leaf': 3, 'max_depth': 12}. Best is trial 43 with value: 0.9400000000000001.\u001b[0m\n",
      "\u001b[32m[I 2022-06-04 19:13:54,595]\u001b[0m Trial 79 finished with value: 0.86 and parameters: {'criterion': 'gini', 'splitter': 'best', 'min_samples_split': 10, 'min_samples_leaf': 4, 'max_depth': 18}. Best is trial 43 with value: 0.9400000000000001.\u001b[0m\n",
      "\u001b[32m[I 2022-06-04 19:13:54,613]\u001b[0m Trial 80 finished with value: 0.9400000000000001 and parameters: {'criterion': 'entropy', 'splitter': 'best', 'min_samples_split': 9, 'min_samples_leaf': 2, 'max_depth': 13}. Best is trial 43 with value: 0.9400000000000001.\u001b[0m\n",
      "\u001b[32m[I 2022-06-04 19:13:54,634]\u001b[0m Trial 81 finished with value: 0.93 and parameters: {'criterion': 'entropy', 'splitter': 'best', 'min_samples_split': 8, 'min_samples_leaf': 2, 'max_depth': 13}. Best is trial 43 with value: 0.9400000000000001.\u001b[0m\n",
      "\u001b[32m[I 2022-06-04 19:13:54,653]\u001b[0m Trial 82 finished with value: 0.93 and parameters: {'criterion': 'entropy', 'splitter': 'best', 'min_samples_split': 8, 'min_samples_leaf': 2, 'max_depth': 14}. Best is trial 43 with value: 0.9400000000000001.\u001b[0m\n",
      "\u001b[32m[I 2022-06-04 19:13:54,676]\u001b[0m Trial 83 finished with value: 0.9200000000000002 and parameters: {'criterion': 'entropy', 'splitter': 'best', 'min_samples_split': 9, 'min_samples_leaf': 2, 'max_depth': 10}. Best is trial 43 with value: 0.9400000000000001.\u001b[0m\n",
      "\u001b[32m[I 2022-06-04 19:13:54,704]\u001b[0m Trial 84 finished with value: 0.9099999999999999 and parameters: {'criterion': 'entropy', 'splitter': 'best', 'min_samples_split': 9, 'min_samples_leaf': 3, 'max_depth': 11}. Best is trial 43 with value: 0.9400000000000001.\u001b[0m\n",
      "\u001b[32m[I 2022-06-04 19:13:54,723]\u001b[0m Trial 85 finished with value: 0.9200000000000002 and parameters: {'criterion': 'log_loss', 'splitter': 'best', 'min_samples_split': 9, 'min_samples_leaf': 2, 'max_depth': 13}. Best is trial 43 with value: 0.9400000000000001.\u001b[0m\n",
      "\u001b[32m[I 2022-06-04 19:13:54,742]\u001b[0m Trial 86 finished with value: 0.9200000000000002 and parameters: {'criterion': 'log_loss', 'splitter': 'best', 'min_samples_split': 9, 'min_samples_leaf': 2, 'max_depth': 8}. Best is trial 43 with value: 0.9400000000000001.\u001b[0m\n",
      "\u001b[32m[I 2022-06-04 19:13:54,761]\u001b[0m Trial 87 finished with value: 0.9 and parameters: {'criterion': 'log_loss', 'splitter': 'best', 'min_samples_split': 9, 'min_samples_leaf': 3, 'max_depth': 20}. Best is trial 43 with value: 0.9400000000000001.\u001b[0m\n",
      "\u001b[32m[I 2022-06-04 19:13:54,780]\u001b[0m Trial 88 finished with value: 0.8 and parameters: {'criterion': 'gini', 'splitter': 'best', 'min_samples_split': 10, 'min_samples_leaf': 2, 'max_depth': 16}. Best is trial 43 with value: 0.9400000000000001.\u001b[0m\n",
      "\u001b[32m[I 2022-06-04 19:13:54,801]\u001b[0m Trial 89 finished with value: 0.93 and parameters: {'criterion': 'entropy', 'splitter': 'random', 'min_samples_split': 7, 'min_samples_leaf': 2, 'max_depth': 10}. Best is trial 43 with value: 0.9400000000000001.\u001b[0m\n",
      "\u001b[32m[I 2022-06-04 19:13:54,823]\u001b[0m Trial 90 finished with value: 0.9 and parameters: {'criterion': 'entropy', 'splitter': 'random', 'min_samples_split': 7, 'min_samples_leaf': 3, 'max_depth': 10}. Best is trial 43 with value: 0.9400000000000001.\u001b[0m\n",
      "\u001b[32m[I 2022-06-04 19:13:54,844]\u001b[0m Trial 91 finished with value: 0.9400000000000001 and parameters: {'criterion': 'entropy', 'splitter': 'best', 'min_samples_split': 8, 'min_samples_leaf': 2, 'max_depth': 23}. Best is trial 43 with value: 0.9400000000000001.\u001b[0m\n",
      "\u001b[32m[I 2022-06-04 19:13:54,864]\u001b[0m Trial 92 finished with value: 0.93 and parameters: {'criterion': 'entropy', 'splitter': 'best', 'min_samples_split': 8, 'min_samples_leaf': 2, 'max_depth': 9}. Best is trial 43 with value: 0.9400000000000001.\u001b[0m\n",
      "\u001b[32m[I 2022-06-04 19:13:54,884]\u001b[0m Trial 93 finished with value: 0.9200000000000002 and parameters: {'criterion': 'entropy', 'splitter': 'best', 'min_samples_split': 8, 'min_samples_leaf': 2, 'max_depth': 15}. Best is trial 43 with value: 0.9400000000000001.\u001b[0m\n",
      "\u001b[32m[I 2022-06-04 19:13:54,906]\u001b[0m Trial 94 finished with value: 0.93 and parameters: {'criterion': 'entropy', 'splitter': 'best', 'min_samples_split': 8, 'min_samples_leaf': 2, 'max_depth': 13}. Best is trial 43 with value: 0.9400000000000001.\u001b[0m\n",
      "\u001b[32m[I 2022-06-04 19:13:54,928]\u001b[0m Trial 95 finished with value: 0.93 and parameters: {'criterion': 'log_loss', 'splitter': 'best', 'min_samples_split': 9, 'min_samples_leaf': 2, 'max_depth': 28}. Best is trial 43 with value: 0.9400000000000001.\u001b[0m\n",
      "\u001b[32m[I 2022-06-04 19:13:54,949]\u001b[0m Trial 96 finished with value: 0.89 and parameters: {'criterion': 'entropy', 'splitter': 'best', 'min_samples_split': 8, 'min_samples_leaf': 6, 'max_depth': 29}. Best is trial 43 with value: 0.9400000000000001.\u001b[0m\n",
      "\u001b[32m[I 2022-06-04 19:13:54,971]\u001b[0m Trial 97 finished with value: 0.93 and parameters: {'criterion': 'entropy', 'splitter': 'best', 'min_samples_split': 7, 'min_samples_leaf': 2, 'max_depth': 15}. Best is trial 43 with value: 0.9400000000000001.\u001b[0m\n"
     ]
    },
    {
     "name": "stderr",
     "output_type": "stream",
     "text": [
      "\u001b[32m[I 2022-06-04 19:13:54,991]\u001b[0m Trial 98 finished with value: 0.9099999999999999 and parameters: {'criterion': 'entropy', 'splitter': 'best', 'min_samples_split': 8, 'min_samples_leaf': 3, 'max_depth': 19}. Best is trial 43 with value: 0.9400000000000001.\u001b[0m\n",
      "\u001b[32m[I 2022-06-04 19:13:55,012]\u001b[0m Trial 99 finished with value: 0.93 and parameters: {'criterion': 'entropy', 'splitter': 'best', 'min_samples_split': 8, 'min_samples_leaf': 2, 'max_depth': 23}. Best is trial 43 with value: 0.9400000000000001.\u001b[0m\n"
     ]
    },
    {
     "name": "stdout",
     "output_type": "stream",
     "text": [
      "\u001b[32mTraining is done, evaluation score = 0.97\u001b[0m\n"
     ]
    },
    {
     "ename": "Exception",
     "evalue": "Data named \"version1\" already exist, if you wish to use the existed \"version1\", please remove X and Y field",
     "output_type": "error",
     "traceback": [
      "\u001b[1;31m---------------------------------------------------------------------------\u001b[0m",
      "\u001b[1;31mException\u001b[0m                                 Traceback (most recent call last)",
      "\u001b[1;32m~\\AppData\\Local\\Temp/ipykernel_3496/921241892.py\u001b[0m in \u001b[0;36m<module>\u001b[1;34m\u001b[0m\n\u001b[0;32m      8\u001b[0m \u001b[1;33m\u001b[0m\u001b[0m\n\u001b[0;32m      9\u001b[0m \u001b[1;31m# Train\u001b[0m\u001b[1;33m\u001b[0m\u001b[1;33m\u001b[0m\u001b[0m\n\u001b[1;32m---> 10\u001b[1;33m \u001b[0morpheusDT\u001b[0m\u001b[1;33m.\u001b[0m\u001b[0mtrain\u001b[0m\u001b[1;33m(\u001b[0m\u001b[0mdata_name\u001b[0m\u001b[1;33m,\u001b[0m \u001b[0mX\u001b[0m\u001b[1;33m,\u001b[0m \u001b[0my\u001b[0m\u001b[1;33m,\u001b[0m \u001b[0mmodel_name\u001b[0m\u001b[1;33m,\u001b[0m \u001b[0mmodel\u001b[0m\u001b[1;33m)\u001b[0m\u001b[1;33m\u001b[0m\u001b[1;33m\u001b[0m\u001b[0m\n\u001b[0m",
      "\u001b[1;32m~\\anaconda3\\lib\\site-packages\\multipledispatch\\dispatcher.py\u001b[0m in \u001b[0;36m__call__\u001b[1;34m(self, *args, **kwargs)\u001b[0m\n\u001b[0;32m    433\u001b[0m             raise NotImplementedError('Could not find signature for %s: <%s>' %\n\u001b[0;32m    434\u001b[0m                                       (self.name, str_signature(types)))\n\u001b[1;32m--> 435\u001b[1;33m         \u001b[1;32mreturn\u001b[0m \u001b[0mfunc\u001b[0m\u001b[1;33m(\u001b[0m\u001b[0mself\u001b[0m\u001b[1;33m.\u001b[0m\u001b[0mobj\u001b[0m\u001b[1;33m,\u001b[0m \u001b[1;33m*\u001b[0m\u001b[0margs\u001b[0m\u001b[1;33m,\u001b[0m \u001b[1;33m**\u001b[0m\u001b[0mkwargs\u001b[0m\u001b[1;33m)\u001b[0m\u001b[1;33m\u001b[0m\u001b[1;33m\u001b[0m\u001b[0m\n\u001b[0m\u001b[0;32m    436\u001b[0m \u001b[1;33m\u001b[0m\u001b[0m\n\u001b[0;32m    437\u001b[0m \u001b[1;33m\u001b[0m\u001b[0m\n",
      "\u001b[1;32m~\\Documents\\Python\\SQL-final\\orpheusDT\\src\\orpheus\\orpheus.py\u001b[0m in \u001b[0;36mtrain\u001b[1;34m(self, data_name, data_x, data_y, model_name, model)\u001b[0m\n\u001b[0;32m     58\u001b[0m \u001b[1;33m\u001b[0m\u001b[0m\n\u001b[0;32m     59\u001b[0m \u001b[1;33m\u001b[0m\u001b[0m\n\u001b[1;32m---> 60\u001b[1;33m \u001b[1;33m\u001b[0m\u001b[0m\n\u001b[0m\u001b[0;32m     61\u001b[0m \u001b[1;33m\u001b[0m\u001b[0m\n\u001b[0;32m     62\u001b[0m         \u001b[0mself\u001b[0m\u001b[1;33m.\u001b[0m\u001b[0msave_metaData_to_DB\u001b[0m\u001b[1;33m(\u001b[0m\u001b[1;33m)\u001b[0m\u001b[1;33m\u001b[0m\u001b[1;33m\u001b[0m\u001b[0m\n",
      "\u001b[1;32m~\\anaconda3\\lib\\site-packages\\multipledispatch\\dispatcher.py\u001b[0m in \u001b[0;36m__call__\u001b[1;34m(self, *args, **kwargs)\u001b[0m\n\u001b[0;32m    433\u001b[0m             raise NotImplementedError('Could not find signature for %s: <%s>' %\n\u001b[0;32m    434\u001b[0m                                       (self.name, str_signature(types)))\n\u001b[1;32m--> 435\u001b[1;33m         \u001b[1;32mreturn\u001b[0m \u001b[0mfunc\u001b[0m\u001b[1;33m(\u001b[0m\u001b[0mself\u001b[0m\u001b[1;33m.\u001b[0m\u001b[0mobj\u001b[0m\u001b[1;33m,\u001b[0m \u001b[1;33m*\u001b[0m\u001b[0margs\u001b[0m\u001b[1;33m,\u001b[0m \u001b[1;33m**\u001b[0m\u001b[0mkwargs\u001b[0m\u001b[1;33m)\u001b[0m\u001b[1;33m\u001b[0m\u001b[1;33m\u001b[0m\u001b[0m\n\u001b[0m\u001b[0;32m    436\u001b[0m \u001b[1;33m\u001b[0m\u001b[0m\n\u001b[0;32m    437\u001b[0m \u001b[1;33m\u001b[0m\u001b[0m\n",
      "\u001b[1;32m~\\Documents\\Python\\SQL-final\\orpheusDT\\src\\orpheus\\orpheus.py\u001b[0m in \u001b[0;36msave_Data_to_DB\u001b[1;34m(self)\u001b[0m\n\u001b[0;32m    202\u001b[0m                              'please remove X and Y field'.format(self.data_name, self.data_name))\n\u001b[0;32m    203\u001b[0m \u001b[1;33m\u001b[0m\u001b[0m\n\u001b[1;32m--> 204\u001b[1;33m     \u001b[1;33m@\u001b[0m\u001b[0mdispatch\u001b[0m\u001b[1;33m(\u001b[0m\u001b[0mstr\u001b[0m\u001b[1;33m,\u001b[0m \u001b[0mobject\u001b[0m\u001b[1;33m,\u001b[0m \u001b[0mobject\u001b[0m\u001b[1;33m)\u001b[0m\u001b[1;33m\u001b[0m\u001b[1;33m\u001b[0m\u001b[0m\n\u001b[0m\u001b[0;32m    205\u001b[0m     \u001b[1;32mdef\u001b[0m \u001b[0msave_Data_to_DB\u001b[0m\u001b[1;33m(\u001b[0m\u001b[0mself\u001b[0m\u001b[1;33m,\u001b[0m \u001b[0mdata_name\u001b[0m\u001b[1;33m,\u001b[0m \u001b[0mx\u001b[0m\u001b[1;33m,\u001b[0m \u001b[0my\u001b[0m\u001b[1;33m)\u001b[0m\u001b[1;33m:\u001b[0m\u001b[1;33m\u001b[0m\u001b[1;33m\u001b[0m\u001b[0m\n\u001b[0;32m    206\u001b[0m         \"\"\"\n",
      "\u001b[1;31mException\u001b[0m: Data named \"version1\" already exist, if you wish to use the existed \"version1\", please remove X and Y field"
     ]
    }
   ],
   "source": [
    "# Data preparation\n",
    "data_name = 'version1'\n",
    "X = data_versions[data_name][0]\n",
    "y = data_versions[data_name][1]\n",
    "# Model preparation\n",
    "model_name = \"dfc_v1\"\n",
    "model = DecisionTreeClassifier()\n",
    "\n",
    "# Train\n",
    "orpheusDT.train(data_name, X, y, model_name, model)\n"
   ]
  },
  {
   "cell_type": "markdown",
   "id": "47afaec2",
   "metadata": {},
   "source": [
    "## 2. Training with new data + existed model"
   ]
  },
  {
   "cell_type": "code",
   "execution_count": 44,
   "id": "c5ce26cc",
   "metadata": {},
   "outputs": [
    {
     "name": "stdout",
     "output_type": "stream",
     "text": [
      "\u001b[32mModel \"dfc_v1\" had been successfully extracted\u001b[0m\n"
     ]
    },
    {
     "name": "stderr",
     "output_type": "stream",
     "text": [
      "\u001b[32m[I 2022-06-04 19:14:13,345]\u001b[0m A new study created in memory with name: no-name-089d6b4c-bf7b-464b-94a4-690f621d19e5\u001b[0m\n",
      "\u001b[32m[I 2022-06-04 19:14:13,361]\u001b[0m Trial 0 finished with value: 0.8833333333333332 and parameters: {'criterion': 'gini', 'splitter': 'best', 'min_samples_split': 5, 'min_samples_leaf': 5, 'max_depth': 5}. Best is trial 0 with value: 0.8833333333333332.\u001b[0m\n",
      "\u001b[32m[I 2022-06-04 19:14:13,375]\u001b[0m Trial 1 finished with value: 0.875 and parameters: {'criterion': 'entropy', 'splitter': 'random', 'min_samples_split': 8, 'min_samples_leaf': 5, 'max_depth': 19}. Best is trial 0 with value: 0.8833333333333332.\u001b[0m\n",
      "\u001b[32m[I 2022-06-04 19:14:13,390]\u001b[0m Trial 2 finished with value: 0.8083333333333333 and parameters: {'criterion': 'gini', 'splitter': 'random', 'min_samples_split': 4, 'min_samples_leaf': 10, 'max_depth': 24}. Best is trial 0 with value: 0.8833333333333332.\u001b[0m\n",
      "\u001b[32m[I 2022-06-04 19:14:13,403]\u001b[0m Trial 3 finished with value: 0.9 and parameters: {'criterion': 'gini', 'splitter': 'best', 'min_samples_split': 3, 'min_samples_leaf': 6, 'max_depth': 4}. Best is trial 3 with value: 0.9.\u001b[0m\n",
      "\u001b[32m[I 2022-06-04 19:14:13,418]\u001b[0m Trial 4 finished with value: 0.8916666666666666 and parameters: {'criterion': 'entropy', 'splitter': 'random', 'min_samples_split': 10, 'min_samples_leaf': 2, 'max_depth': 9}. Best is trial 3 with value: 0.9.\u001b[0m\n",
      "\u001b[32m[I 2022-06-04 19:14:13,432]\u001b[0m Trial 5 finished with value: 0.8666666666666666 and parameters: {'criterion': 'log_loss', 'splitter': 'best', 'min_samples_split': 3, 'min_samples_leaf': 5, 'max_depth': 3}. Best is trial 3 with value: 0.9.\u001b[0m\n",
      "\u001b[32m[I 2022-06-04 19:14:13,447]\u001b[0m Trial 6 finished with value: 0.925 and parameters: {'criterion': 'entropy', 'splitter': 'best', 'min_samples_split': 7, 'min_samples_leaf': 4, 'max_depth': 31}. Best is trial 6 with value: 0.925.\u001b[0m\n",
      "\u001b[32m[I 2022-06-04 19:14:13,461]\u001b[0m Trial 7 finished with value: 0.8833333333333332 and parameters: {'criterion': 'entropy', 'splitter': 'best', 'min_samples_split': 6, 'min_samples_leaf': 8, 'max_depth': 30}. Best is trial 6 with value: 0.925.\u001b[0m\n",
      "\u001b[32m[I 2022-06-04 19:14:13,474]\u001b[0m Trial 8 finished with value: 0.8333333333333333 and parameters: {'criterion': 'gini', 'splitter': 'best', 'min_samples_split': 4, 'min_samples_leaf': 3, 'max_depth': 3}. Best is trial 6 with value: 0.925.\u001b[0m\n",
      "\u001b[32m[I 2022-06-04 19:14:13,489]\u001b[0m Trial 9 finished with value: 0.85 and parameters: {'criterion': 'gini', 'splitter': 'random', 'min_samples_split': 3, 'min_samples_leaf': 8, 'max_depth': 7}. Best is trial 6 with value: 0.925.\u001b[0m\n",
      "\u001b[32m[I 2022-06-04 19:14:13,509]\u001b[0m Trial 10 finished with value: 0.9166666666666666 and parameters: {'criterion': 'log_loss', 'splitter': 'best', 'min_samples_split': 8, 'min_samples_leaf': 3, 'max_depth': 13}. Best is trial 6 with value: 0.925.\u001b[0m\n",
      "\u001b[32m[I 2022-06-04 19:14:13,529]\u001b[0m Trial 11 finished with value: 0.9083333333333334 and parameters: {'criterion': 'log_loss', 'splitter': 'best', 'min_samples_split': 8, 'min_samples_leaf': 3, 'max_depth': 14}. Best is trial 6 with value: 0.925.\u001b[0m\n",
      "\u001b[32m[I 2022-06-04 19:14:13,548]\u001b[0m Trial 12 finished with value: 0.9166666666666666 and parameters: {'criterion': 'log_loss', 'splitter': 'best', 'min_samples_split': 8, 'min_samples_leaf': 3, 'max_depth': 14}. Best is trial 6 with value: 0.925.\u001b[0m\n",
      "\u001b[32m[I 2022-06-04 19:14:13,566]\u001b[0m Trial 13 finished with value: 0.8916666666666668 and parameters: {'criterion': 'log_loss', 'splitter': 'best', 'min_samples_split': 10, 'min_samples_leaf': 4, 'max_depth': 11}. Best is trial 6 with value: 0.925.\u001b[0m\n",
      "\u001b[32m[I 2022-06-04 19:14:13,587]\u001b[0m Trial 14 finished with value: 0.95 and parameters: {'criterion': 'entropy', 'splitter': 'best', 'min_samples_split': 7, 'min_samples_leaf': 2, 'max_depth': 32}. Best is trial 14 with value: 0.95.\u001b[0m\n",
      "\u001b[32m[I 2022-06-04 19:14:13,605]\u001b[0m Trial 15 finished with value: 0.9583333333333334 and parameters: {'criterion': 'entropy', 'splitter': 'best', 'min_samples_split': 6, 'min_samples_leaf': 2, 'max_depth': 28}. Best is trial 15 with value: 0.9583333333333334.\u001b[0m\n",
      "\u001b[32m[I 2022-06-04 19:14:13,625]\u001b[0m Trial 16 finished with value: 0.8083333333333333 and parameters: {'criterion': 'entropy', 'splitter': 'best', 'min_samples_split': 6, 'min_samples_leaf': 2, 'max_depth': 2}. Best is trial 15 with value: 0.9583333333333334.\u001b[0m\n",
      "\u001b[32m[I 2022-06-04 19:14:13,642]\u001b[0m Trial 17 finished with value: 0.9666666666666666 and parameters: {'criterion': 'entropy', 'splitter': 'best', 'min_samples_split': 5, 'min_samples_leaf': 2, 'max_depth': 20}. Best is trial 17 with value: 0.9666666666666666.\u001b[0m\n",
      "\u001b[32m[I 2022-06-04 19:14:13,662]\u001b[0m Trial 18 finished with value: 0.8083333333333333 and parameters: {'criterion': 'entropy', 'splitter': 'random', 'min_samples_split': 5, 'min_samples_leaf': 8, 'max_depth': 19}. Best is trial 17 with value: 0.9666666666666666.\u001b[0m\n",
      "\u001b[32m[I 2022-06-04 19:14:13,680]\u001b[0m Trial 19 finished with value: 0.8916666666666666 and parameters: {'criterion': 'entropy', 'splitter': 'best', 'min_samples_split': 2, 'min_samples_leaf': 7, 'max_depth': 21}. Best is trial 17 with value: 0.9666666666666666.\u001b[0m\n",
      "\u001b[32m[I 2022-06-04 19:14:13,699]\u001b[0m Trial 20 finished with value: 0.8583333333333332 and parameters: {'criterion': 'entropy', 'splitter': 'best', 'min_samples_split': 5, 'min_samples_leaf': 10, 'max_depth': 9}. Best is trial 17 with value: 0.9666666666666666.\u001b[0m\n",
      "\u001b[32m[I 2022-06-04 19:14:13,717]\u001b[0m Trial 21 finished with value: 0.9416666666666667 and parameters: {'criterion': 'entropy', 'splitter': 'best', 'min_samples_split': 7, 'min_samples_leaf': 2, 'max_depth': 31}. Best is trial 17 with value: 0.9666666666666666.\u001b[0m\n",
      "\u001b[32m[I 2022-06-04 19:14:13,738]\u001b[0m Trial 22 finished with value: 0.9416666666666667 and parameters: {'criterion': 'entropy', 'splitter': 'best', 'min_samples_split': 7, 'min_samples_leaf': 2, 'max_depth': 23}. Best is trial 17 with value: 0.9666666666666666.\u001b[0m\n",
      "\u001b[32m[I 2022-06-04 19:14:13,761]\u001b[0m Trial 23 finished with value: 0.925 and parameters: {'criterion': 'entropy', 'splitter': 'best', 'min_samples_split': 6, 'min_samples_leaf': 4, 'max_depth': 18}. Best is trial 17 with value: 0.9666666666666666.\u001b[0m\n",
      "\u001b[32m[I 2022-06-04 19:14:13,781]\u001b[0m Trial 24 finished with value: 0.9333333333333332 and parameters: {'criterion': 'entropy', 'splitter': 'best', 'min_samples_split': 9, 'min_samples_leaf': 2, 'max_depth': 25}. Best is trial 17 with value: 0.9666666666666666.\u001b[0m\n",
      "\u001b[32m[I 2022-06-04 19:14:13,802]\u001b[0m Trial 25 finished with value: 0.9083333333333334 and parameters: {'criterion': 'entropy', 'splitter': 'best', 'min_samples_split': 6, 'min_samples_leaf': 3, 'max_depth': 16}. Best is trial 17 with value: 0.9666666666666666.\u001b[0m\n",
      "\u001b[32m[I 2022-06-04 19:14:13,823]\u001b[0m Trial 26 finished with value: 0.9166666666666666 and parameters: {'criterion': 'entropy', 'splitter': 'best', 'min_samples_split': 4, 'min_samples_leaf': 4, 'max_depth': 32}. Best is trial 17 with value: 0.9666666666666666.\u001b[0m\n",
      "\u001b[32m[I 2022-06-04 19:14:13,842]\u001b[0m Trial 27 finished with value: 0.925 and parameters: {'criterion': 'entropy', 'splitter': 'random', 'min_samples_split': 5, 'min_samples_leaf': 2, 'max_depth': 25}. Best is trial 17 with value: 0.9666666666666666.\u001b[0m\n",
      "\u001b[32m[I 2022-06-04 19:14:13,862]\u001b[0m Trial 28 finished with value: 0.9166666666666666 and parameters: {'criterion': 'entropy', 'splitter': 'best', 'min_samples_split': 7, 'min_samples_leaf': 3, 'max_depth': 10}. Best is trial 17 with value: 0.9666666666666666.\u001b[0m\n",
      "\u001b[32m[I 2022-06-04 19:14:13,881]\u001b[0m Trial 29 finished with value: 0.9 and parameters: {'criterion': 'entropy', 'splitter': 'best', 'min_samples_split': 6, 'min_samples_leaf': 6, 'max_depth': 7}. Best is trial 17 with value: 0.9666666666666666.\u001b[0m\n",
      "\u001b[32m[I 2022-06-04 19:14:13,899]\u001b[0m Trial 30 finished with value: 0.925 and parameters: {'criterion': 'gini', 'splitter': 'best', 'min_samples_split': 9, 'min_samples_leaf': 4, 'max_depth': 26}. Best is trial 17 with value: 0.9666666666666666.\u001b[0m\n",
      "\u001b[32m[I 2022-06-04 19:14:13,920]\u001b[0m Trial 31 finished with value: 0.9583333333333334 and parameters: {'criterion': 'entropy', 'splitter': 'best', 'min_samples_split': 7, 'min_samples_leaf': 2, 'max_depth': 22}. Best is trial 17 with value: 0.9666666666666666.\u001b[0m\n"
     ]
    },
    {
     "name": "stderr",
     "output_type": "stream",
     "text": [
      "\u001b[32m[I 2022-06-04 19:14:13,939]\u001b[0m Trial 32 finished with value: 0.9333333333333333 and parameters: {'criterion': 'entropy', 'splitter': 'best', 'min_samples_split': 7, 'min_samples_leaf': 2, 'max_depth': 17}. Best is trial 17 with value: 0.9666666666666666.\u001b[0m\n",
      "\u001b[32m[I 2022-06-04 19:14:13,960]\u001b[0m Trial 33 finished with value: 0.9166666666666666 and parameters: {'criterion': 'entropy', 'splitter': 'best', 'min_samples_split': 5, 'min_samples_leaf': 3, 'max_depth': 21}. Best is trial 17 with value: 0.9666666666666666.\u001b[0m\n",
      "\u001b[32m[I 2022-06-04 19:14:13,980]\u001b[0m Trial 34 finished with value: 0.9 and parameters: {'criterion': 'entropy', 'splitter': 'random', 'min_samples_split': 7, 'min_samples_leaf': 2, 'max_depth': 27}. Best is trial 17 with value: 0.9666666666666666.\u001b[0m\n",
      "\u001b[32m[I 2022-06-04 19:14:14,000]\u001b[0m Trial 35 finished with value: 0.8833333333333332 and parameters: {'criterion': 'entropy', 'splitter': 'best', 'min_samples_split': 9, 'min_samples_leaf': 5, 'max_depth': 5}. Best is trial 17 with value: 0.9666666666666666.\u001b[0m\n",
      "\u001b[32m[I 2022-06-04 19:14:14,018]\u001b[0m Trial 36 finished with value: 0.9166666666666666 and parameters: {'criterion': 'gini', 'splitter': 'random', 'min_samples_split': 6, 'min_samples_leaf': 2, 'max_depth': 22}. Best is trial 17 with value: 0.9666666666666666.\u001b[0m\n",
      "\u001b[32m[I 2022-06-04 19:14:14,039]\u001b[0m Trial 37 finished with value: 0.85 and parameters: {'criterion': 'entropy', 'splitter': 'best', 'min_samples_split': 8, 'min_samples_leaf': 9, 'max_depth': 19}. Best is trial 17 with value: 0.9666666666666666.\u001b[0m\n",
      "\u001b[32m[I 2022-06-04 19:14:14,057]\u001b[0m Trial 38 finished with value: 0.9166666666666666 and parameters: {'criterion': 'entropy', 'splitter': 'best', 'min_samples_split': 4, 'min_samples_leaf': 6, 'max_depth': 12}. Best is trial 17 with value: 0.9666666666666666.\u001b[0m\n",
      "\u001b[32m[I 2022-06-04 19:14:14,077]\u001b[0m Trial 39 finished with value: 0.9 and parameters: {'criterion': 'entropy', 'splitter': 'best', 'min_samples_split': 5, 'min_samples_leaf': 3, 'max_depth': 16}. Best is trial 17 with value: 0.9666666666666666.\u001b[0m\n",
      "\u001b[32m[I 2022-06-04 19:14:14,095]\u001b[0m Trial 40 finished with value: 0.8583333333333332 and parameters: {'criterion': 'gini', 'splitter': 'random', 'min_samples_split': 7, 'min_samples_leaf': 5, 'max_depth': 28}. Best is trial 17 with value: 0.9666666666666666.\u001b[0m\n",
      "\u001b[32m[I 2022-06-04 19:14:14,113]\u001b[0m Trial 41 finished with value: 0.95 and parameters: {'criterion': 'entropy', 'splitter': 'best', 'min_samples_split': 7, 'min_samples_leaf': 2, 'max_depth': 32}. Best is trial 17 with value: 0.9666666666666666.\u001b[0m\n",
      "\u001b[32m[I 2022-06-04 19:14:14,132]\u001b[0m Trial 42 finished with value: 0.9416666666666667 and parameters: {'criterion': 'entropy', 'splitter': 'best', 'min_samples_split': 6, 'min_samples_leaf': 2, 'max_depth': 27}. Best is trial 17 with value: 0.9666666666666666.\u001b[0m\n",
      "\u001b[32m[I 2022-06-04 19:14:14,152]\u001b[0m Trial 43 finished with value: 0.9083333333333334 and parameters: {'criterion': 'entropy', 'splitter': 'best', 'min_samples_split': 8, 'min_samples_leaf': 3, 'max_depth': 32}. Best is trial 17 with value: 0.9666666666666666.\u001b[0m\n",
      "\u001b[32m[I 2022-06-04 19:14:14,174]\u001b[0m Trial 44 finished with value: 0.95 and parameters: {'criterion': 'log_loss', 'splitter': 'best', 'min_samples_split': 7, 'min_samples_leaf': 2, 'max_depth': 23}. Best is trial 17 with value: 0.9666666666666666.\u001b[0m\n",
      "\u001b[32m[I 2022-06-04 19:14:14,194]\u001b[0m Trial 45 finished with value: 0.9083333333333334 and parameters: {'criterion': 'log_loss', 'splitter': 'best', 'min_samples_split': 6, 'min_samples_leaf': 3, 'max_depth': 22}. Best is trial 17 with value: 0.9666666666666666.\u001b[0m\n",
      "\u001b[32m[I 2022-06-04 19:14:14,213]\u001b[0m Trial 46 finished with value: 0.9166666666666666 and parameters: {'criterion': 'entropy', 'splitter': 'best', 'min_samples_split': 8, 'min_samples_leaf': 4, 'max_depth': 30}. Best is trial 17 with value: 0.9666666666666666.\u001b[0m\n",
      "\u001b[32m[I 2022-06-04 19:14:14,235]\u001b[0m Trial 47 finished with value: 0.9666666666666668 and parameters: {'criterion': 'log_loss', 'splitter': 'best', 'min_samples_split': 5, 'min_samples_leaf': 2, 'max_depth': 15}. Best is trial 47 with value: 0.9666666666666668.\u001b[0m\n",
      "\u001b[32m[I 2022-06-04 19:14:14,254]\u001b[0m Trial 48 finished with value: 0.9083333333333334 and parameters: {'criterion': 'log_loss', 'splitter': 'best', 'min_samples_split': 3, 'min_samples_leaf': 3, 'max_depth': 15}. Best is trial 47 with value: 0.9666666666666668.\u001b[0m\n",
      "\u001b[32m[I 2022-06-04 19:14:14,274]\u001b[0m Trial 49 finished with value: 0.9416666666666668 and parameters: {'criterion': 'log_loss', 'splitter': 'best', 'min_samples_split': 5, 'min_samples_leaf': 2, 'max_depth': 13}. Best is trial 47 with value: 0.9666666666666668.\u001b[0m\n",
      "\u001b[32m[I 2022-06-04 19:14:14,294]\u001b[0m Trial 50 finished with value: 0.9083333333333334 and parameters: {'criterion': 'log_loss', 'splitter': 'random', 'min_samples_split': 4, 'min_samples_leaf': 3, 'max_depth': 18}. Best is trial 47 with value: 0.9666666666666668.\u001b[0m\n",
      "\u001b[32m[I 2022-06-04 19:14:14,316]\u001b[0m Trial 51 finished with value: 0.9416666666666667 and parameters: {'criterion': 'log_loss', 'splitter': 'best', 'min_samples_split': 5, 'min_samples_leaf': 2, 'max_depth': 20}. Best is trial 47 with value: 0.9666666666666668.\u001b[0m\n",
      "\u001b[32m[I 2022-06-04 19:14:14,339]\u001b[0m Trial 52 finished with value: 0.95 and parameters: {'criterion': 'log_loss', 'splitter': 'best', 'min_samples_split': 6, 'min_samples_leaf': 2, 'max_depth': 24}. Best is trial 47 with value: 0.9666666666666668.\u001b[0m\n",
      "\u001b[32m[I 2022-06-04 19:14:14,363]\u001b[0m Trial 53 finished with value: 0.9666666666666666 and parameters: {'criterion': 'log_loss', 'splitter': 'best', 'min_samples_split': 4, 'min_samples_leaf': 2, 'max_depth': 24}. Best is trial 47 with value: 0.9666666666666668.\u001b[0m\n",
      "\u001b[32m[I 2022-06-04 19:14:14,385]\u001b[0m Trial 54 finished with value: 0.9166666666666666 and parameters: {'criterion': 'log_loss', 'splitter': 'best', 'min_samples_split': 4, 'min_samples_leaf': 3, 'max_depth': 8}. Best is trial 47 with value: 0.9666666666666668.\u001b[0m\n",
      "\u001b[32m[I 2022-06-04 19:14:14,407]\u001b[0m Trial 55 finished with value: 0.975 and parameters: {'criterion': 'log_loss', 'splitter': 'best', 'min_samples_split': 3, 'min_samples_leaf': 2, 'max_depth': 28}. Best is trial 55 with value: 0.975.\u001b[0m\n",
      "\u001b[32m[I 2022-06-04 19:14:14,428]\u001b[0m Trial 56 finished with value: 0.9333333333333333 and parameters: {'criterion': 'log_loss', 'splitter': 'best', 'min_samples_split': 2, 'min_samples_leaf': 2, 'max_depth': 5}. Best is trial 55 with value: 0.975.\u001b[0m\n",
      "\u001b[32m[I 2022-06-04 19:14:14,448]\u001b[0m Trial 57 finished with value: 0.8083333333333333 and parameters: {'criterion': 'log_loss', 'splitter': 'best', 'min_samples_split': 4, 'min_samples_leaf': 7, 'max_depth': 2}. Best is trial 55 with value: 0.975.\u001b[0m\n",
      "\u001b[32m[I 2022-06-04 19:14:14,471]\u001b[0m Trial 58 finished with value: 0.9166666666666666 and parameters: {'criterion': 'log_loss', 'splitter': 'best', 'min_samples_split': 3, 'min_samples_leaf': 3, 'max_depth': 15}. Best is trial 55 with value: 0.975.\u001b[0m\n",
      "\u001b[32m[I 2022-06-04 19:14:14,491]\u001b[0m Trial 59 finished with value: 0.9166666666666666 and parameters: {'criterion': 'log_loss', 'splitter': 'best', 'min_samples_split': 3, 'min_samples_leaf': 4, 'max_depth': 28}. Best is trial 55 with value: 0.975.\u001b[0m\n",
      "\u001b[32m[I 2022-06-04 19:14:14,512]\u001b[0m Trial 60 finished with value: 0.9166666666666666 and parameters: {'criterion': 'log_loss', 'splitter': 'best', 'min_samples_split': 3, 'min_samples_leaf': 3, 'max_depth': 20}. Best is trial 55 with value: 0.975.\u001b[0m\n",
      "\u001b[32m[I 2022-06-04 19:14:14,533]\u001b[0m Trial 61 finished with value: 0.9333333333333332 and parameters: {'criterion': 'gini', 'splitter': 'best', 'min_samples_split': 5, 'min_samples_leaf': 2, 'max_depth': 24}. Best is trial 55 with value: 0.975.\u001b[0m\n",
      "\u001b[32m[I 2022-06-04 19:14:14,554]\u001b[0m Trial 62 finished with value: 0.9333333333333333 and parameters: {'criterion': 'log_loss', 'splitter': 'best', 'min_samples_split': 4, 'min_samples_leaf': 2, 'max_depth': 27}. Best is trial 55 with value: 0.975.\u001b[0m\n",
      "\u001b[32m[I 2022-06-04 19:14:14,576]\u001b[0m Trial 63 finished with value: 0.9416666666666668 and parameters: {'criterion': 'log_loss', 'splitter': 'best', 'min_samples_split': 2, 'min_samples_leaf': 2, 'max_depth': 24}. Best is trial 55 with value: 0.975.\u001b[0m\n"
     ]
    },
    {
     "name": "stderr",
     "output_type": "stream",
     "text": [
      "\u001b[32m[I 2022-06-04 19:14:14,597]\u001b[0m Trial 64 finished with value: 0.9166666666666666 and parameters: {'criterion': 'log_loss', 'splitter': 'best', 'min_samples_split': 6, 'min_samples_leaf': 2, 'max_depth': 4}. Best is trial 55 with value: 0.975.\u001b[0m\n",
      "\u001b[32m[I 2022-06-04 19:14:14,616]\u001b[0m Trial 65 finished with value: 0.9416666666666667 and parameters: {'criterion': 'entropy', 'splitter': 'best', 'min_samples_split': 5, 'min_samples_leaf': 2, 'max_depth': 30}. Best is trial 55 with value: 0.975.\u001b[0m\n",
      "\u001b[32m[I 2022-06-04 19:14:14,636]\u001b[0m Trial 66 finished with value: 0.9083333333333334 and parameters: {'criterion': 'log_loss', 'splitter': 'best', 'min_samples_split': 6, 'min_samples_leaf': 3, 'max_depth': 18}. Best is trial 55 with value: 0.975.\u001b[0m\n",
      "\u001b[32m[I 2022-06-04 19:14:14,656]\u001b[0m Trial 67 finished with value: 0.9666666666666666 and parameters: {'criterion': 'log_loss', 'splitter': 'best', 'min_samples_split': 4, 'min_samples_leaf': 2, 'max_depth': 22}. Best is trial 55 with value: 0.975.\u001b[0m\n",
      "\u001b[32m[I 2022-06-04 19:14:14,675]\u001b[0m Trial 68 finished with value: 0.925 and parameters: {'criterion': 'log_loss', 'splitter': 'random', 'min_samples_split': 4, 'min_samples_leaf': 2, 'max_depth': 21}. Best is trial 55 with value: 0.975.\u001b[0m\n",
      "\u001b[32m[I 2022-06-04 19:14:14,693]\u001b[0m Trial 69 finished with value: 0.9 and parameters: {'criterion': 'log_loss', 'splitter': 'best', 'min_samples_split': 4, 'min_samples_leaf': 3, 'max_depth': 17}. Best is trial 55 with value: 0.975.\u001b[0m\n",
      "\u001b[32m[I 2022-06-04 19:14:14,713]\u001b[0m Trial 70 finished with value: 0.9416666666666668 and parameters: {'criterion': 'gini', 'splitter': 'best', 'min_samples_split': 3, 'min_samples_leaf': 2, 'max_depth': 14}. Best is trial 55 with value: 0.975.\u001b[0m\n",
      "\u001b[32m[I 2022-06-04 19:14:14,732]\u001b[0m Trial 71 finished with value: 0.95 and parameters: {'criterion': 'log_loss', 'splitter': 'best', 'min_samples_split': 6, 'min_samples_leaf': 2, 'max_depth': 24}. Best is trial 55 with value: 0.975.\u001b[0m\n",
      "\u001b[32m[I 2022-06-04 19:14:14,753]\u001b[0m Trial 72 finished with value: 0.9583333333333334 and parameters: {'criterion': 'entropy', 'splitter': 'best', 'min_samples_split': 4, 'min_samples_leaf': 2, 'max_depth': 29}. Best is trial 55 with value: 0.975.\u001b[0m\n",
      "\u001b[32m[I 2022-06-04 19:14:14,774]\u001b[0m Trial 73 finished with value: 0.9583333333333333 and parameters: {'criterion': 'entropy', 'splitter': 'best', 'min_samples_split': 4, 'min_samples_leaf': 2, 'max_depth': 28}. Best is trial 55 with value: 0.975.\u001b[0m\n",
      "\u001b[32m[I 2022-06-04 19:14:14,794]\u001b[0m Trial 74 finished with value: 0.9 and parameters: {'criterion': 'entropy', 'splitter': 'best', 'min_samples_split': 3, 'min_samples_leaf': 3, 'max_depth': 20}. Best is trial 55 with value: 0.975.\u001b[0m\n",
      "\u001b[32m[I 2022-06-04 19:14:14,813]\u001b[0m Trial 75 finished with value: 0.9583333333333333 and parameters: {'criterion': 'entropy', 'splitter': 'best', 'min_samples_split': 5, 'min_samples_leaf': 2, 'max_depth': 26}. Best is trial 55 with value: 0.975.\u001b[0m\n",
      "\u001b[32m[I 2022-06-04 19:14:14,833]\u001b[0m Trial 76 finished with value: 0.8916666666666666 and parameters: {'criterion': 'entropy', 'splitter': 'best', 'min_samples_split': 5, 'min_samples_leaf': 7, 'max_depth': 29}. Best is trial 55 with value: 0.975.\u001b[0m\n",
      "\u001b[32m[I 2022-06-04 19:14:14,855]\u001b[0m Trial 77 finished with value: 0.9416666666666667 and parameters: {'criterion': 'log_loss', 'splitter': 'best', 'min_samples_split': 4, 'min_samples_leaf': 2, 'max_depth': 22}. Best is trial 55 with value: 0.975.\u001b[0m\n",
      "\u001b[32m[I 2022-06-04 19:14:14,875]\u001b[0m Trial 78 finished with value: 0.8583333333333332 and parameters: {'criterion': 'entropy', 'splitter': 'best', 'min_samples_split': 4, 'min_samples_leaf': 10, 'max_depth': 19}. Best is trial 55 with value: 0.975.\u001b[0m\n",
      "\u001b[32m[I 2022-06-04 19:14:14,895]\u001b[0m Trial 79 finished with value: 0.9083333333333334 and parameters: {'criterion': 'entropy', 'splitter': 'random', 'min_samples_split': 3, 'min_samples_leaf': 3, 'max_depth': 26}. Best is trial 55 with value: 0.975.\u001b[0m\n",
      "\u001b[32m[I 2022-06-04 19:14:14,916]\u001b[0m Trial 80 finished with value: 0.9166666666666667 and parameters: {'criterion': 'gini', 'splitter': 'best', 'min_samples_split': 5, 'min_samples_leaf': 4, 'max_depth': 11}. Best is trial 55 with value: 0.975.\u001b[0m\n",
      "\u001b[32m[I 2022-06-04 19:14:14,935]\u001b[0m Trial 81 finished with value: 0.9666666666666668 and parameters: {'criterion': 'entropy', 'splitter': 'best', 'min_samples_split': 5, 'min_samples_leaf': 2, 'max_depth': 26}. Best is trial 55 with value: 0.975.\u001b[0m\n",
      "\u001b[32m[I 2022-06-04 19:14:14,955]\u001b[0m Trial 82 finished with value: 0.9666666666666668 and parameters: {'criterion': 'entropy', 'splitter': 'best', 'min_samples_split': 5, 'min_samples_leaf': 2, 'max_depth': 23}. Best is trial 55 with value: 0.975.\u001b[0m\n",
      "\u001b[32m[I 2022-06-04 19:14:14,976]\u001b[0m Trial 83 finished with value: 0.95 and parameters: {'criterion': 'entropy', 'splitter': 'best', 'min_samples_split': 5, 'min_samples_leaf': 2, 'max_depth': 23}. Best is trial 55 with value: 0.975.\u001b[0m\n",
      "\u001b[32m[I 2022-06-04 19:14:15,000]\u001b[0m Trial 84 finished with value: 0.95 and parameters: {'criterion': 'entropy', 'splitter': 'best', 'min_samples_split': 5, 'min_samples_leaf': 2, 'max_depth': 17}. Best is trial 55 with value: 0.975.\u001b[0m\n",
      "\u001b[32m[I 2022-06-04 19:14:15,022]\u001b[0m Trial 85 finished with value: 0.9083333333333334 and parameters: {'criterion': 'entropy', 'splitter': 'best', 'min_samples_split': 5, 'min_samples_leaf': 3, 'max_depth': 21}. Best is trial 55 with value: 0.975.\u001b[0m\n",
      "\u001b[32m[I 2022-06-04 19:14:15,042]\u001b[0m Trial 86 finished with value: 0.95 and parameters: {'criterion': 'entropy', 'splitter': 'best', 'min_samples_split': 6, 'min_samples_leaf': 2, 'max_depth': 25}. Best is trial 55 with value: 0.975.\u001b[0m\n",
      "\u001b[32m[I 2022-06-04 19:14:15,062]\u001b[0m Trial 87 finished with value: 0.9583333333333334 and parameters: {'criterion': 'entropy', 'splitter': 'best', 'min_samples_split': 4, 'min_samples_leaf': 2, 'max_depth': 30}. Best is trial 55 with value: 0.975.\u001b[0m\n",
      "\u001b[32m[I 2022-06-04 19:14:15,082]\u001b[0m Trial 88 finished with value: 0.9416666666666667 and parameters: {'criterion': 'log_loss', 'splitter': 'best', 'min_samples_split': 4, 'min_samples_leaf': 2, 'max_depth': 6}. Best is trial 55 with value: 0.975.\u001b[0m\n",
      "\u001b[32m[I 2022-06-04 19:14:15,104]\u001b[0m Trial 89 finished with value: 0.9083333333333334 and parameters: {'criterion': 'entropy', 'splitter': 'best', 'min_samples_split': 4, 'min_samples_leaf': 3, 'max_depth': 22}. Best is trial 55 with value: 0.975.\u001b[0m\n",
      "\u001b[32m[I 2022-06-04 19:14:15,124]\u001b[0m Trial 90 finished with value: 0.8416666666666666 and parameters: {'criterion': 'log_loss', 'splitter': 'best', 'min_samples_split': 4, 'min_samples_leaf': 9, 'max_depth': 32}. Best is trial 55 with value: 0.975.\u001b[0m\n",
      "\u001b[32m[I 2022-06-04 19:14:15,144]\u001b[0m Trial 91 finished with value: 0.9583333333333334 and parameters: {'criterion': 'entropy', 'splitter': 'best', 'min_samples_split': 5, 'min_samples_leaf': 2, 'max_depth': 26}. Best is trial 55 with value: 0.975.\u001b[0m\n",
      "\u001b[32m[I 2022-06-04 19:14:15,165]\u001b[0m Trial 92 finished with value: 0.9416666666666667 and parameters: {'criterion': 'entropy', 'splitter': 'best', 'min_samples_split': 5, 'min_samples_leaf': 2, 'max_depth': 30}. Best is trial 55 with value: 0.975.\u001b[0m\n",
      "\u001b[32m[I 2022-06-04 19:14:15,190]\u001b[0m Trial 93 finished with value: 0.9583333333333333 and parameters: {'criterion': 'entropy', 'splitter': 'best', 'min_samples_split': 4, 'min_samples_leaf': 2, 'max_depth': 29}. Best is trial 55 with value: 0.975.\u001b[0m\n",
      "\u001b[32m[I 2022-06-04 19:14:15,211]\u001b[0m Trial 94 finished with value: 0.9666666666666666 and parameters: {'criterion': 'entropy', 'splitter': 'best', 'min_samples_split': 5, 'min_samples_leaf': 2, 'max_depth': 26}. Best is trial 55 with value: 0.975.\u001b[0m\n",
      "\u001b[32m[I 2022-06-04 19:14:15,231]\u001b[0m Trial 95 finished with value: 0.9583333333333334 and parameters: {'criterion': 'entropy', 'splitter': 'best', 'min_samples_split': 3, 'min_samples_leaf': 2, 'max_depth': 25}. Best is trial 55 with value: 0.975.\u001b[0m\n",
      "\u001b[32m[I 2022-06-04 19:14:15,251]\u001b[0m Trial 96 finished with value: 0.9166666666666666 and parameters: {'criterion': 'entropy', 'splitter': 'best', 'min_samples_split': 5, 'min_samples_leaf': 3, 'max_depth': 26}. Best is trial 55 with value: 0.975.\u001b[0m\n"
     ]
    },
    {
     "name": "stderr",
     "output_type": "stream",
     "text": [
      "\u001b[32m[I 2022-06-04 19:14:15,271]\u001b[0m Trial 97 finished with value: 0.9166666666666666 and parameters: {'criterion': 'log_loss', 'splitter': 'random', 'min_samples_split': 5, 'min_samples_leaf': 2, 'max_depth': 20}. Best is trial 55 with value: 0.975.\u001b[0m\n",
      "\u001b[32m[I 2022-06-04 19:14:15,291]\u001b[0m Trial 98 finished with value: 0.9583333333333333 and parameters: {'criterion': 'entropy', 'splitter': 'best', 'min_samples_split': 2, 'min_samples_leaf': 2, 'max_depth': 23}. Best is trial 55 with value: 0.975.\u001b[0m\n",
      "\u001b[32m[I 2022-06-04 19:14:15,311]\u001b[0m Trial 99 finished with value: 0.8666666666666666 and parameters: {'criterion': 'log_loss', 'splitter': 'best', 'min_samples_split': 6, 'min_samples_leaf': 3, 'max_depth': 3}. Best is trial 55 with value: 0.975.\u001b[0m\n"
     ]
    },
    {
     "name": "stdout",
     "output_type": "stream",
     "text": [
      "\u001b[32mTraining is done, evaluation score = 0.9916666666666667\u001b[0m\n"
     ]
    },
    {
     "ename": "Exception",
     "evalue": "Data named \"version2\" already exist, if you wish to use the existed \"version2\", please remove X and Y field",
     "output_type": "error",
     "traceback": [
      "\u001b[1;31m---------------------------------------------------------------------------\u001b[0m",
      "\u001b[1;31mException\u001b[0m                                 Traceback (most recent call last)",
      "\u001b[1;32m~\\AppData\\Local\\Temp/ipykernel_3496/1589974972.py\u001b[0m in \u001b[0;36m<module>\u001b[1;34m\u001b[0m\n\u001b[0;32m      8\u001b[0m \u001b[1;33m\u001b[0m\u001b[0m\n\u001b[0;32m      9\u001b[0m \u001b[1;31m# Train\u001b[0m\u001b[1;33m\u001b[0m\u001b[1;33m\u001b[0m\u001b[0m\n\u001b[1;32m---> 10\u001b[1;33m \u001b[0morpheusDT\u001b[0m\u001b[1;33m.\u001b[0m\u001b[0mtrain\u001b[0m\u001b[1;33m(\u001b[0m\u001b[0mdata_name\u001b[0m\u001b[1;33m,\u001b[0m \u001b[0mX\u001b[0m\u001b[1;33m,\u001b[0m \u001b[0my\u001b[0m\u001b[1;33m,\u001b[0m \u001b[0mmodel_name\u001b[0m\u001b[1;33m)\u001b[0m\u001b[1;33m\u001b[0m\u001b[1;33m\u001b[0m\u001b[0m\n\u001b[0m",
      "\u001b[1;32m~\\anaconda3\\lib\\site-packages\\multipledispatch\\dispatcher.py\u001b[0m in \u001b[0;36m__call__\u001b[1;34m(self, *args, **kwargs)\u001b[0m\n\u001b[0;32m    433\u001b[0m             raise NotImplementedError('Could not find signature for %s: <%s>' %\n\u001b[0;32m    434\u001b[0m                                       (self.name, str_signature(types)))\n\u001b[1;32m--> 435\u001b[1;33m         \u001b[1;32mreturn\u001b[0m \u001b[0mfunc\u001b[0m\u001b[1;33m(\u001b[0m\u001b[0mself\u001b[0m\u001b[1;33m.\u001b[0m\u001b[0mobj\u001b[0m\u001b[1;33m,\u001b[0m \u001b[1;33m*\u001b[0m\u001b[0margs\u001b[0m\u001b[1;33m,\u001b[0m \u001b[1;33m**\u001b[0m\u001b[0mkwargs\u001b[0m\u001b[1;33m)\u001b[0m\u001b[1;33m\u001b[0m\u001b[1;33m\u001b[0m\u001b[0m\n\u001b[0m\u001b[0;32m    436\u001b[0m \u001b[1;33m\u001b[0m\u001b[0m\n\u001b[0;32m    437\u001b[0m \u001b[1;33m\u001b[0m\u001b[0m\n",
      "\u001b[1;32m~\\Documents\\Python\\SQL-final\\orpheusDT\\src\\orpheus\\orpheus.py\u001b[0m in \u001b[0;36mtrain\u001b[1;34m(self, data_name, data_x, data_y, model_name)\u001b[0m\n\u001b[0;32m     80\u001b[0m \u001b[1;33m\u001b[0m\u001b[0m\n\u001b[0;32m     81\u001b[0m         \u001b[0mself\u001b[0m\u001b[1;33m.\u001b[0m\u001b[0msave_metaData_to_DB\u001b[0m\u001b[1;33m(\u001b[0m\u001b[1;33m)\u001b[0m\u001b[1;33m\u001b[0m\u001b[1;33m\u001b[0m\u001b[0m\n\u001b[1;32m---> 82\u001b[1;33m \u001b[1;33m\u001b[0m\u001b[0m\n\u001b[0m\u001b[0;32m     83\u001b[0m \u001b[1;33m\u001b[0m\u001b[0m\n\u001b[0;32m     84\u001b[0m     \u001b[1;33m@\u001b[0m\u001b[0mdispatch\u001b[0m\u001b[1;33m(\u001b[0m\u001b[0mstr\u001b[0m\u001b[1;33m,\u001b[0m \u001b[0mstr\u001b[0m\u001b[1;33m,\u001b[0m \u001b[0mobject\u001b[0m\u001b[1;33m)\u001b[0m\u001b[1;33m\u001b[0m\u001b[1;33m\u001b[0m\u001b[0m\n",
      "\u001b[1;32m~\\anaconda3\\lib\\site-packages\\multipledispatch\\dispatcher.py\u001b[0m in \u001b[0;36m__call__\u001b[1;34m(self, *args, **kwargs)\u001b[0m\n\u001b[0;32m    433\u001b[0m             raise NotImplementedError('Could not find signature for %s: <%s>' %\n\u001b[0;32m    434\u001b[0m                                       (self.name, str_signature(types)))\n\u001b[1;32m--> 435\u001b[1;33m         \u001b[1;32mreturn\u001b[0m \u001b[0mfunc\u001b[0m\u001b[1;33m(\u001b[0m\u001b[0mself\u001b[0m\u001b[1;33m.\u001b[0m\u001b[0mobj\u001b[0m\u001b[1;33m,\u001b[0m \u001b[1;33m*\u001b[0m\u001b[0margs\u001b[0m\u001b[1;33m,\u001b[0m \u001b[1;33m**\u001b[0m\u001b[0mkwargs\u001b[0m\u001b[1;33m)\u001b[0m\u001b[1;33m\u001b[0m\u001b[1;33m\u001b[0m\u001b[0m\n\u001b[0m\u001b[0;32m    436\u001b[0m \u001b[1;33m\u001b[0m\u001b[0m\n\u001b[0;32m    437\u001b[0m \u001b[1;33m\u001b[0m\u001b[0m\n",
      "\u001b[1;32m~\\Documents\\Python\\SQL-final\\orpheusDT\\src\\orpheus\\orpheus.py\u001b[0m in \u001b[0;36msave_Data_to_DB\u001b[1;34m(self)\u001b[0m\n\u001b[0;32m    202\u001b[0m                              'please remove X and Y field'.format(self.data_name, self.data_name))\n\u001b[0;32m    203\u001b[0m \u001b[1;33m\u001b[0m\u001b[0m\n\u001b[1;32m--> 204\u001b[1;33m     \u001b[1;33m@\u001b[0m\u001b[0mdispatch\u001b[0m\u001b[1;33m(\u001b[0m\u001b[0mstr\u001b[0m\u001b[1;33m,\u001b[0m \u001b[0mobject\u001b[0m\u001b[1;33m,\u001b[0m \u001b[0mobject\u001b[0m\u001b[1;33m)\u001b[0m\u001b[1;33m\u001b[0m\u001b[1;33m\u001b[0m\u001b[0m\n\u001b[0m\u001b[0;32m    205\u001b[0m     \u001b[1;32mdef\u001b[0m \u001b[0msave_Data_to_DB\u001b[0m\u001b[1;33m(\u001b[0m\u001b[0mself\u001b[0m\u001b[1;33m,\u001b[0m \u001b[0mdata_name\u001b[0m\u001b[1;33m,\u001b[0m \u001b[0mx\u001b[0m\u001b[1;33m,\u001b[0m \u001b[0my\u001b[0m\u001b[1;33m)\u001b[0m\u001b[1;33m:\u001b[0m\u001b[1;33m\u001b[0m\u001b[1;33m\u001b[0m\u001b[0m\n\u001b[0;32m    206\u001b[0m         \"\"\"\n",
      "\u001b[1;31mException\u001b[0m: Data named \"version2\" already exist, if you wish to use the existed \"version2\", please remove X and Y field"
     ]
    }
   ],
   "source": [
    "# Data preparation\n",
    "data_name = 'version2'\n",
    "X = data_versions[data_name][0]\n",
    "y = data_versions[data_name][1]\n",
    "# Model preparation\n",
    "model_name = \"dfc_v1\"\n",
    "model = DecisionTreeClassifier()\n",
    "\n",
    "# Train\n",
    "orpheusDT.train(data_name, X, y, model_name)"
   ]
  },
  {
   "cell_type": "markdown",
   "id": "5fabf522",
   "metadata": {},
   "source": [
    "## 3. Training with existed data + new model\n"
   ]
  },
  {
   "cell_type": "code",
   "execution_count": 45,
   "id": "2848ce63",
   "metadata": {},
   "outputs": [
    {
     "name": "stdout",
     "output_type": "stream",
     "text": [
      "\u001b[32mData \"version1\" had been successfully extracted\u001b[0m\n"
     ]
    },
    {
     "name": "stderr",
     "output_type": "stream",
     "text": [
      "\u001b[32m[I 2022-06-04 19:14:19,286]\u001b[0m A new study created in memory with name: no-name-5e15e709-6adb-4c3b-89df-824f6bc1d27a\u001b[0m\n",
      "\u001b[32m[I 2022-06-04 19:14:19,299]\u001b[0m Trial 0 finished with value: 0.8600000000000001 and parameters: {'criterion': 'entropy', 'splitter': 'random', 'min_samples_split': 10, 'min_samples_leaf': 10, 'max_depth': 7}. Best is trial 0 with value: 0.8600000000000001.\u001b[0m\n",
      "\u001b[32m[I 2022-06-04 19:14:19,309]\u001b[0m Trial 1 finished with value: 0.8699999999999999 and parameters: {'criterion': 'gini', 'splitter': 'best', 'min_samples_split': 4, 'min_samples_leaf': 4, 'max_depth': 7}. Best is trial 1 with value: 0.8699999999999999.\u001b[0m\n",
      "\u001b[32m[I 2022-06-04 19:14:19,318]\u001b[0m Trial 2 finished with value: 0.7999999999999999 and parameters: {'criterion': 'entropy', 'splitter': 'random', 'min_samples_split': 5, 'min_samples_leaf': 8, 'max_depth': 20}. Best is trial 1 with value: 0.8699999999999999.\u001b[0m\n",
      "\u001b[32m[I 2022-06-04 19:14:19,329]\u001b[0m Trial 3 finished with value: 0.85 and parameters: {'criterion': 'gini', 'splitter': 'best', 'min_samples_split': 5, 'min_samples_leaf': 5, 'max_depth': 4}. Best is trial 1 with value: 0.8699999999999999.\u001b[0m\n",
      "\u001b[32m[I 2022-06-04 19:14:19,338]\u001b[0m Trial 4 finished with value: 0.8099999999999999 and parameters: {'criterion': 'gini', 'splitter': 'random', 'min_samples_split': 9, 'min_samples_leaf': 7, 'max_depth': 2}. Best is trial 1 with value: 0.8699999999999999.\u001b[0m\n",
      "\u001b[32m[I 2022-06-04 19:14:19,348]\u001b[0m Trial 5 finished with value: 0.79 and parameters: {'criterion': 'gini', 'splitter': 'random', 'min_samples_split': 4, 'min_samples_leaf': 8, 'max_depth': 21}. Best is trial 1 with value: 0.8699999999999999.\u001b[0m\n",
      "\u001b[32m[I 2022-06-04 19:14:19,358]\u001b[0m Trial 6 finished with value: 0.9 and parameters: {'criterion': 'log_loss', 'splitter': 'best', 'min_samples_split': 5, 'min_samples_leaf': 3, 'max_depth': 7}. Best is trial 6 with value: 0.9.\u001b[0m\n",
      "\u001b[32m[I 2022-06-04 19:14:19,368]\u001b[0m Trial 7 finished with value: 0.8800000000000001 and parameters: {'criterion': 'entropy', 'splitter': 'random', 'min_samples_split': 5, 'min_samples_leaf': 5, 'max_depth': 9}. Best is trial 6 with value: 0.9.\u001b[0m\n",
      "\u001b[32m[I 2022-06-04 19:14:19,378]\u001b[0m Trial 8 finished with value: 0.8099999999999999 and parameters: {'criterion': 'log_loss', 'splitter': 'random', 'min_samples_split': 3, 'min_samples_leaf': 10, 'max_depth': 2}. Best is trial 6 with value: 0.9.\u001b[0m\n",
      "\u001b[32m[I 2022-06-04 19:14:19,386]\u001b[0m Trial 9 finished with value: 0.9099999999999999 and parameters: {'criterion': 'log_loss', 'splitter': 'best', 'min_samples_split': 2, 'min_samples_leaf': 3, 'max_depth': 6}. Best is trial 9 with value: 0.9099999999999999.\u001b[0m\n",
      "\u001b[32m[I 2022-06-04 19:14:19,403]\u001b[0m Trial 10 finished with value: 0.93 and parameters: {'criterion': 'log_loss', 'splitter': 'best', 'min_samples_split': 2, 'min_samples_leaf': 2, 'max_depth': 4}. Best is trial 10 with value: 0.93.\u001b[0m\n",
      "\u001b[32m[I 2022-06-04 19:14:19,419]\u001b[0m Trial 11 finished with value: 0.93 and parameters: {'criterion': 'log_loss', 'splitter': 'best', 'min_samples_split': 2, 'min_samples_leaf': 2, 'max_depth': 4}. Best is trial 10 with value: 0.93.\u001b[0m\n",
      "\u001b[32m[I 2022-06-04 19:14:19,434]\u001b[0m Trial 12 finished with value: 0.86 and parameters: {'criterion': 'log_loss', 'splitter': 'best', 'min_samples_split': 2, 'min_samples_leaf': 2, 'max_depth': 3}. Best is trial 10 with value: 0.93.\u001b[0m\n",
      "\u001b[32m[I 2022-06-04 19:14:19,449]\u001b[0m Trial 13 finished with value: 0.9100000000000001 and parameters: {'criterion': 'log_loss', 'splitter': 'best', 'min_samples_split': 7, 'min_samples_leaf': 2, 'max_depth': 4}. Best is trial 10 with value: 0.93.\u001b[0m\n",
      "\u001b[32m[I 2022-06-04 19:14:19,463]\u001b[0m Trial 14 finished with value: 0.93 and parameters: {'criterion': 'log_loss', 'splitter': 'best', 'min_samples_split': 7, 'min_samples_leaf': 2, 'max_depth': 12}. Best is trial 10 with value: 0.93.\u001b[0m\n",
      "\u001b[32m[I 2022-06-04 19:14:19,478]\u001b[0m Trial 15 finished with value: 0.86 and parameters: {'criterion': 'log_loss', 'splitter': 'best', 'min_samples_split': 2, 'min_samples_leaf': 4, 'max_depth': 3}. Best is trial 10 with value: 0.93.\u001b[0m\n",
      "\u001b[32m[I 2022-06-04 19:14:19,493]\u001b[0m Trial 16 finished with value: 0.89 and parameters: {'criterion': 'log_loss', 'splitter': 'best', 'min_samples_split': 3, 'min_samples_leaf': 6, 'max_depth': 4}. Best is trial 10 with value: 0.93.\u001b[0m\n",
      "\u001b[32m[I 2022-06-04 19:14:19,509]\u001b[0m Trial 17 finished with value: 0.9099999999999999 and parameters: {'criterion': 'log_loss', 'splitter': 'best', 'min_samples_split': 7, 'min_samples_leaf': 3, 'max_depth': 14}. Best is trial 10 with value: 0.93.\u001b[0m\n",
      "\u001b[32m[I 2022-06-04 19:14:19,525]\u001b[0m Trial 18 finished with value: 0.9 and parameters: {'criterion': 'log_loss', 'splitter': 'best', 'min_samples_split': 7, 'min_samples_leaf': 4, 'max_depth': 12}. Best is trial 10 with value: 0.93.\u001b[0m\n",
      "\u001b[32m[I 2022-06-04 19:14:19,540]\u001b[0m Trial 19 finished with value: 0.9200000000000002 and parameters: {'criterion': 'entropy', 'splitter': 'best', 'min_samples_split': 8, 'min_samples_leaf': 2, 'max_depth': 26}. Best is trial 10 with value: 0.93.\u001b[0m\n",
      "\u001b[32m[I 2022-06-04 19:14:19,554]\u001b[0m Trial 20 finished with value: 0.9200000000000002 and parameters: {'criterion': 'log_loss', 'splitter': 'best', 'min_samples_split': 6, 'min_samples_leaf': 5, 'max_depth': 12}. Best is trial 10 with value: 0.93.\u001b[0m\n",
      "\u001b[32m[I 2022-06-04 19:14:19,570]\u001b[0m Trial 21 finished with value: 0.9200000000000002 and parameters: {'criterion': 'log_loss', 'splitter': 'best', 'min_samples_split': 3, 'min_samples_leaf': 2, 'max_depth': 5}. Best is trial 10 with value: 0.93.\u001b[0m\n",
      "\u001b[32m[I 2022-06-04 19:14:19,585]\u001b[0m Trial 22 finished with value: 0.86 and parameters: {'criterion': 'log_loss', 'splitter': 'best', 'min_samples_split': 6, 'min_samples_leaf': 3, 'max_depth': 3}. Best is trial 10 with value: 0.93.\u001b[0m\n",
      "\u001b[32m[I 2022-06-04 19:14:19,600]\u001b[0m Trial 23 finished with value: 0.93 and parameters: {'criterion': 'log_loss', 'splitter': 'best', 'min_samples_split': 8, 'min_samples_leaf': 2, 'max_depth': 9}. Best is trial 10 with value: 0.93.\u001b[0m\n",
      "\u001b[32m[I 2022-06-04 19:14:19,617]\u001b[0m Trial 24 finished with value: 0.9099999999999999 and parameters: {'criterion': 'log_loss', 'splitter': 'best', 'min_samples_split': 4, 'min_samples_leaf': 3, 'max_depth': 5}. Best is trial 10 with value: 0.93.\u001b[0m\n",
      "\u001b[32m[I 2022-06-04 19:14:19,632]\u001b[0m Trial 25 finished with value: 0.9099999999999999 and parameters: {'criterion': 'log_loss', 'splitter': 'best', 'min_samples_split': 9, 'min_samples_leaf': 4, 'max_depth': 9}. Best is trial 10 with value: 0.93.\u001b[0m\n",
      "\u001b[32m[I 2022-06-04 19:14:19,653]\u001b[0m Trial 26 finished with value: 0.93 and parameters: {'criterion': 'log_loss', 'splitter': 'best', 'min_samples_split': 8, 'min_samples_leaf': 2, 'max_depth': 16}. Best is trial 10 with value: 0.93.\u001b[0m\n",
      "\u001b[32m[I 2022-06-04 19:14:19,670]\u001b[0m Trial 27 finished with value: 0.86 and parameters: {'criterion': 'gini', 'splitter': 'best', 'min_samples_split': 8, 'min_samples_leaf': 3, 'max_depth': 15}. Best is trial 10 with value: 0.93.\u001b[0m\n",
      "\u001b[32m[I 2022-06-04 19:14:19,685]\u001b[0m Trial 28 finished with value: 0.89 and parameters: {'criterion': 'entropy', 'splitter': 'best', 'min_samples_split': 8, 'min_samples_leaf': 6, 'max_depth': 31}. Best is trial 10 with value: 0.93.\u001b[0m\n",
      "\u001b[32m[I 2022-06-04 19:14:19,701]\u001b[0m Trial 29 finished with value: 0.8600000000000001 and parameters: {'criterion': 'log_loss', 'splitter': 'random', 'min_samples_split': 9, 'min_samples_leaf': 10, 'max_depth': 9}. Best is trial 10 with value: 0.93.\u001b[0m\n",
      "\u001b[32m[I 2022-06-04 19:14:19,717]\u001b[0m Trial 30 finished with value: 0.93 and parameters: {'criterion': 'entropy', 'splitter': 'best', 'min_samples_split': 10, 'min_samples_leaf': 2, 'max_depth': 19}. Best is trial 10 with value: 0.93.\u001b[0m\n",
      "\u001b[32m[I 2022-06-04 19:14:19,732]\u001b[0m Trial 31 finished with value: 0.93 and parameters: {'criterion': 'entropy', 'splitter': 'best', 'min_samples_split': 10, 'min_samples_leaf': 2, 'max_depth': 17}. Best is trial 10 with value: 0.93.\u001b[0m\n",
      "\u001b[32m[I 2022-06-04 19:14:19,749]\u001b[0m Trial 32 finished with value: 0.9099999999999999 and parameters: {'criterion': 'entropy', 'splitter': 'best', 'min_samples_split': 10, 'min_samples_leaf': 3, 'max_depth': 20}. Best is trial 10 with value: 0.93.\u001b[0m\n"
     ]
    },
    {
     "name": "stderr",
     "output_type": "stream",
     "text": [
      "\u001b[32m[I 2022-06-04 19:14:19,764]\u001b[0m Trial 33 finished with value: 0.9100000000000001 and parameters: {'criterion': 'entropy', 'splitter': 'best', 'min_samples_split': 10, 'min_samples_leaf': 4, 'max_depth': 17}. Best is trial 10 with value: 0.93.\u001b[0m\n",
      "\u001b[32m[I 2022-06-04 19:14:19,780]\u001b[0m Trial 34 finished with value: 0.9200000000000002 and parameters: {'criterion': 'entropy', 'splitter': 'best', 'min_samples_split': 10, 'min_samples_leaf': 2, 'max_depth': 12}. Best is trial 10 with value: 0.93.\u001b[0m\n",
      "\u001b[32m[I 2022-06-04 19:14:19,795]\u001b[0m Trial 35 finished with value: 0.9099999999999999 and parameters: {'criterion': 'entropy', 'splitter': 'best', 'min_samples_split': 9, 'min_samples_leaf': 3, 'max_depth': 25}. Best is trial 10 with value: 0.93.\u001b[0m\n",
      "\u001b[32m[I 2022-06-04 19:14:19,812]\u001b[0m Trial 36 finished with value: 0.8400000000000001 and parameters: {'criterion': 'entropy', 'splitter': 'random', 'min_samples_split': 10, 'min_samples_leaf': 9, 'max_depth': 10}. Best is trial 10 with value: 0.93.\u001b[0m\n",
      "\u001b[32m[I 2022-06-04 19:14:19,828]\u001b[0m Trial 37 finished with value: 0.8700000000000001 and parameters: {'criterion': 'entropy', 'splitter': 'best', 'min_samples_split': 8, 'min_samples_leaf': 7, 'max_depth': 16}. Best is trial 10 with value: 0.93.\u001b[0m\n",
      "\u001b[32m[I 2022-06-04 19:14:19,844]\u001b[0m Trial 38 finished with value: 0.85 and parameters: {'criterion': 'gini', 'splitter': 'random', 'min_samples_split': 3, 'min_samples_leaf': 5, 'max_depth': 6}. Best is trial 10 with value: 0.93.\u001b[0m\n",
      "\u001b[32m[I 2022-06-04 19:14:19,860]\u001b[0m Trial 39 finished with value: 0.86 and parameters: {'criterion': 'gini', 'splitter': 'best', 'min_samples_split': 7, 'min_samples_leaf': 4, 'max_depth': 24}. Best is trial 10 with value: 0.93.\u001b[0m\n",
      "\u001b[32m[I 2022-06-04 19:14:19,876]\u001b[0m Trial 40 finished with value: 0.9099999999999999 and parameters: {'criterion': 'log_loss', 'splitter': 'random', 'min_samples_split': 8, 'min_samples_leaf': 2, 'max_depth': 8}. Best is trial 10 with value: 0.93.\u001b[0m\n",
      "\u001b[32m[I 2022-06-04 19:14:19,890]\u001b[0m Trial 41 finished with value: 0.93 and parameters: {'criterion': 'log_loss', 'splitter': 'best', 'min_samples_split': 6, 'min_samples_leaf': 2, 'max_depth': 6}. Best is trial 10 with value: 0.93.\u001b[0m\n",
      "\u001b[32m[I 2022-06-04 19:14:19,905]\u001b[0m Trial 42 finished with value: 0.93 and parameters: {'criterion': 'entropy', 'splitter': 'best', 'min_samples_split': 6, 'min_samples_leaf': 2, 'max_depth': 19}. Best is trial 10 with value: 0.93.\u001b[0m\n",
      "\u001b[32m[I 2022-06-04 19:14:19,920]\u001b[0m Trial 43 finished with value: 0.9 and parameters: {'criterion': 'entropy', 'splitter': 'best', 'min_samples_split': 9, 'min_samples_leaf': 3, 'max_depth': 19}. Best is trial 10 with value: 0.93.\u001b[0m\n",
      "\u001b[32m[I 2022-06-04 19:14:19,935]\u001b[0m Trial 44 finished with value: 0.9099999999999999 and parameters: {'criterion': 'log_loss', 'splitter': 'best', 'min_samples_split': 2, 'min_samples_leaf': 2, 'max_depth': 7}. Best is trial 10 with value: 0.93.\u001b[0m\n",
      "\u001b[32m[I 2022-06-04 19:14:19,951]\u001b[0m Trial 45 finished with value: 0.9 and parameters: {'criterion': 'entropy', 'splitter': 'best', 'min_samples_split': 6, 'min_samples_leaf': 3, 'max_depth': 22}. Best is trial 10 with value: 0.93.\u001b[0m\n",
      "\u001b[32m[I 2022-06-04 19:14:19,965]\u001b[0m Trial 46 finished with value: 0.86 and parameters: {'criterion': 'gini', 'splitter': 'best', 'min_samples_split': 5, 'min_samples_leaf': 2, 'max_depth': 31}. Best is trial 10 with value: 0.93.\u001b[0m\n",
      "\u001b[32m[I 2022-06-04 19:14:19,981]\u001b[0m Trial 47 finished with value: 0.9099999999999999 and parameters: {'criterion': 'log_loss', 'splitter': 'best', 'min_samples_split': 7, 'min_samples_leaf': 3, 'max_depth': 13}. Best is trial 10 with value: 0.93.\u001b[0m\n",
      "\u001b[32m[I 2022-06-04 19:14:19,997]\u001b[0m Trial 48 finished with value: 0.9400000000000001 and parameters: {'criterion': 'log_loss', 'splitter': 'best', 'min_samples_split': 9, 'min_samples_leaf': 2, 'max_depth': 10}. Best is trial 48 with value: 0.9400000000000001.\u001b[0m\n",
      "\u001b[32m[I 2022-06-04 19:14:20,013]\u001b[0m Trial 49 finished with value: 0.8200000000000001 and parameters: {'criterion': 'log_loss', 'splitter': 'random', 'min_samples_split': 9, 'min_samples_leaf': 7, 'max_depth': 11}. Best is trial 48 with value: 0.9400000000000001.\u001b[0m\n",
      "\u001b[32m[I 2022-06-04 19:14:20,028]\u001b[0m Trial 50 finished with value: 0.9200000000000002 and parameters: {'criterion': 'entropy', 'splitter': 'best', 'min_samples_split': 10, 'min_samples_leaf': 2, 'max_depth': 18}. Best is trial 48 with value: 0.9400000000000001.\u001b[0m\n",
      "\u001b[32m[I 2022-06-04 19:14:20,046]\u001b[0m Trial 51 finished with value: 0.9200000000000002 and parameters: {'criterion': 'log_loss', 'splitter': 'best', 'min_samples_split': 9, 'min_samples_leaf': 2, 'max_depth': 14}. Best is trial 48 with value: 0.9400000000000001.\u001b[0m\n",
      "\u001b[32m[I 2022-06-04 19:14:20,063]\u001b[0m Trial 52 finished with value: 0.9200000000000002 and parameters: {'criterion': 'log_loss', 'splitter': 'best', 'min_samples_split': 10, 'min_samples_leaf': 2, 'max_depth': 15}. Best is trial 48 with value: 0.9400000000000001.\u001b[0m\n",
      "\u001b[32m[I 2022-06-04 19:14:20,078]\u001b[0m Trial 53 finished with value: 0.9 and parameters: {'criterion': 'entropy', 'splitter': 'best', 'min_samples_split': 6, 'min_samples_leaf': 3, 'max_depth': 22}. Best is trial 48 with value: 0.9400000000000001.\u001b[0m\n",
      "\u001b[32m[I 2022-06-04 19:14:20,094]\u001b[0m Trial 54 finished with value: 0.9200000000000002 and parameters: {'criterion': 'log_loss', 'splitter': 'best', 'min_samples_split': 4, 'min_samples_leaf': 2, 'max_depth': 6}. Best is trial 48 with value: 0.9400000000000001.\u001b[0m\n",
      "\u001b[32m[I 2022-06-04 19:14:20,109]\u001b[0m Trial 55 finished with value: 0.9100000000000001 and parameters: {'criterion': 'entropy', 'splitter': 'best', 'min_samples_split': 6, 'min_samples_leaf': 2, 'max_depth': 27}. Best is trial 48 with value: 0.9400000000000001.\u001b[0m\n",
      "\u001b[32m[I 2022-06-04 19:14:20,125]\u001b[0m Trial 56 finished with value: 0.8300000000000001 and parameters: {'criterion': 'log_loss', 'splitter': 'best', 'min_samples_split': 8, 'min_samples_leaf': 9, 'max_depth': 8}. Best is trial 48 with value: 0.9400000000000001.\u001b[0m\n",
      "\u001b[32m[I 2022-06-04 19:14:20,140]\u001b[0m Trial 57 finished with value: 0.9099999999999999 and parameters: {'criterion': 'entropy', 'splitter': 'best', 'min_samples_split': 5, 'min_samples_leaf': 3, 'max_depth': 18}. Best is trial 48 with value: 0.9400000000000001.\u001b[0m\n",
      "\u001b[32m[I 2022-06-04 19:14:20,155]\u001b[0m Trial 58 finished with value: 0.9400000000000001 and parameters: {'criterion': 'log_loss', 'splitter': 'best', 'min_samples_split': 7, 'min_samples_leaf': 2, 'max_depth': 11}. Best is trial 48 with value: 0.9400000000000001.\u001b[0m\n",
      "\u001b[32m[I 2022-06-04 19:14:20,170]\u001b[0m Trial 59 finished with value: 0.9 and parameters: {'criterion': 'entropy', 'splitter': 'best', 'min_samples_split': 9, 'min_samples_leaf': 3, 'max_depth': 11}. Best is trial 48 with value: 0.9400000000000001.\u001b[0m\n",
      "\u001b[32m[I 2022-06-04 19:14:20,185]\u001b[0m Trial 60 finished with value: 0.9200000000000002 and parameters: {'criterion': 'entropy', 'splitter': 'best', 'min_samples_split': 10, 'min_samples_leaf': 2, 'max_depth': 17}. Best is trial 48 with value: 0.9400000000000001.\u001b[0m\n",
      "\u001b[32m[I 2022-06-04 19:14:20,202]\u001b[0m Trial 61 finished with value: 0.9200000000000002 and parameters: {'criterion': 'log_loss', 'splitter': 'best', 'min_samples_split': 7, 'min_samples_leaf': 2, 'max_depth': 10}. Best is trial 48 with value: 0.9400000000000001.\u001b[0m\n",
      "\u001b[32m[I 2022-06-04 19:14:20,224]\u001b[0m Trial 62 finished with value: 0.9 and parameters: {'criterion': 'log_loss', 'splitter': 'best', 'min_samples_split': 7, 'min_samples_leaf': 3, 'max_depth': 8}. Best is trial 48 with value: 0.9400000000000001.\u001b[0m\n",
      "\u001b[32m[I 2022-06-04 19:14:20,240]\u001b[0m Trial 63 finished with value: 0.9099999999999999 and parameters: {'criterion': 'entropy', 'splitter': 'best', 'min_samples_split': 6, 'min_samples_leaf': 2, 'max_depth': 5}. Best is trial 48 with value: 0.9400000000000001.\u001b[0m\n",
      "\u001b[32m[I 2022-06-04 19:14:20,256]\u001b[0m Trial 64 finished with value: 0.9 and parameters: {'criterion': 'log_loss', 'splitter': 'best', 'min_samples_split': 8, 'min_samples_leaf': 4, 'max_depth': 10}. Best is trial 48 with value: 0.9400000000000001.\u001b[0m\n",
      "\u001b[32m[I 2022-06-04 19:14:20,271]\u001b[0m Trial 65 finished with value: 0.9400000000000001 and parameters: {'criterion': 'log_loss', 'splitter': 'best', 'min_samples_split': 8, 'min_samples_leaf': 2, 'max_depth': 13}. Best is trial 48 with value: 0.9400000000000001.\u001b[0m\n"
     ]
    },
    {
     "name": "stderr",
     "output_type": "stream",
     "text": [
      "\u001b[32m[I 2022-06-04 19:14:20,288]\u001b[0m Trial 66 finished with value: 0.93 and parameters: {'criterion': 'log_loss', 'splitter': 'best', 'min_samples_split': 8, 'min_samples_leaf': 2, 'max_depth': 13}. Best is trial 48 with value: 0.9400000000000001.\u001b[0m\n",
      "\u001b[32m[I 2022-06-04 19:14:20,304]\u001b[0m Trial 67 finished with value: 0.93 and parameters: {'criterion': 'log_loss', 'splitter': 'best', 'min_samples_split': 9, 'min_samples_leaf': 2, 'max_depth': 13}. Best is trial 48 with value: 0.9400000000000001.\u001b[0m\n",
      "\u001b[32m[I 2022-06-04 19:14:20,321]\u001b[0m Trial 68 finished with value: 0.9 and parameters: {'criterion': 'log_loss', 'splitter': 'random', 'min_samples_split': 9, 'min_samples_leaf': 3, 'max_depth': 14}. Best is trial 48 with value: 0.9400000000000001.\u001b[0m\n",
      "\u001b[32m[I 2022-06-04 19:14:20,337]\u001b[0m Trial 69 finished with value: 0.9100000000000001 and parameters: {'criterion': 'log_loss', 'splitter': 'best', 'min_samples_split': 8, 'min_samples_leaf': 5, 'max_depth': 13}. Best is trial 48 with value: 0.9400000000000001.\u001b[0m\n",
      "\u001b[32m[I 2022-06-04 19:14:20,354]\u001b[0m Trial 70 finished with value: 0.9099999999999999 and parameters: {'criterion': 'log_loss', 'splitter': 'best', 'min_samples_split': 7, 'min_samples_leaf': 2, 'max_depth': 11}. Best is trial 48 with value: 0.9400000000000001.\u001b[0m\n",
      "\u001b[32m[I 2022-06-04 19:14:20,370]\u001b[0m Trial 71 finished with value: 0.93 and parameters: {'criterion': 'log_loss', 'splitter': 'best', 'min_samples_split': 2, 'min_samples_leaf': 2, 'max_depth': 4}. Best is trial 48 with value: 0.9400000000000001.\u001b[0m\n",
      "\u001b[32m[I 2022-06-04 19:14:20,385]\u001b[0m Trial 72 finished with value: 0.9099999999999999 and parameters: {'criterion': 'log_loss', 'splitter': 'best', 'min_samples_split': 3, 'min_samples_leaf': 3, 'max_depth': 9}. Best is trial 48 with value: 0.9400000000000001.\u001b[0m\n",
      "\u001b[32m[I 2022-06-04 19:14:20,401]\u001b[0m Trial 73 finished with value: 0.9200000000000002 and parameters: {'criterion': 'log_loss', 'splitter': 'best', 'min_samples_split': 7, 'min_samples_leaf': 2, 'max_depth': 8}. Best is trial 48 with value: 0.9400000000000001.\u001b[0m\n",
      "\u001b[32m[I 2022-06-04 19:14:20,419]\u001b[0m Trial 74 finished with value: 0.8099999999999999 and parameters: {'criterion': 'gini', 'splitter': 'best', 'min_samples_split': 10, 'min_samples_leaf': 2, 'max_depth': 15}. Best is trial 48 with value: 0.9400000000000001.\u001b[0m\n",
      "\u001b[32m[I 2022-06-04 19:14:20,436]\u001b[0m Trial 75 finished with value: 0.93 and parameters: {'criterion': 'log_loss', 'splitter': 'best', 'min_samples_split': 9, 'min_samples_leaf': 2, 'max_depth': 7}. Best is trial 48 with value: 0.9400000000000001.\u001b[0m\n",
      "\u001b[32m[I 2022-06-04 19:14:20,453]\u001b[0m Trial 76 finished with value: 0.93 and parameters: {'criterion': 'log_loss', 'splitter': 'best', 'min_samples_split': 8, 'min_samples_leaf': 2, 'max_depth': 13}. Best is trial 48 with value: 0.9400000000000001.\u001b[0m\n",
      "\u001b[32m[I 2022-06-04 19:14:20,468]\u001b[0m Trial 77 finished with value: 0.9099999999999999 and parameters: {'criterion': 'entropy', 'splitter': 'best', 'min_samples_split': 6, 'min_samples_leaf': 3, 'max_depth': 20}. Best is trial 48 with value: 0.9400000000000001.\u001b[0m\n",
      "\u001b[32m[I 2022-06-04 19:14:20,483]\u001b[0m Trial 78 finished with value: 0.9200000000000002 and parameters: {'criterion': 'log_loss', 'splitter': 'best', 'min_samples_split': 8, 'min_samples_leaf': 2, 'max_depth': 16}. Best is trial 48 with value: 0.9400000000000001.\u001b[0m\n",
      "\u001b[32m[I 2022-06-04 19:14:20,499]\u001b[0m Trial 79 finished with value: 0.8800000000000001 and parameters: {'criterion': 'log_loss', 'splitter': 'random', 'min_samples_split': 9, 'min_samples_leaf': 3, 'max_depth': 11}. Best is trial 48 with value: 0.9400000000000001.\u001b[0m\n",
      "\u001b[32m[I 2022-06-04 19:14:20,516]\u001b[0m Trial 80 finished with value: 0.9100000000000001 and parameters: {'criterion': 'log_loss', 'splitter': 'best', 'min_samples_split': 10, 'min_samples_leaf': 4, 'max_depth': 12}. Best is trial 48 with value: 0.9400000000000001.\u001b[0m\n",
      "\u001b[32m[I 2022-06-04 19:14:20,532]\u001b[0m Trial 81 finished with value: 0.8099999999999999 and parameters: {'criterion': 'log_loss', 'splitter': 'best', 'min_samples_split': 8, 'min_samples_leaf': 2, 'max_depth': 2}. Best is trial 48 with value: 0.9400000000000001.\u001b[0m\n",
      "\u001b[32m[I 2022-06-04 19:14:20,548]\u001b[0m Trial 82 finished with value: 0.9200000000000002 and parameters: {'criterion': 'log_loss', 'splitter': 'best', 'min_samples_split': 7, 'min_samples_leaf': 2, 'max_depth': 5}. Best is trial 48 with value: 0.9400000000000001.\u001b[0m\n",
      "\u001b[32m[I 2022-06-04 19:14:20,564]\u001b[0m Trial 83 finished with value: 0.9200000000000002 and parameters: {'criterion': 'entropy', 'splitter': 'best', 'min_samples_split': 7, 'min_samples_leaf': 2, 'max_depth': 10}. Best is trial 48 with value: 0.9400000000000001.\u001b[0m\n",
      "\u001b[32m[I 2022-06-04 19:14:20,581]\u001b[0m Trial 84 finished with value: 0.9099999999999999 and parameters: {'criterion': 'entropy', 'splitter': 'best', 'min_samples_split': 10, 'min_samples_leaf': 3, 'max_depth': 23}. Best is trial 48 with value: 0.9400000000000001.\u001b[0m\n",
      "\u001b[32m[I 2022-06-04 19:14:20,599]\u001b[0m Trial 85 finished with value: 0.9199999999999999 and parameters: {'criterion': 'log_loss', 'splitter': 'best', 'min_samples_split': 6, 'min_samples_leaf': 2, 'max_depth': 14}. Best is trial 48 with value: 0.9400000000000001.\u001b[0m\n",
      "\u001b[32m[I 2022-06-04 19:14:20,615]\u001b[0m Trial 86 finished with value: 0.8700000000000001 and parameters: {'criterion': 'gini', 'splitter': 'best', 'min_samples_split': 5, 'min_samples_leaf': 3, 'max_depth': 9}. Best is trial 48 with value: 0.9400000000000001.\u001b[0m\n",
      "\u001b[32m[I 2022-06-04 19:14:20,632]\u001b[0m Trial 87 finished with value: 0.93 and parameters: {'criterion': 'log_loss', 'splitter': 'best', 'min_samples_split': 8, 'min_samples_leaf': 2, 'max_depth': 16}. Best is trial 48 with value: 0.9400000000000001.\u001b[0m\n",
      "\u001b[32m[I 2022-06-04 19:14:20,651]\u001b[0m Trial 88 finished with value: 0.93 and parameters: {'criterion': 'log_loss', 'splitter': 'best', 'min_samples_split': 9, 'min_samples_leaf': 2, 'max_depth': 16}. Best is trial 48 with value: 0.9400000000000001.\u001b[0m\n",
      "\u001b[32m[I 2022-06-04 19:14:20,670]\u001b[0m Trial 89 finished with value: 0.9200000000000002 and parameters: {'criterion': 'entropy', 'splitter': 'best', 'min_samples_split': 9, 'min_samples_leaf': 2, 'max_depth': 19}. Best is trial 48 with value: 0.9400000000000001.\u001b[0m\n",
      "\u001b[32m[I 2022-06-04 19:14:20,686]\u001b[0m Trial 90 finished with value: 0.8099999999999999 and parameters: {'criterion': 'log_loss', 'splitter': 'random', 'min_samples_split': 8, 'min_samples_leaf': 8, 'max_depth': 10}. Best is trial 48 with value: 0.9400000000000001.\u001b[0m\n",
      "\u001b[32m[I 2022-06-04 19:14:20,705]\u001b[0m Trial 91 finished with value: 0.9200000000000002 and parameters: {'criterion': 'log_loss', 'splitter': 'best', 'min_samples_split': 2, 'min_samples_leaf': 2, 'max_depth': 4}. Best is trial 48 with value: 0.9400000000000001.\u001b[0m\n",
      "\u001b[32m[I 2022-06-04 19:14:20,722]\u001b[0m Trial 92 finished with value: 0.9400000000000001 and parameters: {'criterion': 'log_loss', 'splitter': 'best', 'min_samples_split': 9, 'min_samples_leaf': 2, 'max_depth': 13}. Best is trial 48 with value: 0.9400000000000001.\u001b[0m\n",
      "\u001b[32m[I 2022-06-04 19:14:20,739]\u001b[0m Trial 93 finished with value: 0.93 and parameters: {'criterion': 'log_loss', 'splitter': 'best', 'min_samples_split': 8, 'min_samples_leaf': 2, 'max_depth': 12}. Best is trial 48 with value: 0.9400000000000001.\u001b[0m\n",
      "\u001b[32m[I 2022-06-04 19:14:20,757]\u001b[0m Trial 94 finished with value: 0.9400000000000001 and parameters: {'criterion': 'log_loss', 'splitter': 'best', 'min_samples_split': 8, 'min_samples_leaf': 2, 'max_depth': 12}. Best is trial 48 with value: 0.9400000000000001.\u001b[0m\n",
      "\u001b[32m[I 2022-06-04 19:14:20,776]\u001b[0m Trial 95 finished with value: 0.93 and parameters: {'criterion': 'log_loss', 'splitter': 'best', 'min_samples_split': 9, 'min_samples_leaf': 2, 'max_depth': 13}. Best is trial 48 with value: 0.9400000000000001.\u001b[0m\n",
      "\u001b[32m[I 2022-06-04 19:14:20,793]\u001b[0m Trial 96 finished with value: 0.9099999999999999 and parameters: {'criterion': 'log_loss', 'splitter': 'best', 'min_samples_split': 9, 'min_samples_leaf': 3, 'max_depth': 11}. Best is trial 48 with value: 0.9400000000000001.\u001b[0m\n",
      "\u001b[32m[I 2022-06-04 19:14:20,811]\u001b[0m Trial 97 finished with value: 0.9199999999999999 and parameters: {'criterion': 'log_loss', 'splitter': 'best', 'min_samples_split': 10, 'min_samples_leaf': 2, 'max_depth': 7}. Best is trial 48 with value: 0.9400000000000001.\u001b[0m\n"
     ]
    },
    {
     "name": "stderr",
     "output_type": "stream",
     "text": [
      "\u001b[32m[I 2022-06-04 19:14:20,828]\u001b[0m Trial 98 finished with value: 0.9099999999999999 and parameters: {'criterion': 'log_loss', 'splitter': 'best', 'min_samples_split': 9, 'min_samples_leaf': 3, 'max_depth': 17}. Best is trial 48 with value: 0.9400000000000001.\u001b[0m\n",
      "\u001b[32m[I 2022-06-04 19:14:20,845]\u001b[0m Trial 99 finished with value: 0.93 and parameters: {'criterion': 'log_loss', 'splitter': 'best', 'min_samples_split': 8, 'min_samples_leaf': 2, 'max_depth': 16}. Best is trial 48 with value: 0.9400000000000001.\u001b[0m\n"
     ]
    },
    {
     "name": "stdout",
     "output_type": "stream",
     "text": [
      "\u001b[32mTraining is done, evaluation score = 0.97\u001b[0m\n",
      "\u001b[33mCombination Data \"version1\" and Model \"dfc_v2\" already exist, with evaluation score = 0.97\u001b[0m\n"
     ]
    },
    {
     "name": "stderr",
     "output_type": "stream",
     "text": [
      "C:\\Users\\Romeo\\anaconda3\\lib\\site-packages\\sklearn\\utils\\deprecation.py:103: FutureWarning: The attribute `n_features_` is deprecated in 1.0 and will be removed in 1.2. Use `n_features_in_` instead.\n",
      "  warnings.warn(msg, category=FutureWarning)\n"
     ]
    }
   ],
   "source": [
    "# Data preparation\n",
    "data_name = 'version1'\n",
    "\n",
    "# Model preparation\n",
    "model_name = \"dfc_v2\"\n",
    "model = DecisionTreeClassifier()\n",
    "\n",
    "# Train\n",
    "orpheusDT.train(data_name, model_name, model)"
   ]
  },
  {
   "cell_type": "markdown",
   "id": "392b97dc",
   "metadata": {},
   "source": [
    "## Show the difference of last and current training under specified data version\n",
    "orpheusDT.show_diff(data_name)\n",
    "\n"
   ]
  },
  {
   "cell_type": "code",
   "execution_count": 46,
   "id": "ed5e2bad",
   "metadata": {},
   "outputs": [
    {
     "name": "stdout",
     "output_type": "stream",
     "text": [
      "\u001b[32mData \"version1\" had been successfully extracted\u001b[0m\n"
     ]
    },
    {
     "name": "stderr",
     "output_type": "stream",
     "text": [
      "\u001b[32m[I 2022-06-04 19:14:28,180]\u001b[0m A new study created in memory with name: no-name-58a8a637-2181-4eff-b7fd-c4c4e98789b2\u001b[0m\n",
      "\u001b[32m[I 2022-06-04 19:14:28,194]\u001b[0m Trial 0 finished with value: 0.86 and parameters: {'criterion': 'log_loss', 'splitter': 'random', 'min_samples_split': 9, 'min_samples_leaf': 10, 'max_depth': 5}. Best is trial 0 with value: 0.86.\u001b[0m\n",
      "\u001b[32m[I 2022-06-04 19:14:28,204]\u001b[0m Trial 1 finished with value: 0.8300000000000001 and parameters: {'criterion': 'entropy', 'splitter': 'best', 'min_samples_split': 8, 'min_samples_leaf': 9, 'max_depth': 18}. Best is trial 0 with value: 0.86.\u001b[0m\n",
      "\u001b[32m[I 2022-06-04 19:14:28,214]\u001b[0m Trial 2 finished with value: 0.8200000000000001 and parameters: {'criterion': 'log_loss', 'splitter': 'best', 'min_samples_split': 6, 'min_samples_leaf': 8, 'max_depth': 19}. Best is trial 0 with value: 0.86.\u001b[0m\n",
      "\u001b[32m[I 2022-06-04 19:14:28,224]\u001b[0m Trial 3 finished with value: 0.8099999999999999 and parameters: {'criterion': 'entropy', 'splitter': 'random', 'min_samples_split': 5, 'min_samples_leaf': 4, 'max_depth': 2}. Best is trial 0 with value: 0.86.\u001b[0m\n",
      "\u001b[32m[I 2022-06-04 19:14:28,233]\u001b[0m Trial 4 finished with value: 0.9199999999999999 and parameters: {'criterion': 'entropy', 'splitter': 'random', 'min_samples_split': 9, 'min_samples_leaf': 2, 'max_depth': 5}. Best is trial 4 with value: 0.9199999999999999.\u001b[0m\n",
      "\u001b[32m[I 2022-06-04 19:14:28,243]\u001b[0m Trial 5 finished with value: 0.86 and parameters: {'criterion': 'log_loss', 'splitter': 'random', 'min_samples_split': 3, 'min_samples_leaf': 6, 'max_depth': 13}. Best is trial 4 with value: 0.9199999999999999.\u001b[0m\n",
      "\u001b[32m[I 2022-06-04 19:14:28,251]\u001b[0m Trial 6 finished with value: 0.8099999999999999 and parameters: {'criterion': 'gini', 'splitter': 'random', 'min_samples_split': 2, 'min_samples_leaf': 10, 'max_depth': 2}. Best is trial 4 with value: 0.9199999999999999.\u001b[0m\n",
      "\u001b[32m[I 2022-06-04 19:14:28,262]\u001b[0m Trial 7 finished with value: 0.8099999999999999 and parameters: {'criterion': 'entropy', 'splitter': 'best', 'min_samples_split': 10, 'min_samples_leaf': 6, 'max_depth': 2}. Best is trial 4 with value: 0.9199999999999999.\u001b[0m\n",
      "\u001b[32m[I 2022-06-04 19:14:28,272]\u001b[0m Trial 8 finished with value: 0.8700000000000001 and parameters: {'criterion': 'entropy', 'splitter': 'random', 'min_samples_split': 6, 'min_samples_leaf': 3, 'max_depth': 11}. Best is trial 4 with value: 0.9199999999999999.\u001b[0m\n",
      "\u001b[32m[I 2022-06-04 19:14:28,283]\u001b[0m Trial 9 finished with value: 0.8099999999999999 and parameters: {'criterion': 'gini', 'splitter': 'random', 'min_samples_split': 2, 'min_samples_leaf': 9, 'max_depth': 2}. Best is trial 4 with value: 0.9199999999999999.\u001b[0m\n",
      "\u001b[32m[I 2022-06-04 19:14:28,299]\u001b[0m Trial 10 finished with value: 0.9200000000000002 and parameters: {'criterion': 'entropy', 'splitter': 'best', 'min_samples_split': 8, 'min_samples_leaf': 2, 'max_depth': 5}. Best is trial 10 with value: 0.9200000000000002.\u001b[0m\n",
      "\u001b[32m[I 2022-06-04 19:14:28,314]\u001b[0m Trial 11 finished with value: 0.9400000000000001 and parameters: {'criterion': 'entropy', 'splitter': 'best', 'min_samples_split': 8, 'min_samples_leaf': 2, 'max_depth': 5}. Best is trial 11 with value: 0.9400000000000001.\u001b[0m\n",
      "\u001b[32m[I 2022-06-04 19:14:28,330]\u001b[0m Trial 12 finished with value: 0.9 and parameters: {'criterion': 'entropy', 'splitter': 'best', 'min_samples_split': 8, 'min_samples_leaf': 4, 'max_depth': 4}. Best is trial 11 with value: 0.9400000000000001.\u001b[0m\n",
      "\u001b[32m[I 2022-06-04 19:14:28,345]\u001b[0m Trial 13 finished with value: 0.93 and parameters: {'criterion': 'entropy', 'splitter': 'best', 'min_samples_split': 7, 'min_samples_leaf': 2, 'max_depth': 8}. Best is trial 11 with value: 0.9400000000000001.\u001b[0m\n",
      "\u001b[32m[I 2022-06-04 19:14:28,361]\u001b[0m Trial 14 finished with value: 0.9099999999999999 and parameters: {'criterion': 'entropy', 'splitter': 'best', 'min_samples_split': 4, 'min_samples_leaf': 4, 'max_depth': 10}. Best is trial 11 with value: 0.9400000000000001.\u001b[0m\n",
      "\u001b[32m[I 2022-06-04 19:14:28,376]\u001b[0m Trial 15 finished with value: 0.85 and parameters: {'criterion': 'gini', 'splitter': 'best', 'min_samples_split': 7, 'min_samples_leaf': 2, 'max_depth': 32}. Best is trial 11 with value: 0.9400000000000001.\u001b[0m\n",
      "\u001b[32m[I 2022-06-04 19:14:28,391]\u001b[0m Trial 16 finished with value: 0.9099999999999999 and parameters: {'criterion': 'entropy', 'splitter': 'best', 'min_samples_split': 7, 'min_samples_leaf': 3, 'max_depth': 7}. Best is trial 11 with value: 0.9400000000000001.\u001b[0m\n",
      "\u001b[32m[I 2022-06-04 19:14:28,405]\u001b[0m Trial 17 finished with value: 0.8700000000000001 and parameters: {'criterion': 'entropy', 'splitter': 'best', 'min_samples_split': 10, 'min_samples_leaf': 5, 'max_depth': 3}. Best is trial 11 with value: 0.9400000000000001.\u001b[0m\n",
      "\u001b[32m[I 2022-06-04 19:14:28,421]\u001b[0m Trial 18 finished with value: 0.8700000000000001 and parameters: {'criterion': 'log_loss', 'splitter': 'best', 'min_samples_split': 6, 'min_samples_leaf': 7, 'max_depth': 7}. Best is trial 11 with value: 0.9400000000000001.\u001b[0m\n",
      "\u001b[32m[I 2022-06-04 19:14:28,435]\u001b[0m Trial 19 finished with value: 0.8 and parameters: {'criterion': 'gini', 'splitter': 'best', 'min_samples_split': 7, 'min_samples_leaf': 3, 'max_depth': 3}. Best is trial 11 with value: 0.9400000000000001.\u001b[0m\n",
      "\u001b[32m[I 2022-06-04 19:14:28,458]\u001b[0m Trial 20 finished with value: 0.9200000000000002 and parameters: {'criterion': 'entropy', 'splitter': 'best', 'min_samples_split': 5, 'min_samples_leaf': 5, 'max_depth': 9}. Best is trial 11 with value: 0.9400000000000001.\u001b[0m\n",
      "\u001b[32m[I 2022-06-04 19:14:28,472]\u001b[0m Trial 21 finished with value: 0.9400000000000001 and parameters: {'criterion': 'entropy', 'splitter': 'best', 'min_samples_split': 8, 'min_samples_leaf': 2, 'max_depth': 5}. Best is trial 11 with value: 0.9400000000000001.\u001b[0m\n",
      "\u001b[32m[I 2022-06-04 19:14:28,487]\u001b[0m Trial 22 finished with value: 0.9400000000000001 and parameters: {'criterion': 'entropy', 'splitter': 'best', 'min_samples_split': 9, 'min_samples_leaf': 2, 'max_depth': 4}. Best is trial 11 with value: 0.9400000000000001.\u001b[0m\n",
      "\u001b[32m[I 2022-06-04 19:14:28,502]\u001b[0m Trial 23 finished with value: 0.86 and parameters: {'criterion': 'entropy', 'splitter': 'best', 'min_samples_split': 9, 'min_samples_leaf': 3, 'max_depth': 3}. Best is trial 11 with value: 0.9400000000000001.\u001b[0m\n",
      "\u001b[32m[I 2022-06-04 19:14:28,517]\u001b[0m Trial 24 finished with value: 0.9200000000000002 and parameters: {'criterion': 'entropy', 'splitter': 'best', 'min_samples_split': 9, 'min_samples_leaf': 2, 'max_depth': 4}. Best is trial 11 with value: 0.9400000000000001.\u001b[0m\n",
      "\u001b[32m[I 2022-06-04 19:14:28,533]\u001b[0m Trial 25 finished with value: 0.8899999999999999 and parameters: {'criterion': 'entropy', 'splitter': 'best', 'min_samples_split': 10, 'min_samples_leaf': 3, 'max_depth': 4}. Best is trial 11 with value: 0.9400000000000001.\u001b[0m\n",
      "\u001b[32m[I 2022-06-04 19:14:28,548]\u001b[0m Trial 26 finished with value: 0.9200000000000002 and parameters: {'criterion': 'entropy', 'splitter': 'best', 'min_samples_split': 8, 'min_samples_leaf': 5, 'max_depth': 6}. Best is trial 11 with value: 0.9400000000000001.\u001b[0m\n",
      "\u001b[32m[I 2022-06-04 19:14:28,563]\u001b[0m Trial 27 finished with value: 0.86 and parameters: {'criterion': 'log_loss', 'splitter': 'best', 'min_samples_split': 9, 'min_samples_leaf': 4, 'max_depth': 3}. Best is trial 11 with value: 0.9400000000000001.\u001b[0m\n",
      "\u001b[32m[I 2022-06-04 19:14:28,578]\u001b[0m Trial 28 finished with value: 0.93 and parameters: {'criterion': 'entropy', 'splitter': 'best', 'min_samples_split': 8, 'min_samples_leaf': 2, 'max_depth': 4}. Best is trial 11 with value: 0.9400000000000001.\u001b[0m\n",
      "\u001b[32m[I 2022-06-04 19:14:28,593]\u001b[0m Trial 29 finished with value: 0.8400000000000001 and parameters: {'criterion': 'gini', 'splitter': 'best', 'min_samples_split': 10, 'min_samples_leaf': 3, 'max_depth': 5}. Best is trial 11 with value: 0.9400000000000001.\u001b[0m\n",
      "\u001b[32m[I 2022-06-04 19:14:28,610]\u001b[0m Trial 30 finished with value: 0.8700000000000001 and parameters: {'criterion': 'log_loss', 'splitter': 'best', 'min_samples_split': 9, 'min_samples_leaf': 7, 'max_depth': 6}. Best is trial 11 with value: 0.9400000000000001.\u001b[0m\n",
      "\u001b[32m[I 2022-06-04 19:14:28,625]\u001b[0m Trial 31 finished with value: 0.9100000000000001 and parameters: {'criterion': 'entropy', 'splitter': 'best', 'min_samples_split': 8, 'min_samples_leaf': 2, 'max_depth': 4}. Best is trial 11 with value: 0.9400000000000001.\u001b[0m\n"
     ]
    },
    {
     "name": "stderr",
     "output_type": "stream",
     "text": [
      "\u001b[32m[I 2022-06-04 19:14:28,641]\u001b[0m Trial 32 finished with value: 0.93 and parameters: {'criterion': 'entropy', 'splitter': 'best', 'min_samples_split': 8, 'min_samples_leaf': 2, 'max_depth': 6}. Best is trial 11 with value: 0.9400000000000001.\u001b[0m\n",
      "\u001b[32m[I 2022-06-04 19:14:28,657]\u001b[0m Trial 33 finished with value: 0.9 and parameters: {'criterion': 'entropy', 'splitter': 'best', 'min_samples_split': 7, 'min_samples_leaf': 3, 'max_depth': 6}. Best is trial 11 with value: 0.9400000000000001.\u001b[0m\n",
      "\u001b[32m[I 2022-06-04 19:14:28,672]\u001b[0m Trial 34 finished with value: 0.9200000000000002 and parameters: {'criterion': 'entropy', 'splitter': 'best', 'min_samples_split': 9, 'min_samples_leaf': 2, 'max_depth': 4}. Best is trial 11 with value: 0.9400000000000001.\u001b[0m\n",
      "\u001b[32m[I 2022-06-04 19:14:28,687]\u001b[0m Trial 35 finished with value: 0.89 and parameters: {'criterion': 'entropy', 'splitter': 'best', 'min_samples_split': 8, 'min_samples_leaf': 4, 'max_depth': 8}. Best is trial 11 with value: 0.9400000000000001.\u001b[0m\n",
      "\u001b[32m[I 2022-06-04 19:14:28,703]\u001b[0m Trial 36 finished with value: 0.9400000000000001 and parameters: {'criterion': 'entropy', 'splitter': 'random', 'min_samples_split': 9, 'min_samples_leaf': 2, 'max_depth': 14}. Best is trial 11 with value: 0.9400000000000001.\u001b[0m\n",
      "\u001b[32m[I 2022-06-04 19:14:28,717]\u001b[0m Trial 37 finished with value: 0.8700000000000001 and parameters: {'criterion': 'log_loss', 'splitter': 'random', 'min_samples_split': 9, 'min_samples_leaf': 3, 'max_depth': 14}. Best is trial 11 with value: 0.9400000000000001.\u001b[0m\n",
      "\u001b[32m[I 2022-06-04 19:14:28,733]\u001b[0m Trial 38 finished with value: 0.9100000000000001 and parameters: {'criterion': 'entropy', 'splitter': 'random', 'min_samples_split': 10, 'min_samples_leaf': 4, 'max_depth': 24}. Best is trial 11 with value: 0.9400000000000001.\u001b[0m\n",
      "\u001b[32m[I 2022-06-04 19:14:28,748]\u001b[0m Trial 39 finished with value: 0.96 and parameters: {'criterion': 'entropy', 'splitter': 'random', 'min_samples_split': 6, 'min_samples_leaf': 2, 'max_depth': 17}. Best is trial 39 with value: 0.96.\u001b[0m\n",
      "\u001b[32m[I 2022-06-04 19:14:28,764]\u001b[0m Trial 40 finished with value: 0.86 and parameters: {'criterion': 'entropy', 'splitter': 'random', 'min_samples_split': 5, 'min_samples_leaf': 10, 'max_depth': 17}. Best is trial 39 with value: 0.96.\u001b[0m\n",
      "\u001b[32m[I 2022-06-04 19:14:28,781]\u001b[0m Trial 41 finished with value: 0.9200000000000002 and parameters: {'criterion': 'entropy', 'splitter': 'random', 'min_samples_split': 6, 'min_samples_leaf': 2, 'max_depth': 22}. Best is trial 39 with value: 0.96.\u001b[0m\n",
      "\u001b[32m[I 2022-06-04 19:14:28,797]\u001b[0m Trial 42 finished with value: 0.9400000000000001 and parameters: {'criterion': 'entropy', 'splitter': 'random', 'min_samples_split': 5, 'min_samples_leaf': 2, 'max_depth': 12}. Best is trial 39 with value: 0.96.\u001b[0m\n",
      "\u001b[32m[I 2022-06-04 19:14:28,814]\u001b[0m Trial 43 finished with value: 0.9200000000000002 and parameters: {'criterion': 'entropy', 'splitter': 'random', 'min_samples_split': 6, 'min_samples_leaf': 3, 'max_depth': 16}. Best is trial 39 with value: 0.96.\u001b[0m\n",
      "\u001b[32m[I 2022-06-04 19:14:28,829]\u001b[0m Trial 44 finished with value: 0.9200000000000002 and parameters: {'criterion': 'entropy', 'splitter': 'random', 'min_samples_split': 5, 'min_samples_leaf': 2, 'max_depth': 11}. Best is trial 39 with value: 0.96.\u001b[0m\n",
      "\u001b[32m[I 2022-06-04 19:14:28,845]\u001b[0m Trial 45 finished with value: 0.8300000000000001 and parameters: {'criterion': 'gini', 'splitter': 'random', 'min_samples_split': 4, 'min_samples_leaf': 3, 'max_depth': 13}. Best is trial 39 with value: 0.96.\u001b[0m\n",
      "\u001b[32m[I 2022-06-04 19:14:28,860]\u001b[0m Trial 46 finished with value: 0.93 and parameters: {'criterion': 'entropy', 'splitter': 'random', 'min_samples_split': 7, 'min_samples_leaf': 2, 'max_depth': 5}. Best is trial 39 with value: 0.96.\u001b[0m\n",
      "\u001b[32m[I 2022-06-04 19:14:28,876]\u001b[0m Trial 47 finished with value: 0.9 and parameters: {'criterion': 'entropy', 'splitter': 'random', 'min_samples_split': 4, 'min_samples_leaf': 2, 'max_depth': 21}. Best is trial 39 with value: 0.96.\u001b[0m\n",
      "\u001b[32m[I 2022-06-04 19:14:28,891]\u001b[0m Trial 48 finished with value: 0.86 and parameters: {'criterion': 'entropy', 'splitter': 'random', 'min_samples_split': 9, 'min_samples_leaf': 4, 'max_depth': 30}. Best is trial 39 with value: 0.96.\u001b[0m\n",
      "\u001b[32m[I 2022-06-04 19:14:28,905]\u001b[0m Trial 49 finished with value: 0.9100000000000001 and parameters: {'criterion': 'log_loss', 'splitter': 'random', 'min_samples_split': 5, 'min_samples_leaf': 3, 'max_depth': 15}. Best is trial 39 with value: 0.96.\u001b[0m\n",
      "\u001b[32m[I 2022-06-04 19:14:28,920]\u001b[0m Trial 50 finished with value: 0.8200000000000001 and parameters: {'criterion': 'entropy', 'splitter': 'random', 'min_samples_split': 6, 'min_samples_leaf': 7, 'max_depth': 11}. Best is trial 39 with value: 0.96.\u001b[0m\n",
      "\u001b[32m[I 2022-06-04 19:14:28,936]\u001b[0m Trial 51 finished with value: 0.9 and parameters: {'criterion': 'entropy', 'splitter': 'random', 'min_samples_split': 8, 'min_samples_leaf': 2, 'max_depth': 19}. Best is trial 39 with value: 0.96.\u001b[0m\n",
      "\u001b[32m[I 2022-06-04 19:14:28,952]\u001b[0m Trial 52 finished with value: 0.9400000000000001 and parameters: {'criterion': 'entropy', 'splitter': 'random', 'min_samples_split': 3, 'min_samples_leaf': 2, 'max_depth': 27}. Best is trial 39 with value: 0.96.\u001b[0m\n",
      "\u001b[32m[I 2022-06-04 19:14:28,968]\u001b[0m Trial 53 finished with value: 0.9 and parameters: {'criterion': 'entropy', 'splitter': 'random', 'min_samples_split': 3, 'min_samples_leaf': 2, 'max_depth': 29}. Best is trial 39 with value: 0.96.\u001b[0m\n",
      "\u001b[32m[I 2022-06-04 19:14:28,983]\u001b[0m Trial 54 finished with value: 0.9 and parameters: {'criterion': 'entropy', 'splitter': 'random', 'min_samples_split': 3, 'min_samples_leaf': 3, 'max_depth': 23}. Best is trial 39 with value: 0.96.\u001b[0m\n",
      "\u001b[32m[I 2022-06-04 19:14:28,999]\u001b[0m Trial 55 finished with value: 0.8099999999999999 and parameters: {'criterion': 'gini', 'splitter': 'random', 'min_samples_split': 7, 'min_samples_leaf': 8, 'max_depth': 9}. Best is trial 39 with value: 0.96.\u001b[0m\n",
      "\u001b[32m[I 2022-06-04 19:14:29,016]\u001b[0m Trial 56 finished with value: 0.9199999999999999 and parameters: {'criterion': 'entropy', 'splitter': 'random', 'min_samples_split': 2, 'min_samples_leaf': 2, 'max_depth': 25}. Best is trial 39 with value: 0.96.\u001b[0m\n",
      "\u001b[32m[I 2022-06-04 19:14:29,032]\u001b[0m Trial 57 finished with value: 0.9200000000000002 and parameters: {'criterion': 'entropy', 'splitter': 'random', 'min_samples_split': 4, 'min_samples_leaf': 2, 'max_depth': 19}. Best is trial 39 with value: 0.96.\u001b[0m\n",
      "\u001b[32m[I 2022-06-04 19:14:29,048]\u001b[0m Trial 58 finished with value: 0.9 and parameters: {'criterion': 'entropy', 'splitter': 'random', 'min_samples_split': 5, 'min_samples_leaf': 3, 'max_depth': 12}. Best is trial 39 with value: 0.96.\u001b[0m\n",
      "\u001b[32m[I 2022-06-04 19:14:29,063]\u001b[0m Trial 59 finished with value: 0.8300000000000001 and parameters: {'criterion': 'entropy', 'splitter': 'random', 'min_samples_split': 3, 'min_samples_leaf': 9, 'max_depth': 15}. Best is trial 39 with value: 0.96.\u001b[0m\n",
      "\u001b[32m[I 2022-06-04 19:14:29,080]\u001b[0m Trial 60 finished with value: 0.9099999999999999 and parameters: {'criterion': 'entropy', 'splitter': 'best', 'min_samples_split': 10, 'min_samples_leaf': 3, 'max_depth': 8}. Best is trial 39 with value: 0.96.\u001b[0m\n",
      "\u001b[32m[I 2022-06-04 19:14:29,094]\u001b[0m Trial 61 finished with value: 0.93 and parameters: {'criterion': 'entropy', 'splitter': 'random', 'min_samples_split': 9, 'min_samples_leaf': 2, 'max_depth': 18}. Best is trial 39 with value: 0.96.\u001b[0m\n",
      "\u001b[32m[I 2022-06-04 19:14:29,109]\u001b[0m Trial 62 finished with value: 0.93 and parameters: {'criterion': 'entropy', 'splitter': 'best', 'min_samples_split': 7, 'min_samples_leaf': 2, 'max_depth': 27}. Best is trial 39 with value: 0.96.\u001b[0m\n",
      "\u001b[32m[I 2022-06-04 19:14:29,124]\u001b[0m Trial 63 finished with value: 0.9 and parameters: {'criterion': 'entropy', 'splitter': 'random', 'min_samples_split': 6, 'min_samples_leaf': 2, 'max_depth': 5}. Best is trial 39 with value: 0.96.\u001b[0m\n",
      "\u001b[32m[I 2022-06-04 19:14:29,140]\u001b[0m Trial 64 finished with value: 0.9200000000000002 and parameters: {'criterion': 'entropy', 'splitter': 'best', 'min_samples_split': 8, 'min_samples_leaf': 2, 'max_depth': 13}. Best is trial 39 with value: 0.96.\u001b[0m\n"
     ]
    },
    {
     "name": "stderr",
     "output_type": "stream",
     "text": [
      "\u001b[32m[I 2022-06-04 19:14:29,155]\u001b[0m Trial 65 finished with value: 0.8800000000000001 and parameters: {'criterion': 'gini', 'splitter': 'best', 'min_samples_split': 2, 'min_samples_leaf': 3, 'max_depth': 7}. Best is trial 39 with value: 0.96.\u001b[0m\n",
      "\u001b[32m[I 2022-06-04 19:14:29,171]\u001b[0m Trial 66 finished with value: 0.9200000000000002 and parameters: {'criterion': 'log_loss', 'splitter': 'random', 'min_samples_split': 8, 'min_samples_leaf': 2, 'max_depth': 10}. Best is trial 39 with value: 0.96.\u001b[0m\n",
      "\u001b[32m[I 2022-06-04 19:14:29,186]\u001b[0m Trial 67 finished with value: 0.9 and parameters: {'criterion': 'entropy', 'splitter': 'best', 'min_samples_split': 9, 'min_samples_leaf': 3, 'max_depth': 21}. Best is trial 39 with value: 0.96.\u001b[0m\n",
      "\u001b[32m[I 2022-06-04 19:14:29,204]\u001b[0m Trial 68 finished with value: 0.9100000000000001 and parameters: {'criterion': 'entropy', 'splitter': 'best', 'min_samples_split': 7, 'min_samples_leaf': 5, 'max_depth': 9}. Best is trial 39 with value: 0.96.\u001b[0m\n",
      "\u001b[32m[I 2022-06-04 19:14:29,220]\u001b[0m Trial 69 finished with value: 0.9199999999999999 and parameters: {'criterion': 'entropy', 'splitter': 'random', 'min_samples_split': 6, 'min_samples_leaf': 2, 'max_depth': 26}. Best is trial 39 with value: 0.96.\u001b[0m\n",
      "\u001b[32m[I 2022-06-04 19:14:29,235]\u001b[0m Trial 70 finished with value: 0.89 and parameters: {'criterion': 'entropy', 'splitter': 'best', 'min_samples_split': 10, 'min_samples_leaf': 6, 'max_depth': 17}. Best is trial 39 with value: 0.96.\u001b[0m\n",
      "\u001b[32m[I 2022-06-04 19:14:29,251]\u001b[0m Trial 71 finished with value: 0.9200000000000002 and parameters: {'criterion': 'entropy', 'splitter': 'best', 'min_samples_split': 7, 'min_samples_leaf': 2, 'max_depth': 8}. Best is trial 39 with value: 0.96.\u001b[0m\n",
      "\u001b[32m[I 2022-06-04 19:14:29,267]\u001b[0m Trial 72 finished with value: 0.93 and parameters: {'criterion': 'entropy', 'splitter': 'best', 'min_samples_split': 8, 'min_samples_leaf': 2, 'max_depth': 10}. Best is trial 39 with value: 0.96.\u001b[0m\n",
      "\u001b[32m[I 2022-06-04 19:14:29,283]\u001b[0m Trial 73 finished with value: 0.9100000000000001 and parameters: {'criterion': 'entropy', 'splitter': 'best', 'min_samples_split': 7, 'min_samples_leaf': 2, 'max_depth': 27}. Best is trial 39 with value: 0.96.\u001b[0m\n",
      "\u001b[32m[I 2022-06-04 19:14:29,302]\u001b[0m Trial 74 finished with value: 0.9 and parameters: {'criterion': 'entropy', 'splitter': 'best', 'min_samples_split': 8, 'min_samples_leaf': 3, 'max_depth': 14}. Best is trial 39 with value: 0.96.\u001b[0m\n",
      "\u001b[32m[I 2022-06-04 19:14:29,319]\u001b[0m Trial 75 finished with value: 0.9400000000000001 and parameters: {'criterion': 'entropy', 'splitter': 'best', 'min_samples_split': 9, 'min_samples_leaf': 2, 'max_depth': 6}. Best is trial 39 with value: 0.96.\u001b[0m\n",
      "\u001b[32m[I 2022-06-04 19:14:29,336]\u001b[0m Trial 76 finished with value: 0.9099999999999999 and parameters: {'criterion': 'entropy', 'splitter': 'best', 'min_samples_split': 9, 'min_samples_leaf': 3, 'max_depth': 5}. Best is trial 39 with value: 0.96.\u001b[0m\n",
      "\u001b[32m[I 2022-06-04 19:14:29,350]\u001b[0m Trial 77 finished with value: 0.9099999999999999 and parameters: {'criterion': 'entropy', 'splitter': 'random', 'min_samples_split': 9, 'min_samples_leaf': 2, 'max_depth': 6}. Best is trial 39 with value: 0.96.\u001b[0m\n",
      "\u001b[32m[I 2022-06-04 19:14:29,366]\u001b[0m Trial 78 finished with value: 0.9099999999999999 and parameters: {'criterion': 'log_loss', 'splitter': 'best', 'min_samples_split': 10, 'min_samples_leaf': 3, 'max_depth': 7}. Best is trial 39 with value: 0.96.\u001b[0m\n",
      "\u001b[32m[I 2022-06-04 19:14:29,383]\u001b[0m Trial 79 finished with value: 0.8300000000000001 and parameters: {'criterion': 'gini', 'splitter': 'random', 'min_samples_split': 9, 'min_samples_leaf': 2, 'max_depth': 32}. Best is trial 39 with value: 0.96.\u001b[0m\n",
      "\u001b[32m[I 2022-06-04 19:14:29,401]\u001b[0m Trial 80 finished with value: 0.9400000000000001 and parameters: {'criterion': 'entropy', 'splitter': 'best', 'min_samples_split': 9, 'min_samples_leaf': 2, 'max_depth': 12}. Best is trial 39 with value: 0.96.\u001b[0m\n",
      "\u001b[32m[I 2022-06-04 19:14:29,418]\u001b[0m Trial 81 finished with value: 0.9400000000000001 and parameters: {'criterion': 'entropy', 'splitter': 'best', 'min_samples_split': 9, 'min_samples_leaf': 2, 'max_depth': 16}. Best is trial 39 with value: 0.96.\u001b[0m\n",
      "\u001b[32m[I 2022-06-04 19:14:29,438]\u001b[0m Trial 82 finished with value: 0.9400000000000001 and parameters: {'criterion': 'entropy', 'splitter': 'best', 'min_samples_split': 9, 'min_samples_leaf': 2, 'max_depth': 12}. Best is trial 39 with value: 0.96.\u001b[0m\n",
      "\u001b[32m[I 2022-06-04 19:14:29,456]\u001b[0m Trial 83 finished with value: 0.9400000000000001 and parameters: {'criterion': 'entropy', 'splitter': 'best', 'min_samples_split': 9, 'min_samples_leaf': 2, 'max_depth': 12}. Best is trial 39 with value: 0.96.\u001b[0m\n",
      "\u001b[32m[I 2022-06-04 19:14:29,474]\u001b[0m Trial 84 finished with value: 0.93 and parameters: {'criterion': 'entropy', 'splitter': 'best', 'min_samples_split': 10, 'min_samples_leaf': 2, 'max_depth': 14}. Best is trial 39 with value: 0.96.\u001b[0m\n",
      "\u001b[32m[I 2022-06-04 19:14:29,491]\u001b[0m Trial 85 finished with value: 0.9 and parameters: {'criterion': 'entropy', 'splitter': 'best', 'min_samples_split': 9, 'min_samples_leaf': 3, 'max_depth': 12}. Best is trial 39 with value: 0.96.\u001b[0m\n",
      "\u001b[32m[I 2022-06-04 19:14:29,507]\u001b[0m Trial 86 finished with value: 0.9100000000000001 and parameters: {'criterion': 'entropy', 'splitter': 'best', 'min_samples_split': 8, 'min_samples_leaf': 2, 'max_depth': 4}. Best is trial 39 with value: 0.96.\u001b[0m\n",
      "\u001b[32m[I 2022-06-04 19:14:29,524]\u001b[0m Trial 87 finished with value: 0.9200000000000002 and parameters: {'criterion': 'entropy', 'splitter': 'best', 'min_samples_split': 10, 'min_samples_leaf': 2, 'max_depth': 12}. Best is trial 39 with value: 0.96.\u001b[0m\n",
      "\u001b[32m[I 2022-06-04 19:14:29,541]\u001b[0m Trial 88 finished with value: 0.9099999999999999 and parameters: {'criterion': 'entropy', 'splitter': 'best', 'min_samples_split': 9, 'min_samples_leaf': 3, 'max_depth': 17}. Best is trial 39 with value: 0.96.\u001b[0m\n",
      "\u001b[32m[I 2022-06-04 19:14:29,557]\u001b[0m Trial 89 finished with value: 0.9100000000000001 and parameters: {'criterion': 'entropy', 'splitter': 'random', 'min_samples_split': 9, 'min_samples_leaf': 2, 'max_depth': 11}. Best is trial 39 with value: 0.96.\u001b[0m\n",
      "\u001b[32m[I 2022-06-04 19:14:29,573]\u001b[0m Trial 90 finished with value: 0.9 and parameters: {'criterion': 'entropy', 'splitter': 'best', 'min_samples_split': 8, 'min_samples_leaf': 4, 'max_depth': 16}. Best is trial 39 with value: 0.96.\u001b[0m\n",
      "\u001b[32m[I 2022-06-04 19:14:29,589]\u001b[0m Trial 91 finished with value: 0.9200000000000002 and parameters: {'criterion': 'entropy', 'splitter': 'best', 'min_samples_split': 4, 'min_samples_leaf': 2, 'max_depth': 6}. Best is trial 39 with value: 0.96.\u001b[0m\n",
      "\u001b[32m[I 2022-06-04 19:14:29,606]\u001b[0m Trial 92 finished with value: 0.93 and parameters: {'criterion': 'entropy', 'splitter': 'best', 'min_samples_split': 9, 'min_samples_leaf': 2, 'max_depth': 13}. Best is trial 39 with value: 0.96.\u001b[0m\n",
      "\u001b[32m[I 2022-06-04 19:14:29,623]\u001b[0m Trial 93 finished with value: 0.9200000000000002 and parameters: {'criterion': 'entropy', 'splitter': 'best', 'min_samples_split': 9, 'min_samples_leaf': 2, 'max_depth': 15}. Best is trial 39 with value: 0.96.\u001b[0m\n",
      "\u001b[32m[I 2022-06-04 19:14:29,640]\u001b[0m Trial 94 finished with value: 0.93 and parameters: {'criterion': 'entropy', 'splitter': 'best', 'min_samples_split': 9, 'min_samples_leaf': 2, 'max_depth': 14}. Best is trial 39 with value: 0.96.\u001b[0m\n",
      "\u001b[32m[I 2022-06-04 19:14:29,657]\u001b[0m Trial 95 finished with value: 0.9200000000000002 and parameters: {'criterion': 'entropy', 'splitter': 'best', 'min_samples_split': 5, 'min_samples_leaf': 2, 'max_depth': 19}. Best is trial 39 with value: 0.96.\u001b[0m\n",
      "\u001b[32m[I 2022-06-04 19:14:29,674]\u001b[0m Trial 96 finished with value: 0.93 and parameters: {'criterion': 'entropy', 'splitter': 'best', 'min_samples_split': 10, 'min_samples_leaf': 2, 'max_depth': 21}. Best is trial 39 with value: 0.96.\u001b[0m\n",
      "\u001b[32m[I 2022-06-04 19:14:29,691]\u001b[0m Trial 97 finished with value: 0.8800000000000001 and parameters: {'criterion': 'log_loss', 'splitter': 'random', 'min_samples_split': 3, 'min_samples_leaf': 3, 'max_depth': 11}. Best is trial 39 with value: 0.96.\u001b[0m\n",
      "\u001b[32m[I 2022-06-04 19:14:29,707]\u001b[0m Trial 98 finished with value: 0.9199999999999999 and parameters: {'criterion': 'entropy', 'splitter': 'random', 'min_samples_split': 9, 'min_samples_leaf': 2, 'max_depth': 9}. Best is trial 39 with value: 0.96.\u001b[0m\n"
     ]
    },
    {
     "name": "stderr",
     "output_type": "stream",
     "text": [
      "\u001b[32m[I 2022-06-04 19:14:29,724]\u001b[0m Trial 99 finished with value: 0.8699999999999999 and parameters: {'criterion': 'gini', 'splitter': 'random', 'min_samples_split': 10, 'min_samples_leaf': 3, 'max_depth': 10}. Best is trial 39 with value: 0.96.\u001b[0m\n"
     ]
    },
    {
     "name": "stdout",
     "output_type": "stream",
     "text": [
      "\u001b[32mTraining is done, evaluation score = 0.98\u001b[0m\n",
      "\u001b[33mCombination Data \"version1\" and Model \"dfc_v3\" already exist, with evaluation score = 0.98\u001b[0m\n"
     ]
    },
    {
     "name": "stderr",
     "output_type": "stream",
     "text": [
      "C:\\Users\\Romeo\\anaconda3\\lib\\site-packages\\sklearn\\utils\\deprecation.py:103: FutureWarning: The attribute `n_features_` is deprecated in 1.0 and will be removed in 1.2. Use `n_features_in_` instead.\n",
      "  warnings.warn(msg, category=FutureWarning)\n"
     ]
    },
    {
     "name": "stdout",
     "output_type": "stream",
     "text": [
      "\u001b[32mData \"version1\" had been successfully extracted\u001b[0m\n",
      "old                                              | new\n",
      "------------------------------------------------ | ------------------------------------------------\n",
      "|--- calmer_stressed_STRESSED <= 0.50            | |--- calmer_stressed_CALMER <= 0.10\n",
      "|   |--- RM_better_work_life_balance <= 3.50     | |   |--- RM_job_opportunities_Yes <= 0.85\n",
      "|   |   |--- Occupation_Engineer <= 0.50         | |   |   |--- class: 0\n",
      "|   |   |   |--- RM_quality_time_Yes <= 0.50     | |   |--- RM_job_opportunities_Yes >  0.85\n",
      "|   |   |   |   |--- class: 1                    | |   |   |--- Gender_Female <= 0.93\n",
      "|   |   |   |--- RM_quality_time_Yes >  0.50     | |   |   |   |--- RM_productive <= 3.22\n",
      "|   |   |   |   |--- class: 0                    | |   |   |   |   |--- class: 0\n",
      "|   |   |--- Occupation_Engineer >  0.50         | |   |   |   |--- RM_productive >  3.22\n",
      "|   |   |   |--- class: 1                        | |   |   |   |   |--- class: 1\n",
      "|   |--- RM_better_work_life_balance >  3.50     | |   |   |--- Gender_Female >  0.93\n",
      "|   |   |--- class: 1                            | |   |   |   |--- kids_Yes <= 0.71\n",
      "|--- calmer_stressed_STRESSED >  0.50            | |   |   |   |   |--- class: 0\n",
      "|   |--- RM_job_opportunities_Yes <= 0.50        | |   |   |   |--- kids_Yes >  0.71\n",
      "|   |   |--- class: 0                            | |   |   |   |   |--- Age <= 36.73\n",
      "|   |--- RM_job_opportunities_Yes >  0.50        | |   |   |   |   |   |--- class: 1\n",
      "|   |   |--- Gender_Male <= 0.50                 | |   |   |   |   |--- Age >  36.73\n",
      "|   |   |   |--- kids_No <= 0.50                 | |   |   |   |   |   |--- class: 0\n",
      "|   |   |   |   |--- class: 0                    | |--- calmer_stressed_CALMER >  0.10\n",
      "|   |   |   |--- kids_No >  0.50                 | |   |--- digital_connect_sufficient_Yes <= 0.22\n",
      "|   |   |   |   |--- class: 0                    | |   |   |--- RM_better_work_life_balance <= 3.08\n",
      "|   |   |--- Gender_Male >  0.50                 | |   |   |   |--- RM_quality_time_Yes <= 0.41\n",
      "|   |   |   |--- RM_lazy <= 3.50                 | |   |   |   |   |--- class: 1\n",
      "|   |   |   |   |--- class: 1                    | |   |   |   |--- RM_quality_time_Yes >  0.41\n",
      "|   |   |   |--- RM_lazy >  3.50                 | |   |   |   |   |--- Occupation_Engineer <= 0.44\n",
      "|   |   |   |   |--- class: 0                    | |   |   |   |   |   |--- class: 0\n",
      "                                                 | |   |   |   |   |--- Occupation_Engineer >  0.44\n",
      "                                                 | |   |   |   |   |   |--- class: 1\n",
      "                                                 | |   |   |--- RM_better_work_life_balance >  3.08\n",
      "                                                 | |   |   |   |--- class: 1\n",
      "                                                 | |   |--- digital_connect_sufficient_Yes >  0.22\n",
      "                                                 | |   |   |--- class: 1\n",
      "                                                 | \n"
     ]
    },
    {
     "data": {
      "image/png": "[encoded data removed]",
      "text/plain": [
       "<Figure size 1440x720 with 2 Axes>"
      ]
     },
     "metadata": {
      "needs_background": "light"
     },
     "output_type": "display_data"
    }
   ],
   "source": [
    "# Data preparation\n",
    "data_name = 'version1'\n",
    "\n",
    "# Model preparation\n",
    "model_name = \"dfc_v3\"\n",
    "model = DecisionTreeClassifier()\n",
    "\n",
    "# Train\n",
    "orpheusDT.train(data_name, model_name, model)\n",
    "\n",
    "# show difference\n",
    "orpheusDT.show_diff(data_name)\n"
   ]
  },
  {
   "cell_type": "markdown",
   "id": "b9962cdb",
   "metadata": {},
   "source": [
    "## Based on one existing data, view all the model that had trained on it\n",
    "## The model is ordered by evaluation score\n",
    "orpheusDT.view_all_model(data_name)\n"
   ]
  },
  {
   "cell_type": "code",
   "execution_count": 47,
   "id": "e223276d",
   "metadata": {},
   "outputs": [
    {
     "name": "stdout",
     "output_type": "stream",
     "text": [
      "There are totally 3 models correspond to \"version1\"\n",
      "{'model_name': 'dfc_v3', 'evaluation_score': 0.98}\n",
      "{'model_name': 'dfc_v1', 'evaluation_score': 0.97}\n",
      "{'model_name': 'dfc_v2', 'evaluation_score': 0.97}\n"
     ]
    }
   ],
   "source": [
    "data_name = 'version1'\n",
    "orpheusDT.view_all_model(data_name)\n"
   ]
  },
  {
   "cell_type": "markdown",
   "id": "8557795f",
   "metadata": {},
   "source": [
    "## View all the data that saved in database\n",
    "orpheusDT.view_all_data()\n",
    "\n"
   ]
  },
  {
   "cell_type": "code",
   "execution_count": 48,
   "id": "c26fc7a6",
   "metadata": {},
   "outputs": [
    {
     "name": "stdout",
     "output_type": "stream",
     "text": [
      "There are totally 3 datasets under the task \"WFH_WFO\"\n",
      "{'data_name': 'version1'}\n",
      "{'data_name': 'version2'}\n",
      "{'data_name': 'version5'}\n"
     ]
    }
   ],
   "source": [
    "orpheusDT.view_all_data()\n"
   ]
  },
  {
   "cell_type": "markdown",
   "id": "99b3574c",
   "metadata": {},
   "source": [
    "## Delete specified data or set data_name to \"all\" to delete all data\n",
    "orpheus_instance.delete_data(deleted_data_name)\n"
   ]
  },
  {
   "cell_type": "code",
   "execution_count": 49,
   "id": "5601a443",
   "metadata": {},
   "outputs": [
    {
     "name": "stdout",
     "output_type": "stream",
     "text": [
      "There are totally 3 datasets under the task \"WFH_WFO\"\n",
      "{'data_name': 'version1'}\n",
      "{'data_name': 'version2'}\n",
      "{'data_name': 'version5'}\n",
      "\u001b[32mData version1 have been removed\u001b[0m\n",
      "There are totally 2 datasets under the task \"WFH_WFO\"\n",
      "{'data_name': 'version2'}\n",
      "{'data_name': 'version5'}\n"
     ]
    }
   ],
   "source": [
    "deleted_data_name = 'version1'\n",
    "\n",
    "orpheusDT.view_all_data()\n",
    "orpheusDT.delete_data(deleted_data_name)\n",
    "orpheusDT.view_all_data()"
   ]
  },
  {
   "cell_type": "code",
   "execution_count": null,
   "id": "e18e822e",
   "metadata": {},
   "outputs": [
    {
     "name": "stdout",
     "output_type": "stream",
     "text": [
      "Age\n"
     ]
    }
   ],
   "source": [
    "new_row = {}\n",
    "for i in data_versions[data_name][0].columns:\n",
    "    print(i)\n",
    "    new_row[i] = int(input())"
   ]
  },
  {
   "cell_type": "code",
   "execution_count": null,
   "id": "34a882ff",
   "metadata": {},
   "outputs": [],
   "source": [
    "new_row_pandas = pd.Series(new_row).to_frame().T"
   ]
  },
  {
   "cell_type": "code",
   "execution_count": null,
   "id": "ff29c3b1",
   "metadata": {},
   "outputs": [],
   "source": [
    "new_row_pandas"
   ]
  },
  {
   "cell_type": "markdown",
   "id": "082f42b1",
   "metadata": {},
   "source": [
    "## Fixed input, show different models' prediction\n"
   ]
  },
  {
   "cell_type": "code",
   "execution_count": null,
   "id": "4d7fbb05",
   "metadata": {},
   "outputs": [],
   "source": [
    "orpheusDT.view_models_with_input(new_row_pandas, [\"dfc_v1\", \"dfc_v2\"])\n"
   ]
  },
  {
   "cell_type": "markdown",
   "id": "802f57e0",
   "metadata": {},
   "source": [
    "## Manually Save data to database\n"
   ]
  },
  {
   "cell_type": "code",
   "execution_count": null,
   "id": "726b4142",
   "metadata": {},
   "outputs": [],
   "source": [
    "# Data preparation\n",
    "data_name = 'version5'\n",
    "X = data_versions[data_name][0]\n",
    "y = data_versions[data_name][1]\n",
    "\n",
    "\n",
    "orpheusDT.save_Data_to_DB(data_name, X, y)\n"
   ]
  },
  {
   "cell_type": "markdown",
   "id": "cdd22484",
   "metadata": {},
   "source": [
    "## Restore database by snapshot\n"
   ]
  },
  {
   "cell_type": "code",
   "execution_count": null,
   "id": "4c9afe6c",
   "metadata": {},
   "outputs": [],
   "source": [
    "orpheusDT.restore_DB()\n"
   ]
  }
 ],
 "metadata": {
  "kernelspec": {
   "display_name": "Python 3 (ipykernel)",
   "language": "python",
   "name": "python3"
  },
  "language_info": {
   "codemirror_mode": {
    "name": "ipython",
    "version": 3
   },
   "file_extension": ".py",
   "mimetype": "text/x-python",
   "name": "python",
   "nbconvert_exporter": "python",
   "pygments_lexer": "ipython3",
   "version": "3.9.7"
  }
 },
 "nbformat": 4,
 "nbformat_minor": 5
}
