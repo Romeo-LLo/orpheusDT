{
 "cells": [
  {
   "cell_type": "code",
   "execution_count": null,
   "metadata": {
    "collapsed": true
   },
   "outputs": [],
   "source": [
    "import pandas as pd\n",
    "from orpheus import OrpheusDT\n",
    "from sklearn.tree import DecisionTreeClassifier"
   ]
  },
  {
   "cell_type": "code",
   "execution_count": null,
   "metadata": {
    "pycharm": {
     "name": "#%%\n"
    }
   },
   "outputs": [],
   "source": [
    "# Preprocess Data\n",
    "\n",
    "data_path = './WFH_WFO_dataset.csv'\n",
    "target = 'Target'\n",
    "\n",
    "df = pd.read_csv(data_path)\n",
    "features = list(df.columns)\n",
    "features.remove(target)\n",
    "\n",
    "\n",
    "# arow = X.loc[0].to_frame().T\n"
   ]
  },
  {
   "cell_type": "code",
   "execution_count": null,
   "metadata": {
    "pycharm": {
     "name": "#%%\n"
    }
   },
   "outputs": [],
   "source": [
    "# Instance our class with your task name and your name"
   ]
  },
  {
   "cell_type": "code",
   "execution_count": null,
   "metadata": {
    "pycharm": {
     "name": "#%%\n"
    }
   },
   "outputs": [],
   "source": [
    "orpheus_instance = Orpheus(\n",
    "    \"WFH_WFO\",\n",
    "    \"Alex\",\n",
    ")"
   ]
  },
  {
   "cell_type": "code",
   "execution_count": null,
   "metadata": {
    "pycharm": {
     "name": "#%%\n"
    }
   },
   "outputs": [],
   "source": [
    "'''\n",
    "There are 4 training mode\n",
    "1. new data + new model\n",
    "     orpheus_instance.train(data_name, X, y, model_name, model)\n",
    "\n",
    "2. new data + existed model\n",
    "     orpheus_instance.train(data_name, X, y, model_name)\n",
    "\n",
    "3. existed data + new model\n",
    "     orpheus_instance.train(data_name, model_name, model)\n",
    "\n",
    "4. existed data + existed model\n",
    "     orpheus_instance.train(data_name, model_name)\n",
    "\n",
    "'''"
   ]
  },
  {
   "cell_type": "code",
   "execution_count": null,
   "metadata": {
    "pycharm": {
     "name": "#%%\n"
    }
   },
   "outputs": [],
   "source": [
    "## 1. new data + new model\n",
    "\n",
    "# Data preparation\n",
    "data_name = 'WFH_WFO_dataset_v1'\n",
    "X, y = pd.get_dummies(df[features]), df[target]\n",
    "\n",
    "# Model preparation\n",
    "model_name = \"dfc_v1\"\n",
    "model = DecisionTreeClassifier()\n",
    "\n",
    "# Train\n",
    "orpheus_instance.train(data_name, X, y, model_name, model)\n",
    "\n"
   ]
  },
  {
   "cell_type": "code",
   "execution_count": null,
   "metadata": {
    "pycharm": {
     "name": "#%%\n"
    }
   },
   "outputs": [],
   "source": [
    "    ### 2. new data + existed model\n"
   ]
  },
  {
   "cell_type": "code",
   "execution_count": null,
   "metadata": {
    "pycharm": {
     "name": "#%%\n"
    }
   },
   "outputs": [],
   "source": []
  },
  {
   "cell_type": "markdown",
   "metadata": {},
   "source": []
  }
 ],
 "metadata": {
  "kernelspec": {
   "display_name": "Python 3 (ipykernel)",
   "language": "python",
   "name": "python3"
  },
  "language_info": {
   "codemirror_mode": {
    "name": "ipython",
    "version": 3
   },
   "file_extension": ".py",
   "mimetype": "text/x-python",
   "name": "python",
   "nbconvert_exporter": "python",
   "pygments_lexer": "ipython3",
   "version": "3.9.7"
  }
 },
 "nbformat": 4,
 "nbformat_minor": 1
}
