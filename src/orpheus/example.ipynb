{
 "cells": [
  {
   "cell_type": "code",
   "execution_count": 1,
   "metadata": {},
   "outputs": [],
   "source": [
    "from db import DatabaseManager"
   ]
  },
  {
   "cell_type": "code",
   "execution_count": 2,
   "metadata": {},
   "outputs": [
    {
     "name": "stdout",
     "output_type": "stream",
     "text": [
      "\u001b[33mNote: Database mnist not exists. Creating a new one ...\u001b[0m\n"
     ]
    }
   ],
   "source": [
    "db = DatabaseManager(dbname='mnist')"
   ]
  },
  {
   "cell_type": "code",
   "execution_count": 3,
   "metadata": {},
   "outputs": [],
   "source": [
    "item_1 = {\n",
    "    \"_id\" : \"001\",\n",
    "    \"item_name\" : \"egg\",\n",
    "    \"price\" : 340,\n",
    "    \"category\" : \"food\"\n",
    "}\n",
    "\n",
    "item_2 = {\n",
    "    \"_id\" : \"002\",\n",
    "    \"item_name\" : \"tomato\",\n",
    "    \"price\" : 36,\n",
    "    \"category\" : \"food\",\n",
    "}\n",
    "\n",
    "item_3 = {\n",
    "    \"_id\" : \"003\",\n",
    "    \"item_name\" : \"blender\",\n",
    "    \"price\" : 350,\n",
    "    \"category\" : \"utility\",\n",
    "}\n"
   ]
  },
  {
   "cell_type": "code",
   "execution_count": 4,
   "metadata": {},
   "outputs": [
    {
     "data": {
      "text/plain": [
       "<pymongo.results.InsertManyResult at 0x107eb9040>"
      ]
     },
     "execution_count": 4,
     "metadata": {},
     "output_type": "execute_result"
    }
   ],
   "source": [
    "db.dataset.insert_many([item_1, item_2])"
   ]
  },
  {
   "cell_type": "code",
   "execution_count": 5,
   "metadata": {},
   "outputs": [
    {
     "name": "stdout",
     "output_type": "stream",
     "text": [
      "{'_id': '001', 'item_name': 'egg', 'price': 340, 'category': 'food'}\n",
      "{'_id': '002', 'item_name': 'tomato', 'price': 36, 'category': 'food'}\n"
     ]
    }
   ],
   "source": [
    "item_details = db.dataset.find({\"category\": 'food'})\n",
    "for item in item_details:\n",
    "    print(item)"
   ]
  },
  {
   "cell_type": "code",
   "execution_count": 6,
   "metadata": {},
   "outputs": [
    {
     "name": "stdout",
     "output_type": "stream",
     "text": [
      "Current database dropped successfully.\u001b[0m\n"
     ]
    }
   ],
   "source": [
    "db.drop_database()"
   ]
  }
 ],
 "metadata": {
  "interpreter": {
   "hash": "aee8b7b246df8f9039afb4144a1f6fd8d2ca17a180786b69acc140d282b71a49"
  },
  "kernelspec": {
   "display_name": "Python 3.9.7 64-bit",
   "language": "python",
   "name": "python3"
  },
  "language_info": {
   "codemirror_mode": {
    "name": "ipython",
    "version": 3
   },
   "file_extension": ".py",
   "mimetype": "text/x-python",
   "name": "python",
   "nbconvert_exporter": "python",
   "pygments_lexer": "ipython3",
   "version": "3.9.7"
  },
  "orig_nbformat": 4
 },
 "nbformat": 4,
 "nbformat_minor": 2
}
